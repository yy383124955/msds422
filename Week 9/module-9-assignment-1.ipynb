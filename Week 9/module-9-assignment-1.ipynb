{
 "cells": [
  {
   "cell_type": "markdown",
   "id": "dde96fe7",
   "metadata": {},
   "source": [
    "# MSDS 422 - Module 9 Assignment 1\n",
    "## Yue Yu\n",
    "github: https://github.com/yy383124955/msds422/tree/main/Week%209\n"
   ]
  },
  {
   "cell_type": "code",
   "execution_count": 1,
   "id": "857f6c32",
   "metadata": {},
   "outputs": [
    {
     "name": "stderr",
     "output_type": "stream",
     "text": [
      "[nltk_data] Downloading package stopwords to\n",
      "[nltk_data]     C:\\Users\\CookfishII\\AppData\\Roaming\\nltk_data...\n",
      "[nltk_data]   Package stopwords is already up-to-date!\n",
      "[nltk_data] Downloading package punkt to\n",
      "[nltk_data]     C:\\Users\\CookfishII\\AppData\\Roaming\\nltk_data...\n",
      "[nltk_data]   Package punkt is already up-to-date!\n",
      "[nltk_data] Downloading package wordnet to\n",
      "[nltk_data]     C:\\Users\\CookfishII\\AppData\\Roaming\\nltk_data...\n",
      "[nltk_data]   Package wordnet is already up-to-date!\n"
     ]
    }
   ],
   "source": [
    "import pandas as pd\n",
    "import numpy as np\n",
    "import matplotlib.pyplot as plt\n",
    "import seaborn as sns\n",
    "import re\n",
    "import string\n",
    "import nltk \n",
    "nltk.download('stopwords')\n",
    "nltk.download('punkt')\n",
    "nltk.download('wordnet')\n",
    "from nltk.tokenize import RegexpTokenizer\n",
    "from nltk.stem import WordNetLemmatizer,PorterStemmer\n",
    "from nltk.corpus import stopwords\n",
    "from collections import Counter\n",
    "from sklearn import feature_extraction, model_selection, metrics, preprocessing, ensemble, model_selection, metrics\n",
    "from sklearn.feature_extraction.text import CountVectorizer\n",
    "from keras.layers import Activation, Dense, GRU, Concatenate, GlobalMaxPooling1D, Embedding\n",
    "from tensorflow.keras.models import Sequential, load_model\n",
    "from keras.metrics import AUC\n",
    "from keras import optimizers, losses\n",
    "import tensorflow as tf\n",
    "from tensorflow.keras.models import Model\n",
    "from tensorflow.keras.preprocessing.text import Tokenizer\n",
    "from tensorflow.keras.preprocessing.sequence import pad_sequences\n",
    "from tensorflow.keras.layers import Conv1D, Bidirectional, LSTM, Dense, Dropout, Input,TextVectorization\n",
    "from tensorflow.keras.optimizers import Adam\n",
    "from tensorflow.keras.regularizers import L1L2\n",
    "from datetime import datetime\n",
    "import transformers\n",
    "from transformers import BertTokenizer, TFBertForSequenceClassification\n",
    "\n",
    "lemmatizer = WordNetLemmatizer()\n",
    "stemmer = PorterStemmer() \n"
   ]
  },
  {
   "cell_type": "code",
   "execution_count": 2,
   "id": "d68ab564",
   "metadata": {},
   "outputs": [],
   "source": [
    "# Load data\n",
    "df_train = pd.read_csv('train.csv')\n",
    "df_test = pd.read_csv('test.csv')"
   ]
  },
  {
   "cell_type": "code",
   "execution_count": 3,
   "id": "bee04458",
   "metadata": {},
   "outputs": [
    {
     "data": {
      "text/html": [
       "<div>\n",
       "<style scoped>\n",
       "    .dataframe tbody tr th:only-of-type {\n",
       "        vertical-align: middle;\n",
       "    }\n",
       "\n",
       "    .dataframe tbody tr th {\n",
       "        vertical-align: top;\n",
       "    }\n",
       "\n",
       "    .dataframe thead th {\n",
       "        text-align: right;\n",
       "    }\n",
       "</style>\n",
       "<table border=\"1\" class=\"dataframe\">\n",
       "  <thead>\n",
       "    <tr style=\"text-align: right;\">\n",
       "      <th></th>\n",
       "      <th>id</th>\n",
       "      <th>keyword</th>\n",
       "      <th>location</th>\n",
       "      <th>text</th>\n",
       "      <th>target</th>\n",
       "    </tr>\n",
       "  </thead>\n",
       "  <tbody>\n",
       "    <tr>\n",
       "      <th>0</th>\n",
       "      <td>1</td>\n",
       "      <td>NaN</td>\n",
       "      <td>NaN</td>\n",
       "      <td>Our Deeds are the Reason of this #earthquake M...</td>\n",
       "      <td>1</td>\n",
       "    </tr>\n",
       "    <tr>\n",
       "      <th>1</th>\n",
       "      <td>4</td>\n",
       "      <td>NaN</td>\n",
       "      <td>NaN</td>\n",
       "      <td>Forest fire near La Ronge Sask. Canada</td>\n",
       "      <td>1</td>\n",
       "    </tr>\n",
       "    <tr>\n",
       "      <th>2</th>\n",
       "      <td>5</td>\n",
       "      <td>NaN</td>\n",
       "      <td>NaN</td>\n",
       "      <td>All residents asked to 'shelter in place' are ...</td>\n",
       "      <td>1</td>\n",
       "    </tr>\n",
       "    <tr>\n",
       "      <th>3</th>\n",
       "      <td>6</td>\n",
       "      <td>NaN</td>\n",
       "      <td>NaN</td>\n",
       "      <td>13,000 people receive #wildfires evacuation or...</td>\n",
       "      <td>1</td>\n",
       "    </tr>\n",
       "    <tr>\n",
       "      <th>4</th>\n",
       "      <td>7</td>\n",
       "      <td>NaN</td>\n",
       "      <td>NaN</td>\n",
       "      <td>Just got sent this photo from Ruby #Alaska as ...</td>\n",
       "      <td>1</td>\n",
       "    </tr>\n",
       "    <tr>\n",
       "      <th>...</th>\n",
       "      <td>...</td>\n",
       "      <td>...</td>\n",
       "      <td>...</td>\n",
       "      <td>...</td>\n",
       "      <td>...</td>\n",
       "    </tr>\n",
       "    <tr>\n",
       "      <th>7608</th>\n",
       "      <td>10869</td>\n",
       "      <td>NaN</td>\n",
       "      <td>NaN</td>\n",
       "      <td>Two giant cranes holding a bridge collapse int...</td>\n",
       "      <td>1</td>\n",
       "    </tr>\n",
       "    <tr>\n",
       "      <th>7609</th>\n",
       "      <td>10870</td>\n",
       "      <td>NaN</td>\n",
       "      <td>NaN</td>\n",
       "      <td>@aria_ahrary @TheTawniest The out of control w...</td>\n",
       "      <td>1</td>\n",
       "    </tr>\n",
       "    <tr>\n",
       "      <th>7610</th>\n",
       "      <td>10871</td>\n",
       "      <td>NaN</td>\n",
       "      <td>NaN</td>\n",
       "      <td>M1.94 [01:04 UTC]?5km S of Volcano Hawaii. htt...</td>\n",
       "      <td>1</td>\n",
       "    </tr>\n",
       "    <tr>\n",
       "      <th>7611</th>\n",
       "      <td>10872</td>\n",
       "      <td>NaN</td>\n",
       "      <td>NaN</td>\n",
       "      <td>Police investigating after an e-bike collided ...</td>\n",
       "      <td>1</td>\n",
       "    </tr>\n",
       "    <tr>\n",
       "      <th>7612</th>\n",
       "      <td>10873</td>\n",
       "      <td>NaN</td>\n",
       "      <td>NaN</td>\n",
       "      <td>The Latest: More Homes Razed by Northern Calif...</td>\n",
       "      <td>1</td>\n",
       "    </tr>\n",
       "  </tbody>\n",
       "</table>\n",
       "<p>7613 rows × 5 columns</p>\n",
       "</div>"
      ],
      "text/plain": [
       "         id keyword location  \\\n",
       "0         1     NaN      NaN   \n",
       "1         4     NaN      NaN   \n",
       "2         5     NaN      NaN   \n",
       "3         6     NaN      NaN   \n",
       "4         7     NaN      NaN   \n",
       "...     ...     ...      ...   \n",
       "7608  10869     NaN      NaN   \n",
       "7609  10870     NaN      NaN   \n",
       "7610  10871     NaN      NaN   \n",
       "7611  10872     NaN      NaN   \n",
       "7612  10873     NaN      NaN   \n",
       "\n",
       "                                                   text  target  \n",
       "0     Our Deeds are the Reason of this #earthquake M...       1  \n",
       "1                Forest fire near La Ronge Sask. Canada       1  \n",
       "2     All residents asked to 'shelter in place' are ...       1  \n",
       "3     13,000 people receive #wildfires evacuation or...       1  \n",
       "4     Just got sent this photo from Ruby #Alaska as ...       1  \n",
       "...                                                 ...     ...  \n",
       "7608  Two giant cranes holding a bridge collapse int...       1  \n",
       "7609  @aria_ahrary @TheTawniest The out of control w...       1  \n",
       "7610  M1.94 [01:04 UTC]?5km S of Volcano Hawaii. htt...       1  \n",
       "7611  Police investigating after an e-bike collided ...       1  \n",
       "7612  The Latest: More Homes Razed by Northern Calif...       1  \n",
       "\n",
       "[7613 rows x 5 columns]"
      ]
     },
     "execution_count": 3,
     "metadata": {},
     "output_type": "execute_result"
    }
   ],
   "source": [
    "df_train"
   ]
  },
  {
   "cell_type": "code",
   "execution_count": 4,
   "id": "7bf1fa36",
   "metadata": {},
   "outputs": [],
   "source": [
    "# Setup text preprocess function \n",
    "def preprocess(sentence):\n",
    "    sentence=str(sentence)\n",
    "    sentence = sentence.lower()\n",
    "    sentence=sentence.replace('{html}',\"\") \n",
    "    cleanr = re.compile('<.*?>')\n",
    "    cleantext = re.sub(cleanr, '', sentence)\n",
    "    rem_url=re.sub(r'http\\S+', '',cleantext)\n",
    "    rem_num = re.sub('[0-9]+', '', rem_url)\n",
    "    tokenizer = RegexpTokenizer(r'\\w+')\n",
    "    tokens = tokenizer.tokenize(rem_num)  \n",
    "    filtered_words = [w for w in tokens if len(w) > 2 if not w in stopwords.words('english')]\n",
    "    stem_words=[stemmer.stem(w) for w in filtered_words]\n",
    "    lemma_words=[lemmatizer.lemmatize(w) for w in stem_words]\n",
    "    return \" \".join(filtered_words)"
   ]
  },
  {
   "cell_type": "code",
   "execution_count": 5,
   "id": "c4c4b747",
   "metadata": {},
   "outputs": [
    {
     "data": {
      "text/html": [
       "<div>\n",
       "<style scoped>\n",
       "    .dataframe tbody tr th:only-of-type {\n",
       "        vertical-align: middle;\n",
       "    }\n",
       "\n",
       "    .dataframe tbody tr th {\n",
       "        vertical-align: top;\n",
       "    }\n",
       "\n",
       "    .dataframe thead th {\n",
       "        text-align: right;\n",
       "    }\n",
       "</style>\n",
       "<table border=\"1\" class=\"dataframe\">\n",
       "  <thead>\n",
       "    <tr style=\"text-align: right;\">\n",
       "      <th></th>\n",
       "      <th>id</th>\n",
       "      <th>keyword</th>\n",
       "      <th>location</th>\n",
       "      <th>text</th>\n",
       "      <th>target</th>\n",
       "      <th>cleaned_text</th>\n",
       "      <th>cleaned_keyword</th>\n",
       "      <th>keyword_text</th>\n",
       "    </tr>\n",
       "  </thead>\n",
       "  <tbody>\n",
       "    <tr>\n",
       "      <th>0</th>\n",
       "      <td>1</td>\n",
       "      <td>NaN</td>\n",
       "      <td>NaN</td>\n",
       "      <td>Our Deeds are the Reason of this #earthquake M...</td>\n",
       "      <td>1</td>\n",
       "      <td>deeds reason earthquake may allah forgive</td>\n",
       "      <td>nan</td>\n",
       "      <td>nan deeds reason earthquake may allah forgive</td>\n",
       "    </tr>\n",
       "    <tr>\n",
       "      <th>1</th>\n",
       "      <td>4</td>\n",
       "      <td>NaN</td>\n",
       "      <td>NaN</td>\n",
       "      <td>Forest fire near La Ronge Sask. Canada</td>\n",
       "      <td>1</td>\n",
       "      <td>forest fire near ronge sask canada</td>\n",
       "      <td>nan</td>\n",
       "      <td>nan forest fire near ronge sask canada</td>\n",
       "    </tr>\n",
       "    <tr>\n",
       "      <th>2</th>\n",
       "      <td>5</td>\n",
       "      <td>NaN</td>\n",
       "      <td>NaN</td>\n",
       "      <td>All residents asked to 'shelter in place' are ...</td>\n",
       "      <td>1</td>\n",
       "      <td>residents asked shelter place notified officer...</td>\n",
       "      <td>nan</td>\n",
       "      <td>nan residents asked shelter place notified off...</td>\n",
       "    </tr>\n",
       "    <tr>\n",
       "      <th>3</th>\n",
       "      <td>6</td>\n",
       "      <td>NaN</td>\n",
       "      <td>NaN</td>\n",
       "      <td>13,000 people receive #wildfires evacuation or...</td>\n",
       "      <td>1</td>\n",
       "      <td>people receive wildfires evacuation orders cal...</td>\n",
       "      <td>nan</td>\n",
       "      <td>nan people receive wildfires evacuation orders...</td>\n",
       "    </tr>\n",
       "    <tr>\n",
       "      <th>4</th>\n",
       "      <td>7</td>\n",
       "      <td>NaN</td>\n",
       "      <td>NaN</td>\n",
       "      <td>Just got sent this photo from Ruby #Alaska as ...</td>\n",
       "      <td>1</td>\n",
       "      <td>got sent photo ruby alaska smoke wildfires pou...</td>\n",
       "      <td>nan</td>\n",
       "      <td>nan got sent photo ruby alaska smoke wildfires...</td>\n",
       "    </tr>\n",
       "    <tr>\n",
       "      <th>...</th>\n",
       "      <td>...</td>\n",
       "      <td>...</td>\n",
       "      <td>...</td>\n",
       "      <td>...</td>\n",
       "      <td>...</td>\n",
       "      <td>...</td>\n",
       "      <td>...</td>\n",
       "      <td>...</td>\n",
       "    </tr>\n",
       "    <tr>\n",
       "      <th>7608</th>\n",
       "      <td>10869</td>\n",
       "      <td>NaN</td>\n",
       "      <td>NaN</td>\n",
       "      <td>Two giant cranes holding a bridge collapse int...</td>\n",
       "      <td>1</td>\n",
       "      <td>two giant cranes holding bridge collapse nearb...</td>\n",
       "      <td>nan</td>\n",
       "      <td>nan two giant cranes holding bridge collapse n...</td>\n",
       "    </tr>\n",
       "    <tr>\n",
       "      <th>7609</th>\n",
       "      <td>10870</td>\n",
       "      <td>NaN</td>\n",
       "      <td>NaN</td>\n",
       "      <td>@aria_ahrary @TheTawniest The out of control w...</td>\n",
       "      <td>1</td>\n",
       "      <td>aria_ahrary thetawniest control wild fires cal...</td>\n",
       "      <td>nan</td>\n",
       "      <td>nan aria_ahrary thetawniest control wild fires...</td>\n",
       "    </tr>\n",
       "    <tr>\n",
       "      <th>7610</th>\n",
       "      <td>10871</td>\n",
       "      <td>NaN</td>\n",
       "      <td>NaN</td>\n",
       "      <td>M1.94 [01:04 UTC]?5km S of Volcano Hawaii. htt...</td>\n",
       "      <td>1</td>\n",
       "      <td>utc volcano hawaii</td>\n",
       "      <td>nan</td>\n",
       "      <td>nan utc volcano hawaii</td>\n",
       "    </tr>\n",
       "    <tr>\n",
       "      <th>7611</th>\n",
       "      <td>10872</td>\n",
       "      <td>NaN</td>\n",
       "      <td>NaN</td>\n",
       "      <td>Police investigating after an e-bike collided ...</td>\n",
       "      <td>1</td>\n",
       "      <td>police investigating bike collided car little ...</td>\n",
       "      <td>nan</td>\n",
       "      <td>nan police investigating bike collided car lit...</td>\n",
       "    </tr>\n",
       "    <tr>\n",
       "      <th>7612</th>\n",
       "      <td>10873</td>\n",
       "      <td>NaN</td>\n",
       "      <td>NaN</td>\n",
       "      <td>The Latest: More Homes Razed by Northern Calif...</td>\n",
       "      <td>1</td>\n",
       "      <td>latest homes razed northern california wildfir...</td>\n",
       "      <td>nan</td>\n",
       "      <td>nan latest homes razed northern california wil...</td>\n",
       "    </tr>\n",
       "  </tbody>\n",
       "</table>\n",
       "<p>7613 rows × 8 columns</p>\n",
       "</div>"
      ],
      "text/plain": [
       "         id keyword location  \\\n",
       "0         1     NaN      NaN   \n",
       "1         4     NaN      NaN   \n",
       "2         5     NaN      NaN   \n",
       "3         6     NaN      NaN   \n",
       "4         7     NaN      NaN   \n",
       "...     ...     ...      ...   \n",
       "7608  10869     NaN      NaN   \n",
       "7609  10870     NaN      NaN   \n",
       "7610  10871     NaN      NaN   \n",
       "7611  10872     NaN      NaN   \n",
       "7612  10873     NaN      NaN   \n",
       "\n",
       "                                                   text  target  \\\n",
       "0     Our Deeds are the Reason of this #earthquake M...       1   \n",
       "1                Forest fire near La Ronge Sask. Canada       1   \n",
       "2     All residents asked to 'shelter in place' are ...       1   \n",
       "3     13,000 people receive #wildfires evacuation or...       1   \n",
       "4     Just got sent this photo from Ruby #Alaska as ...       1   \n",
       "...                                                 ...     ...   \n",
       "7608  Two giant cranes holding a bridge collapse int...       1   \n",
       "7609  @aria_ahrary @TheTawniest The out of control w...       1   \n",
       "7610  M1.94 [01:04 UTC]?5km S of Volcano Hawaii. htt...       1   \n",
       "7611  Police investigating after an e-bike collided ...       1   \n",
       "7612  The Latest: More Homes Razed by Northern Calif...       1   \n",
       "\n",
       "                                           cleaned_text cleaned_keyword  \\\n",
       "0             deeds reason earthquake may allah forgive             nan   \n",
       "1                    forest fire near ronge sask canada             nan   \n",
       "2     residents asked shelter place notified officer...             nan   \n",
       "3     people receive wildfires evacuation orders cal...             nan   \n",
       "4     got sent photo ruby alaska smoke wildfires pou...             nan   \n",
       "...                                                 ...             ...   \n",
       "7608  two giant cranes holding bridge collapse nearb...             nan   \n",
       "7609  aria_ahrary thetawniest control wild fires cal...             nan   \n",
       "7610                                 utc volcano hawaii             nan   \n",
       "7611  police investigating bike collided car little ...             nan   \n",
       "7612  latest homes razed northern california wildfir...             nan   \n",
       "\n",
       "                                           keyword_text  \n",
       "0         nan deeds reason earthquake may allah forgive  \n",
       "1                nan forest fire near ronge sask canada  \n",
       "2     nan residents asked shelter place notified off...  \n",
       "3     nan people receive wildfires evacuation orders...  \n",
       "4     nan got sent photo ruby alaska smoke wildfires...  \n",
       "...                                                 ...  \n",
       "7608  nan two giant cranes holding bridge collapse n...  \n",
       "7609  nan aria_ahrary thetawniest control wild fires...  \n",
       "7610                             nan utc volcano hawaii  \n",
       "7611  nan police investigating bike collided car lit...  \n",
       "7612  nan latest homes razed northern california wil...  \n",
       "\n",
       "[7613 rows x 8 columns]"
      ]
     },
     "execution_count": 5,
     "metadata": {},
     "output_type": "execute_result"
    }
   ],
   "source": [
    "# Clean train data text format\n",
    "df_train['cleaned_text'] = df_train['text'].map(lambda s:preprocess(s)) \n",
    "df_train['cleaned_keyword'] = df_train['keyword'].map(lambda s:preprocess(s)) \n",
    "df_train['keyword_text'] = df_train['cleaned_keyword'] + \" \" + df_train[\"cleaned_text\"]\n",
    "df_train"
   ]
  },
  {
   "cell_type": "code",
   "execution_count": 6,
   "id": "ddb75c6f",
   "metadata": {},
   "outputs": [
    {
     "data": {
      "text/html": [
       "<div>\n",
       "<style scoped>\n",
       "    .dataframe tbody tr th:only-of-type {\n",
       "        vertical-align: middle;\n",
       "    }\n",
       "\n",
       "    .dataframe tbody tr th {\n",
       "        vertical-align: top;\n",
       "    }\n",
       "\n",
       "    .dataframe thead th {\n",
       "        text-align: right;\n",
       "    }\n",
       "</style>\n",
       "<table border=\"1\" class=\"dataframe\">\n",
       "  <thead>\n",
       "    <tr style=\"text-align: right;\">\n",
       "      <th></th>\n",
       "      <th>id</th>\n",
       "      <th>keyword</th>\n",
       "      <th>location</th>\n",
       "      <th>text</th>\n",
       "      <th>cleaned_text</th>\n",
       "      <th>cleaned_keyword</th>\n",
       "      <th>keyword_text</th>\n",
       "    </tr>\n",
       "  </thead>\n",
       "  <tbody>\n",
       "    <tr>\n",
       "      <th>0</th>\n",
       "      <td>0</td>\n",
       "      <td>NaN</td>\n",
       "      <td>NaN</td>\n",
       "      <td>Just happened a terrible car crash</td>\n",
       "      <td>happened terrible car crash</td>\n",
       "      <td>nan</td>\n",
       "      <td>nan happened terrible car crash</td>\n",
       "    </tr>\n",
       "    <tr>\n",
       "      <th>1</th>\n",
       "      <td>2</td>\n",
       "      <td>NaN</td>\n",
       "      <td>NaN</td>\n",
       "      <td>Heard about #earthquake is different cities, s...</td>\n",
       "      <td>heard earthquake different cities stay safe ev...</td>\n",
       "      <td>nan</td>\n",
       "      <td>nan heard earthquake different cities stay saf...</td>\n",
       "    </tr>\n",
       "    <tr>\n",
       "      <th>2</th>\n",
       "      <td>3</td>\n",
       "      <td>NaN</td>\n",
       "      <td>NaN</td>\n",
       "      <td>there is a forest fire at spot pond, geese are...</td>\n",
       "      <td>forest fire spot pond geese fleeing across str...</td>\n",
       "      <td>nan</td>\n",
       "      <td>nan forest fire spot pond geese fleeing across...</td>\n",
       "    </tr>\n",
       "    <tr>\n",
       "      <th>3</th>\n",
       "      <td>9</td>\n",
       "      <td>NaN</td>\n",
       "      <td>NaN</td>\n",
       "      <td>Apocalypse lighting. #Spokane #wildfires</td>\n",
       "      <td>apocalypse lighting spokane wildfires</td>\n",
       "      <td>nan</td>\n",
       "      <td>nan apocalypse lighting spokane wildfires</td>\n",
       "    </tr>\n",
       "    <tr>\n",
       "      <th>4</th>\n",
       "      <td>11</td>\n",
       "      <td>NaN</td>\n",
       "      <td>NaN</td>\n",
       "      <td>Typhoon Soudelor kills 28 in China and Taiwan</td>\n",
       "      <td>typhoon soudelor kills china taiwan</td>\n",
       "      <td>nan</td>\n",
       "      <td>nan typhoon soudelor kills china taiwan</td>\n",
       "    </tr>\n",
       "    <tr>\n",
       "      <th>...</th>\n",
       "      <td>...</td>\n",
       "      <td>...</td>\n",
       "      <td>...</td>\n",
       "      <td>...</td>\n",
       "      <td>...</td>\n",
       "      <td>...</td>\n",
       "      <td>...</td>\n",
       "    </tr>\n",
       "    <tr>\n",
       "      <th>3258</th>\n",
       "      <td>10861</td>\n",
       "      <td>NaN</td>\n",
       "      <td>NaN</td>\n",
       "      <td>EARTHQUAKE SAFETY LOS ANGELES ÛÒ SAFETY FASTE...</td>\n",
       "      <td>earthquake safety los angeles safety fasteners...</td>\n",
       "      <td>nan</td>\n",
       "      <td>nan earthquake safety los angeles safety faste...</td>\n",
       "    </tr>\n",
       "    <tr>\n",
       "      <th>3259</th>\n",
       "      <td>10865</td>\n",
       "      <td>NaN</td>\n",
       "      <td>NaN</td>\n",
       "      <td>Storm in RI worse than last hurricane. My city...</td>\n",
       "      <td>storm worse last hurricane city amp others har...</td>\n",
       "      <td>nan</td>\n",
       "      <td>nan storm worse last hurricane city amp others...</td>\n",
       "    </tr>\n",
       "    <tr>\n",
       "      <th>3260</th>\n",
       "      <td>10868</td>\n",
       "      <td>NaN</td>\n",
       "      <td>NaN</td>\n",
       "      <td>Green Line derailment in Chicago http://t.co/U...</td>\n",
       "      <td>green line derailment chicago</td>\n",
       "      <td>nan</td>\n",
       "      <td>nan green line derailment chicago</td>\n",
       "    </tr>\n",
       "    <tr>\n",
       "      <th>3261</th>\n",
       "      <td>10874</td>\n",
       "      <td>NaN</td>\n",
       "      <td>NaN</td>\n",
       "      <td>MEG issues Hazardous Weather Outlook (HWO) htt...</td>\n",
       "      <td>meg issues hazardous weather outlook hwo</td>\n",
       "      <td>nan</td>\n",
       "      <td>nan meg issues hazardous weather outlook hwo</td>\n",
       "    </tr>\n",
       "    <tr>\n",
       "      <th>3262</th>\n",
       "      <td>10875</td>\n",
       "      <td>NaN</td>\n",
       "      <td>NaN</td>\n",
       "      <td>#CityofCalgary has activated its Municipal Eme...</td>\n",
       "      <td>cityofcalgary activated municipal emergency pl...</td>\n",
       "      <td>nan</td>\n",
       "      <td>nan cityofcalgary activated municipal emergenc...</td>\n",
       "    </tr>\n",
       "  </tbody>\n",
       "</table>\n",
       "<p>3263 rows × 7 columns</p>\n",
       "</div>"
      ],
      "text/plain": [
       "         id keyword location  \\\n",
       "0         0     NaN      NaN   \n",
       "1         2     NaN      NaN   \n",
       "2         3     NaN      NaN   \n",
       "3         9     NaN      NaN   \n",
       "4        11     NaN      NaN   \n",
       "...     ...     ...      ...   \n",
       "3258  10861     NaN      NaN   \n",
       "3259  10865     NaN      NaN   \n",
       "3260  10868     NaN      NaN   \n",
       "3261  10874     NaN      NaN   \n",
       "3262  10875     NaN      NaN   \n",
       "\n",
       "                                                   text  \\\n",
       "0                    Just happened a terrible car crash   \n",
       "1     Heard about #earthquake is different cities, s...   \n",
       "2     there is a forest fire at spot pond, geese are...   \n",
       "3              Apocalypse lighting. #Spokane #wildfires   \n",
       "4         Typhoon Soudelor kills 28 in China and Taiwan   \n",
       "...                                                 ...   \n",
       "3258  EARTHQUAKE SAFETY LOS ANGELES ÛÒ SAFETY FASTE...   \n",
       "3259  Storm in RI worse than last hurricane. My city...   \n",
       "3260  Green Line derailment in Chicago http://t.co/U...   \n",
       "3261  MEG issues Hazardous Weather Outlook (HWO) htt...   \n",
       "3262  #CityofCalgary has activated its Municipal Eme...   \n",
       "\n",
       "                                           cleaned_text cleaned_keyword  \\\n",
       "0                           happened terrible car crash             nan   \n",
       "1     heard earthquake different cities stay safe ev...             nan   \n",
       "2     forest fire spot pond geese fleeing across str...             nan   \n",
       "3                 apocalypse lighting spokane wildfires             nan   \n",
       "4                   typhoon soudelor kills china taiwan             nan   \n",
       "...                                                 ...             ...   \n",
       "3258  earthquake safety los angeles safety fasteners...             nan   \n",
       "3259  storm worse last hurricane city amp others har...             nan   \n",
       "3260                      green line derailment chicago             nan   \n",
       "3261           meg issues hazardous weather outlook hwo             nan   \n",
       "3262  cityofcalgary activated municipal emergency pl...             nan   \n",
       "\n",
       "                                           keyword_text  \n",
       "0                       nan happened terrible car crash  \n",
       "1     nan heard earthquake different cities stay saf...  \n",
       "2     nan forest fire spot pond geese fleeing across...  \n",
       "3             nan apocalypse lighting spokane wildfires  \n",
       "4               nan typhoon soudelor kills china taiwan  \n",
       "...                                                 ...  \n",
       "3258  nan earthquake safety los angeles safety faste...  \n",
       "3259  nan storm worse last hurricane city amp others...  \n",
       "3260                  nan green line derailment chicago  \n",
       "3261       nan meg issues hazardous weather outlook hwo  \n",
       "3262  nan cityofcalgary activated municipal emergenc...  \n",
       "\n",
       "[3263 rows x 7 columns]"
      ]
     },
     "execution_count": 6,
     "metadata": {},
     "output_type": "execute_result"
    }
   ],
   "source": [
    "# Clean test data text format\n",
    "df_test['cleaned_text'] = df_test['text'].map(lambda s:preprocess(s)) \n",
    "df_test['cleaned_keyword'] = df_test['keyword'].map(lambda s:preprocess(s)) \n",
    "df_test['keyword_text'] = df_test['cleaned_keyword'] + \" \" + df_test[\"cleaned_text\"]\n",
    "df_test"
   ]
  },
  {
   "cell_type": "markdown",
   "id": "9be10632",
   "metadata": {},
   "source": [
    "## RNN 1 (3 LSTM + 10 Epochs + 256 Max Shape) "
   ]
  },
  {
   "cell_type": "code",
   "execution_count": 7,
   "id": "fb7ae3f9",
   "metadata": {},
   "outputs": [
    {
     "name": "stdout",
     "output_type": "stream",
     "text": [
      "Model: \"Bidirectional_RNN\"\n",
      "_________________________________________________________________\n",
      " Layer (type)                Output Shape              Param #   \n",
      "=================================================================\n",
      " embedding (Embedding)       (None, 256, 256)          256000    \n",
      "                                                                 \n",
      " bidirectional (Bidirectiona  (None, 256, 256)         394240    \n",
      " l)                                                              \n",
      "                                                                 \n",
      " dropout (Dropout)           (None, 256, 256)          0         \n",
      "                                                                 \n",
      " bidirectional_1 (Bidirectio  (None, 256, 128)         164352    \n",
      " nal)                                                            \n",
      "                                                                 \n",
      " dropout_1 (Dropout)         (None, 256, 128)          0         \n",
      "                                                                 \n",
      " bidirectional_2 (Bidirectio  (None, 64)               41216     \n",
      " nal)                                                            \n",
      "                                                                 \n",
      " dropout_2 (Dropout)         (None, 64)                0         \n",
      "                                                                 \n",
      " dense (Dense)               (None, 256)               16640     \n",
      "                                                                 \n",
      " dropout_3 (Dropout)         (None, 256)               0         \n",
      "                                                                 \n",
      " dense_1 (Dense)             (None, 16)                4112      \n",
      "                                                                 \n",
      " dropout_4 (Dropout)         (None, 16)                0         \n",
      "                                                                 \n",
      " dense_2 (Dense)             (None, 1)                 17        \n",
      "                                                                 \n",
      "=================================================================\n",
      "Total params: 876,577\n",
      "Trainable params: 876,577\n",
      "Non-trainable params: 0\n",
      "_________________________________________________________________\n",
      "None\n"
     ]
    }
   ],
   "source": [
    "# build model\n",
    "model = Sequential(name='Bidirectional_RNN')\n",
    "model.add(Embedding(1000, 256, input_length = 256))\n",
    "model.add(Bidirectional(LSTM(128, return_sequences = True, recurrent_dropout=0.0, kernel_regularizer = L1L2(l1=0.0, l2=0.01))))\n",
    "model.add(Dropout(0.5))\n",
    "    \n",
    "model.add(Bidirectional(LSTM(64, return_sequences = True, recurrent_dropout=0.0, kernel_regularizer = L1L2(l1=0.0, l2=0.01))))\n",
    "model.add(Dropout(0.5))\n",
    "    \n",
    "model.add(Bidirectional(LSTM(32, return_sequences = False, recurrent_dropout=0.0, kernel_regularizer = L1L2(l1=0.0, l2=0.01))))\n",
    "model.add(Dropout(0.4))\n",
    "\n",
    "model.add(Dense(256, activation = 'relu'))\n",
    "model.add(Dropout(0.2))\n",
    "model.add(Dense(16, activation = 'relu'))\n",
    "model.add(Dropout(0.1))\n",
    "    \n",
    "model.add(Dense(1, activation = 'sigmoid'))\n",
    "print(model.summary())\n",
    " \n",
    "model.compile(\n",
    "optimizer=Adam(learning_rate=0.0001),\n",
    "loss='binary_crossentropy',\n",
    "metrics=['Accuracy']\n",
    ")"
   ]
  },
  {
   "cell_type": "code",
   "execution_count": 8,
   "id": "bc64f810",
   "metadata": {},
   "outputs": [],
   "source": [
    "text = df_train['keyword_text']\n",
    "tokenizer = Tokenizer(num_words=400)\n",
    "tokenizer.fit_on_texts(text.values)\n",
    "x_train = tokenizer.texts_to_sequences(text.values)\n",
    "x_train = pad_sequences(x_train, maxlen=256)\n",
    "y_train = df_train['target']"
   ]
  },
  {
   "cell_type": "code",
   "execution_count": 9,
   "id": "b6068a78",
   "metadata": {},
   "outputs": [
    {
     "name": "stdout",
     "output_type": "stream",
     "text": [
      "Epoch 1/10\n",
      "96/96 [==============================] - 151s 2s/step - loss: 13.3470 - Accuracy: 0.5686 - val_loss: 11.6068 - val_Accuracy: 0.5345\n",
      "Epoch 2/10\n",
      "96/96 [==============================] - 134s 1s/step - loss: 10.1930 - Accuracy: 0.5793 - val_loss: 8.8770 - val_Accuracy: 0.5345\n",
      "Epoch 3/10\n",
      "96/96 [==============================] - 132s 1s/step - loss: 7.8006 - Accuracy: 0.5795 - val_loss: 6.8043 - val_Accuracy: 0.5345\n",
      "Epoch 4/10\n",
      "96/96 [==============================] - 129s 1s/step - loss: 5.9718 - Accuracy: 0.5929 - val_loss: 5.1571 - val_Accuracy: 0.6605\n",
      "Epoch 5/10\n",
      "96/96 [==============================] - 145s 2s/step - loss: 4.4859 - Accuracy: 0.7578 - val_loss: 3.9802 - val_Accuracy: 0.6927\n",
      "Epoch 6/10\n",
      "96/96 [==============================] - 141s 1s/step - loss: 3.4344 - Accuracy: 0.7887 - val_loss: 3.0634 - val_Accuracy: 0.7288\n",
      "Epoch 7/10\n",
      "96/96 [==============================] - 139s 1s/step - loss: 2.6605 - Accuracy: 0.7947 - val_loss: 2.4031 - val_Accuracy: 0.7374\n",
      "Epoch 8/10\n",
      "96/96 [==============================] - 140s 1s/step - loss: 2.0860 - Accuracy: 0.7924 - val_loss: 1.9020 - val_Accuracy: 0.7466\n",
      "Epoch 9/10\n",
      "96/96 [==============================] - 136s 1s/step - loss: 1.6593 - Accuracy: 0.7984 - val_loss: 1.5495 - val_Accuracy: 0.7393\n",
      "Epoch 10/10\n",
      "96/96 [==============================] - 134s 1s/step - loss: 1.3484 - Accuracy: 0.7952 - val_loss: 1.3007 - val_Accuracy: 0.7177\n"
     ]
    }
   ],
   "source": [
    "start=datetime.now()\n",
    "history = model.fit(\n",
    "    x_train, y_train,\n",
    "    validation_split=0.2,\n",
    "    batch_size=64,\n",
    "    epochs = 10\n",
    ")\n",
    "end=datetime.now()\n",
    "rnn_time = end-start"
   ]
  },
  {
   "cell_type": "code",
   "execution_count": 10,
   "id": "2834dea6",
   "metadata": {},
   "outputs": [
    {
     "name": "stdout",
     "output_type": "stream",
     "text": [
      "0:23:00.737336\n"
     ]
    }
   ],
   "source": [
    "print(rnn_time)"
   ]
  },
  {
   "cell_type": "code",
   "execution_count": 15,
   "id": "eb0fe1d4",
   "metadata": {},
   "outputs": [
    {
     "data": {
      "image/png": "[encoded data removed]",
      "text/plain": [
       "<Figure size 432x288 with 1 Axes>"
      ]
     },
     "metadata": {
      "needs_background": "light"
     },
     "output_type": "display_data"
    },
    {
     "data": {
      "image/png": "[encoded data removed]",
      "text/plain": [
       "<Figure size 432x288 with 1 Axes>"
      ]
     },
     "metadata": {
      "needs_background": "light"
     },
     "output_type": "display_data"
    }
   ],
   "source": [
    "# Visualize training results\n",
    "acc = history.history['Accuracy']\n",
    "val_acc = history.history['val_Accuracy']\n",
    "\n",
    "loss = history.history['loss']\n",
    "val_loss = history.history['val_loss']\n",
    "\n",
    "epochs = range(len(acc))\n",
    "\n",
    "plt.plot(epochs, acc, 'b', label='Training accuracy')\n",
    "plt.plot(epochs, val_acc, 'r', label='Validation accuracy')\n",
    "plt.title('Training and validation accuracy')\n",
    "plt.legend()\n",
    "\n",
    "plt.figure()\n",
    "\n",
    "plt.plot(epochs, loss, 'b', label='Training loss')\n",
    "plt.plot(epochs, val_loss, 'r', label='Validation loss')\n",
    "plt.title('Training and validation loss')\n",
    "plt.legend()\n",
    "\n",
    "plt.show()"
   ]
  },
  {
   "cell_type": "code",
   "execution_count": 16,
   "id": "13471e91",
   "metadata": {},
   "outputs": [],
   "source": [
    "text = df_test['keyword_text']\n",
    "x_test = tokenizer.texts_to_sequences(text.values)\n",
    "x_test = pad_sequences(x_test, maxlen=256)"
   ]
  },
  {
   "cell_type": "code",
   "execution_count": 17,
   "id": "8a138d11",
   "metadata": {},
   "outputs": [],
   "source": [
    "preds = model.predict(x_test)\n",
    "pred = [1 if i>0.5 else 0 for i in preds]"
   ]
  },
  {
   "cell_type": "code",
   "execution_count": 18,
   "id": "ca9fdfa2",
   "metadata": {},
   "outputs": [],
   "source": [
    "submission=pd.DataFrame()\n",
    "submission['id'] = df_test['id']\n",
    "submission['target'] = pred\n",
    "submission.to_csv(\"predictions.csv\",index=False)"
   ]
  },
  {
   "attachments": {
    "1.png": {
     "image/png": "[encoded data removed]"
    }
   },
   "cell_type": "markdown",
   "id": "3c00577a",
   "metadata": {},
   "source": [
    "![1.png](attachment:1.png)"
   ]
  },
  {
   "cell_type": "markdown",
   "id": "3b79e794",
   "metadata": {},
   "source": [
    "## RNN 2 (4 LSTM + 10 Epochs + 256 Max Shape) "
   ]
  },
  {
   "cell_type": "code",
   "execution_count": 26,
   "id": "faab2d3f",
   "metadata": {},
   "outputs": [
    {
     "name": "stdout",
     "output_type": "stream",
     "text": [
      "Model: \"Bidirectional_RNN\"\n",
      "_________________________________________________________________\n",
      " Layer (type)                Output Shape              Param #   \n",
      "=================================================================\n",
      " embedding_8 (Embedding)     (None, 256, 256)          256000    \n",
      "                                                                 \n",
      " bidirectional_30 (Bidirecti  (None, 256, 256)         394240    \n",
      " onal)                                                           \n",
      "                                                                 \n",
      " dropout_31 (Dropout)        (None, 256, 256)          0         \n",
      "                                                                 \n",
      " bidirectional_31 (Bidirecti  (None, 256, 128)         164352    \n",
      " onal)                                                           \n",
      "                                                                 \n",
      " dropout_32 (Dropout)        (None, 256, 128)          0         \n",
      "                                                                 \n",
      " bidirectional_32 (Bidirecti  (None, 256, 64)          41216     \n",
      " onal)                                                           \n",
      "                                                                 \n",
      " dropout_33 (Dropout)        (None, 256, 64)           0         \n",
      "                                                                 \n",
      " bidirectional_33 (Bidirecti  (None, 32)               10368     \n",
      " onal)                                                           \n",
      "                                                                 \n",
      " dropout_34 (Dropout)        (None, 32)                0         \n",
      "                                                                 \n",
      " dense_9 (Dense)             (None, 256)               8448      \n",
      "                                                                 \n",
      " dropout_35 (Dropout)        (None, 256)               0         \n",
      "                                                                 \n",
      " dense_10 (Dense)            (None, 16)                4112      \n",
      "                                                                 \n",
      " dropout_36 (Dropout)        (None, 16)                0         \n",
      "                                                                 \n",
      " dense_11 (Dense)            (None, 1)                 17        \n",
      "                                                                 \n",
      "=================================================================\n",
      "Total params: 878,753\n",
      "Trainable params: 878,753\n",
      "Non-trainable params: 0\n",
      "_________________________________________________________________\n",
      "None\n"
     ]
    }
   ],
   "source": [
    "# build model\n",
    "model_2 = Sequential(name='Bidirectional_RNN')\n",
    "model_2.add(Embedding(1000, 256, input_length = 256))\n",
    "model_2.add(Bidirectional(LSTM(128, return_sequences = True, recurrent_dropout=0.0, kernel_regularizer = L1L2(l1=0.0, l2=0.01))))\n",
    "model_2.add(Dropout(0.5))\n",
    "    \n",
    "model_2.add(Bidirectional(LSTM(64, return_sequences = True, recurrent_dropout=0.0, kernel_regularizer = L1L2(l1=0.0, l2=0.01))))\n",
    "model_2.add(Dropout(0.5))\n",
    "    \n",
    "model_2.add(Bidirectional(LSTM(32, return_sequences = True, recurrent_dropout=0.0, kernel_regularizer = L1L2(l1=0.0, l2=0.01))))\n",
    "model_2.add(Dropout(0.5))\n",
    "\n",
    "model_2.add(Bidirectional(LSTM(16, return_sequences = False, recurrent_dropout=0.0, kernel_regularizer = L1L2(l1=0.0, l2=0.01))))\n",
    "model_2.add(Dropout(0.4))\n",
    "\n",
    "model_2.add(Dense(256, activation = 'relu'))\n",
    "model_2.add(Dropout(0.2))\n",
    "model_2.add(Dense(16, activation = 'relu'))\n",
    "model_2.add(Dropout(0.1))\n",
    "    \n",
    "model_2.add(Dense(1, activation = 'sigmoid'))\n",
    "print(model_2.summary())\n",
    " \n",
    "model_2.compile(\n",
    "optimizer=Adam(learning_rate=0.0001),\n",
    "loss='binary_crossentropy',\n",
    "metrics=['Accuracy']\n",
    ")"
   ]
  },
  {
   "cell_type": "code",
   "execution_count": 27,
   "id": "892bd89f",
   "metadata": {},
   "outputs": [],
   "source": [
    "text = df_train['keyword_text']\n",
    "tokenizer = Tokenizer(num_words=400)\n",
    "tokenizer.fit_on_texts(text.values)\n",
    "x_train = tokenizer.texts_to_sequences(text.values)\n",
    "x_train = pad_sequences(x_train, maxlen=256)\n",
    "y_train = df_train['target']"
   ]
  },
  {
   "cell_type": "code",
   "execution_count": 28,
   "id": "8d4529c3",
   "metadata": {},
   "outputs": [
    {
     "name": "stdout",
     "output_type": "stream",
     "text": [
      "Epoch 1/10\n",
      "96/96 [==============================] - 150s 1s/step - loss: 14.5298 - Accuracy: 0.5576 - val_loss: 12.7035 - val_Accuracy: 0.5345\n",
      "Epoch 2/10\n",
      "96/96 [==============================] - 133s 1s/step - loss: 11.2254 - Accuracy: 0.5790 - val_loss: 9.8407 - val_Accuracy: 0.5345\n",
      "Epoch 3/10\n",
      "96/96 [==============================] - 119s 1s/step - loss: 8.7033 - Accuracy: 0.5793 - val_loss: 7.6449 - val_Accuracy: 0.5345\n",
      "Epoch 4/10\n",
      "96/96 [==============================] - 119s 1s/step - loss: 6.7721 - Accuracy: 0.5793 - val_loss: 5.9626 - val_Accuracy: 0.5345\n",
      "Epoch 5/10\n",
      "96/96 [==============================] - 118s 1s/step - loss: 5.2920 - Accuracy: 0.5791 - val_loss: 4.6776 - val_Accuracy: 0.5345\n",
      "Epoch 6/10\n",
      "96/96 [==============================] - 119s 1s/step - loss: 4.1290 - Accuracy: 0.6246 - val_loss: 3.6307 - val_Accuracy: 0.6940\n",
      "Epoch 7/10\n",
      "96/96 [==============================] - 118s 1s/step - loss: 3.1995 - Accuracy: 0.7524 - val_loss: 2.8575 - val_Accuracy: 0.7308\n",
      "Epoch 8/10\n",
      "96/96 [==============================] - 121s 1s/step - loss: 2.5202 - Accuracy: 0.7841 - val_loss: 2.3234 - val_Accuracy: 0.6829\n",
      "Epoch 9/10\n",
      "96/96 [==============================] - 120s 1s/step - loss: 2.0261 - Accuracy: 0.7870 - val_loss: 1.8889 - val_Accuracy: 0.7321\n",
      "Epoch 10/10\n",
      "96/96 [==============================] - 119s 1s/step - loss: 1.6756 - Accuracy: 0.7788 - val_loss: 1.6683 - val_Accuracy: 0.6664\n"
     ]
    }
   ],
   "source": [
    "start=datetime.now()\n",
    "history_2 = model_2.fit(\n",
    "    x_train, y_train,\n",
    "    validation_split=0.2,\n",
    "    batch_size=64,\n",
    "    epochs = 10\n",
    ")\n",
    "end=datetime.now()\n",
    "rnn_time_2 = end-start"
   ]
  },
  {
   "cell_type": "code",
   "execution_count": 29,
   "id": "111275b7",
   "metadata": {},
   "outputs": [
    {
     "name": "stdout",
     "output_type": "stream",
     "text": [
      "0:20:36.129627\n"
     ]
    }
   ],
   "source": [
    "print(rnn_time_2)"
   ]
  },
  {
   "cell_type": "code",
   "execution_count": 30,
   "id": "4930aacb",
   "metadata": {},
   "outputs": [
    {
     "data": {
      "image/png": "[encoded data removed]",
      "text/plain": [
       "<Figure size 432x288 with 1 Axes>"
      ]
     },
     "metadata": {
      "needs_background": "light"
     },
     "output_type": "display_data"
    },
    {
     "data": {
      "image/png": "[encoded data removed]",
      "text/plain": [
       "<Figure size 432x288 with 1 Axes>"
      ]
     },
     "metadata": {
      "needs_background": "light"
     },
     "output_type": "display_data"
    }
   ],
   "source": [
    "# Visualize training results\n",
    "acc = history_2.history['Accuracy']\n",
    "val_acc = history_2.history['val_Accuracy']\n",
    "\n",
    "loss = history_2.history['loss']\n",
    "val_loss = history_2.history['val_loss']\n",
    "\n",
    "epochs = range(len(acc))\n",
    "\n",
    "plt.plot(epochs, acc, 'b', label='Training accuracy')\n",
    "plt.plot(epochs, val_acc, 'r', label='Validation accuracy')\n",
    "plt.title('Training and validation accuracy')\n",
    "plt.legend()\n",
    "\n",
    "plt.figure()\n",
    "\n",
    "plt.plot(epochs, loss, 'b', label='Training loss')\n",
    "plt.plot(epochs, val_loss, 'r', label='Validation loss')\n",
    "plt.title('Training and validation loss')\n",
    "plt.legend()\n",
    "\n",
    "plt.show()"
   ]
  },
  {
   "cell_type": "code",
   "execution_count": 43,
   "id": "5be50eed",
   "metadata": {},
   "outputs": [],
   "source": [
    "text = df_test['keyword_text']\n",
    "x_test = tokenizer.texts_to_sequences(text.values)\n",
    "x_test = pad_sequences(x_test, maxlen=256)"
   ]
  },
  {
   "cell_type": "code",
   "execution_count": 44,
   "id": "7b320594",
   "metadata": {},
   "outputs": [],
   "source": [
    "preds = model_2.predict(x_test)\n",
    "pred = [1 if i>0.5 else 0 for i in preds]"
   ]
  },
  {
   "cell_type": "code",
   "execution_count": 45,
   "id": "e178714f",
   "metadata": {},
   "outputs": [],
   "source": [
    "submission=pd.DataFrame()\n",
    "submission['id'] = df_test['id']\n",
    "submission['target'] = pred\n",
    "submission.to_csv(\"predictions-2.csv\",index=False)"
   ]
  },
  {
   "attachments": {
    "2.png": {
     "image/png": "[encoded data removed]"
    }
   },
   "cell_type": "markdown",
   "id": "3947f4bf",
   "metadata": {},
   "source": [
    "![2.png](attachment:2.png)"
   ]
  },
  {
   "cell_type": "markdown",
   "id": "8b2688cf",
   "metadata": {},
   "source": [
    "## RNN 3 (3 LSTM + 10 Epochs + 512 Max Shape) "
   ]
  },
  {
   "cell_type": "code",
   "execution_count": 35,
   "id": "623ac169",
   "metadata": {},
   "outputs": [
    {
     "name": "stdout",
     "output_type": "stream",
     "text": [
      "Model: \"Bidirectional_RNN\"\n",
      "_________________________________________________________________\n",
      " Layer (type)                Output Shape              Param #   \n",
      "=================================================================\n",
      " embedding_10 (Embedding)    (None, 512, 512)          512000    \n",
      "                                                                 \n",
      " bidirectional_37 (Bidirecti  (None, 512, 512)         1574912   \n",
      " onal)                                                           \n",
      "                                                                 \n",
      " dropout_42 (Dropout)        (None, 512, 512)          0         \n",
      "                                                                 \n",
      " bidirectional_38 (Bidirecti  (None, 512, 256)         656384    \n",
      " onal)                                                           \n",
      "                                                                 \n",
      " dropout_43 (Dropout)        (None, 512, 256)          0         \n",
      "                                                                 \n",
      " bidirectional_39 (Bidirecti  (None, 128)              164352    \n",
      " onal)                                                           \n",
      "                                                                 \n",
      " dropout_44 (Dropout)        (None, 128)               0         \n",
      "                                                                 \n",
      " dense_15 (Dense)            (None, 512)               66048     \n",
      "                                                                 \n",
      " dropout_45 (Dropout)        (None, 512)               0         \n",
      "                                                                 \n",
      " dense_16 (Dense)            (None, 16)                8208      \n",
      "                                                                 \n",
      " dropout_46 (Dropout)        (None, 16)                0         \n",
      "                                                                 \n",
      " dense_17 (Dense)            (None, 1)                 17        \n",
      "                                                                 \n",
      "=================================================================\n",
      "Total params: 2,981,921\n",
      "Trainable params: 2,981,921\n",
      "Non-trainable params: 0\n",
      "_________________________________________________________________\n",
      "None\n"
     ]
    }
   ],
   "source": [
    "# build model\n",
    "model_3 = Sequential(name='Bidirectional_RNN')\n",
    "model_3.add(Embedding(1000, 512, input_length = 512))\n",
    "model_3.add(Bidirectional(LSTM(256, return_sequences = True, recurrent_dropout=0.0, kernel_regularizer = L1L2(l1=0.0, l2=0.01))))\n",
    "model_3.add(Dropout(0.5))\n",
    "    \n",
    "model_3.add(Bidirectional(LSTM(128, return_sequences = True, recurrent_dropout=0.0, kernel_regularizer = L1L2(l1=0.0, l2=0.01))))\n",
    "model_3.add(Dropout(0.5))\n",
    "    \n",
    "model_3.add(Bidirectional(LSTM(64, return_sequences = False, recurrent_dropout=0.0, kernel_regularizer = L1L2(l1=0.0, l2=0.01))))\n",
    "model_3.add(Dropout(0.4))\n",
    "\n",
    "model_3.add(Dense(512, activation = 'relu'))\n",
    "model_3.add(Dropout(0.2))\n",
    "model_3.add(Dense(16, activation = 'relu'))\n",
    "model_3.add(Dropout(0.1))\n",
    "    \n",
    "model_3.add(Dense(1, activation = 'sigmoid'))\n",
    "print(model_3.summary())\n",
    " \n",
    "model_3.compile(\n",
    "optimizer=Adam(learning_rate=0.0001),\n",
    "loss='binary_crossentropy',\n",
    "metrics=['Accuracy']\n",
    ")"
   ]
  },
  {
   "cell_type": "code",
   "execution_count": 36,
   "id": "4c691e31",
   "metadata": {},
   "outputs": [],
   "source": [
    "text = df_train['keyword_text']\n",
    "tokenizer = Tokenizer(num_words=400)\n",
    "tokenizer.fit_on_texts(text.values)\n",
    "x_train = tokenizer.texts_to_sequences(text.values)\n",
    "x_train = pad_sequences(x_train, maxlen=512)\n",
    "y_train = df_train['target']"
   ]
  },
  {
   "cell_type": "code",
   "execution_count": 37,
   "id": "3770e57d",
   "metadata": {},
   "outputs": [
    {
     "name": "stdout",
     "output_type": "stream",
     "text": [
      "Epoch 1/10\n",
      "96/96 [==============================] - 1073s 11s/step - loss: 24.6368 - Accuracy: 0.5772 - val_loss: 20.0366 - val_Accuracy: 0.5345\n",
      "Epoch 2/10\n",
      "96/96 [==============================] - 1228s 13s/step - loss: 16.6038 - Accuracy: 0.5793 - val_loss: 13.4956 - val_Accuracy: 0.5345\n",
      "Epoch 3/10\n",
      "96/96 [==============================] - 1287s 13s/step - loss: 11.1237 - Accuracy: 0.6465 - val_loss: 8.9697 - val_Accuracy: 0.7479\n",
      "Epoch 4/10\n",
      "96/96 [==============================] - 1297s 14s/step - loss: 7.4080 - Accuracy: 0.7764 - val_loss: 6.0639 - val_Accuracy: 0.7354\n",
      "Epoch 5/10\n",
      "96/96 [==============================] - 1291s 13s/step - loss: 5.0010 - Accuracy: 0.7852 - val_loss: 4.1520 - val_Accuracy: 0.7190\n",
      "Epoch 6/10\n",
      "96/96 [==============================] - 1296s 14s/step - loss: 3.4067 - Accuracy: 0.7947 - val_loss: 2.9306 - val_Accuracy: 0.7078\n",
      "Epoch 7/10\n",
      "96/96 [==============================] - 1301s 14s/step - loss: 2.3741 - Accuracy: 0.7951 - val_loss: 2.0599 - val_Accuracy: 0.7111\n",
      "Epoch 8/10\n",
      "96/96 [==============================] - 1302s 14s/step - loss: 1.6969 - Accuracy: 0.8020 - val_loss: 1.5827 - val_Accuracy: 0.7026\n",
      "Epoch 9/10\n",
      "96/96 [==============================] - 1307s 14s/step - loss: 1.2725 - Accuracy: 0.7920 - val_loss: 1.1787 - val_Accuracy: 0.7479\n",
      "Epoch 10/10\n",
      "96/96 [==============================] - 1308s 14s/step - loss: 1.0038 - Accuracy: 0.7929 - val_loss: 0.9989 - val_Accuracy: 0.7203\n"
     ]
    }
   ],
   "source": [
    "start=datetime.now()\n",
    "history_3 = model_3.fit(\n",
    "    x_train, y_train,\n",
    "    validation_split=0.2,\n",
    "    batch_size=64,\n",
    "    epochs = 10\n",
    ")\n",
    "end=datetime.now()\n",
    "rnn_time_3 = end-start"
   ]
  },
  {
   "cell_type": "code",
   "execution_count": 38,
   "id": "bd1bd15c",
   "metadata": {},
   "outputs": [
    {
     "name": "stdout",
     "output_type": "stream",
     "text": [
      "3:31:29.816766\n"
     ]
    }
   ],
   "source": [
    "print(rnn_time_3)"
   ]
  },
  {
   "cell_type": "code",
   "execution_count": 39,
   "id": "e6fe0040",
   "metadata": {},
   "outputs": [
    {
     "data": {
      "image/png": "[encoded data removed]",
      "text/plain": [
       "<Figure size 432x288 with 1 Axes>"
      ]
     },
     "metadata": {
      "needs_background": "light"
     },
     "output_type": "display_data"
    },
    {
     "data": {
      "image/png": "[encoded data removed]",
      "text/plain": [
       "<Figure size 432x288 with 1 Axes>"
      ]
     },
     "metadata": {
      "needs_background": "light"
     },
     "output_type": "display_data"
    }
   ],
   "source": [
    "# Visualize training results\n",
    "acc = history_3.history['Accuracy']\n",
    "val_acc = history_3.history['val_Accuracy']\n",
    "\n",
    "loss = history_3.history['loss']\n",
    "val_loss = history_3.history['val_loss']\n",
    "\n",
    "epochs = range(len(acc))\n",
    "\n",
    "plt.plot(epochs, acc, 'b', label='Training accuracy')\n",
    "plt.plot(epochs, val_acc, 'r', label='Validation accuracy')\n",
    "plt.title('Training and validation accuracy')\n",
    "plt.legend()\n",
    "\n",
    "plt.figure()\n",
    "\n",
    "plt.plot(epochs, loss, 'b', label='Training loss')\n",
    "plt.plot(epochs, val_loss, 'r', label='Validation loss')\n",
    "plt.title('Training and validation loss')\n",
    "plt.legend()\n",
    "\n",
    "plt.show()"
   ]
  },
  {
   "cell_type": "code",
   "execution_count": 40,
   "id": "0dd560f2",
   "metadata": {},
   "outputs": [],
   "source": [
    "text = df_test['keyword_text']\n",
    "x_test = tokenizer.texts_to_sequences(text.values)\n",
    "x_test = pad_sequences(x_test, maxlen=512)"
   ]
  },
  {
   "cell_type": "code",
   "execution_count": 41,
   "id": "eab046a0",
   "metadata": {},
   "outputs": [],
   "source": [
    "preds = model_3.predict(x_test)\n",
    "pred = [1 if i>0.5 else 0 for i in preds]"
   ]
  },
  {
   "cell_type": "code",
   "execution_count": 42,
   "id": "efcb602d",
   "metadata": {},
   "outputs": [],
   "source": [
    "submission=pd.DataFrame()\n",
    "submission['id'] = df_test['id']\n",
    "submission['target'] = pred\n",
    "submission.to_csv(\"predictions-3.csv\",index=False)"
   ]
  },
  {
   "attachments": {
    "3.png": {
     "image/png": "[encoded data removed]"
    }
   },
   "cell_type": "markdown",
   "id": "cf187dd8",
   "metadata": {},
   "source": [
    "![3.png](attachment:3.png)"
   ]
  },
  {
   "cell_type": "markdown",
   "id": "665beb09",
   "metadata": {},
   "source": [
    "## RNN 4 (3 LSTM + 20 Epochs + 256 Max Shape) "
   ]
  },
  {
   "cell_type": "code",
   "execution_count": 48,
   "id": "ee7b4e7c",
   "metadata": {},
   "outputs": [
    {
     "name": "stdout",
     "output_type": "stream",
     "text": [
      "Model: \"Bidirectional_RNN\"\n",
      "_________________________________________________________________\n",
      " Layer (type)                Output Shape              Param #   \n",
      "=================================================================\n",
      " embedding_11 (Embedding)    (None, 256, 256)          256000    \n",
      "                                                                 \n",
      " bidirectional_40 (Bidirecti  (None, 256, 256)         394240    \n",
      " onal)                                                           \n",
      "                                                                 \n",
      " dropout_47 (Dropout)        (None, 256, 256)          0         \n",
      "                                                                 \n",
      " bidirectional_41 (Bidirecti  (None, 256, 128)         164352    \n",
      " onal)                                                           \n",
      "                                                                 \n",
      " dropout_48 (Dropout)        (None, 256, 128)          0         \n",
      "                                                                 \n",
      " bidirectional_42 (Bidirecti  (None, 64)               41216     \n",
      " onal)                                                           \n",
      "                                                                 \n",
      " dropout_49 (Dropout)        (None, 64)                0         \n",
      "                                                                 \n",
      " dense_18 (Dense)            (None, 256)               16640     \n",
      "                                                                 \n",
      " dropout_50 (Dropout)        (None, 256)               0         \n",
      "                                                                 \n",
      " dense_19 (Dense)            (None, 16)                4112      \n",
      "                                                                 \n",
      " dropout_51 (Dropout)        (None, 16)                0         \n",
      "                                                                 \n",
      " dense_20 (Dense)            (None, 1)                 17        \n",
      "                                                                 \n",
      "=================================================================\n",
      "Total params: 876,577\n",
      "Trainable params: 876,577\n",
      "Non-trainable params: 0\n",
      "_________________________________________________________________\n",
      "None\n"
     ]
    }
   ],
   "source": [
    "# build model\n",
    "model_4 = Sequential(name='Bidirectional_RNN')\n",
    "model_4.add(Embedding(1000, 256, input_length = 256))\n",
    "model_4.add(Bidirectional(LSTM(128, return_sequences = True, recurrent_dropout=0.0, kernel_regularizer = L1L2(l1=0.0, l2=0.01))))\n",
    "model_4.add(Dropout(0.5))\n",
    "    \n",
    "model_4.add(Bidirectional(LSTM(64, return_sequences = True, recurrent_dropout=0.0, kernel_regularizer = L1L2(l1=0.0, l2=0.01))))\n",
    "model_4.add(Dropout(0.5))\n",
    "    \n",
    "model_4.add(Bidirectional(LSTM(32, return_sequences = False, recurrent_dropout=0.0, kernel_regularizer = L1L2(l1=0.0, l2=0.01))))\n",
    "model_4.add(Dropout(0.4))\n",
    "\n",
    "model_4.add(Dense(256, activation = 'relu'))\n",
    "model_4.add(Dropout(0.2))\n",
    "model_4.add(Dense(16, activation = 'relu'))\n",
    "model_4.add(Dropout(0.1))\n",
    "    \n",
    "model_4.add(Dense(1, activation = 'sigmoid'))\n",
    "print(model.summary())\n",
    " \n",
    "model_4.compile(\n",
    "optimizer=Adam(learning_rate=0.0001),\n",
    "loss='binary_crossentropy',\n",
    "metrics=['Accuracy']\n",
    ")"
   ]
  },
  {
   "cell_type": "code",
   "execution_count": 47,
   "id": "7aa8af1b",
   "metadata": {},
   "outputs": [],
   "source": [
    "text = df_train['keyword_text']\n",
    "tokenizer = Tokenizer(num_words=400)\n",
    "tokenizer.fit_on_texts(text.values)\n",
    "x_train = tokenizer.texts_to_sequences(text.values)\n",
    "x_train = pad_sequences(x_train, maxlen=256)\n",
    "y_train = df_train['target']"
   ]
  },
  {
   "cell_type": "code",
   "execution_count": 49,
   "id": "0df6a2f7",
   "metadata": {},
   "outputs": [
    {
     "name": "stdout",
     "output_type": "stream",
     "text": [
      "Epoch 1/20\n",
      "96/96 [==============================] - 158s 2s/step - loss: 13.3377 - Accuracy: 0.5785 - val_loss: 11.6039 - val_Accuracy: 0.5345\n",
      "Epoch 2/20\n",
      "96/96 [==============================] - 141s 1s/step - loss: 10.1906 - Accuracy: 0.5793 - val_loss: 8.8733 - val_Accuracy: 0.5345\n",
      "Epoch 3/20\n",
      "96/96 [==============================] - 128s 1s/step - loss: 7.7983 - Accuracy: 0.5793 - val_loss: 6.7981 - val_Accuracy: 0.5345\n",
      "Epoch 4/20\n",
      "96/96 [==============================] - 128s 1s/step - loss: 5.9466 - Accuracy: 0.6217 - val_loss: 5.1449 - val_Accuracy: 0.7032\n",
      "Epoch 5/20\n",
      "96/96 [==============================] - 128s 1s/step - loss: 4.4745 - Accuracy: 0.7741 - val_loss: 3.9358 - val_Accuracy: 0.7571\n",
      "Epoch 6/20\n",
      "96/96 [==============================] - 127s 1s/step - loss: 3.4299 - Accuracy: 0.7916 - val_loss: 3.0544 - val_Accuracy: 0.7472\n",
      "Epoch 7/20\n",
      "96/96 [==============================] - 128s 1s/step - loss: 2.6583 - Accuracy: 0.7936 - val_loss: 2.3860 - val_Accuracy: 0.7571\n",
      "Epoch 8/20\n",
      "96/96 [==============================] - 128s 1s/step - loss: 2.0795 - Accuracy: 0.7938 - val_loss: 1.9210 - val_Accuracy: 0.7328\n",
      "Epoch 9/20\n",
      "96/96 [==============================] - 128s 1s/step - loss: 1.6767 - Accuracy: 0.7787 - val_loss: 1.5405 - val_Accuracy: 0.7518\n",
      "Epoch 10/20\n",
      "96/96 [==============================] - 128s 1s/step - loss: 1.3570 - Accuracy: 0.7852 - val_loss: 1.3158 - val_Accuracy: 0.7157\n",
      "Epoch 11/20\n",
      "96/96 [==============================] - 128s 1s/step - loss: 1.1202 - Accuracy: 0.7915 - val_loss: 1.1467 - val_Accuracy: 0.7085\n",
      "Epoch 12/20\n",
      "96/96 [==============================] - 128s 1s/step - loss: 0.9548 - Accuracy: 0.7908 - val_loss: 0.9971 - val_Accuracy: 0.6980\n",
      "Epoch 13/20\n",
      "96/96 [==============================] - 129s 1s/step - loss: 0.8353 - Accuracy: 0.7893 - val_loss: 0.9298 - val_Accuracy: 0.6953\n",
      "Epoch 14/20\n",
      "96/96 [==============================] - 129s 1s/step - loss: 0.7573 - Accuracy: 0.7849 - val_loss: 0.8321 - val_Accuracy: 0.7039\n",
      "Epoch 15/20\n",
      "96/96 [==============================] - 129s 1s/step - loss: 0.6840 - Accuracy: 0.7915 - val_loss: 0.7681 - val_Accuracy: 0.7118\n",
      "Epoch 16/20\n",
      "96/96 [==============================] - 129s 1s/step - loss: 0.6270 - Accuracy: 0.7939 - val_loss: 0.7219 - val_Accuracy: 0.7012\n",
      "Epoch 17/20\n",
      "96/96 [==============================] - 129s 1s/step - loss: 0.5997 - Accuracy: 0.7920 - val_loss: 0.7245 - val_Accuracy: 0.7039\n",
      "Epoch 18/20\n",
      "96/96 [==============================] - 130s 1s/step - loss: 0.5780 - Accuracy: 0.7929 - val_loss: 0.7184 - val_Accuracy: 0.6986\n",
      "Epoch 19/20\n",
      "96/96 [==============================] - 130s 1s/step - loss: 0.5480 - Accuracy: 0.7980 - val_loss: 0.7106 - val_Accuracy: 0.6907\n",
      "Epoch 20/20\n",
      "96/96 [==============================] - 130s 1s/step - loss: 0.5311 - Accuracy: 0.7993 - val_loss: 0.6889 - val_Accuracy: 0.7058\n"
     ]
    }
   ],
   "source": [
    "start=datetime.now()\n",
    "history_4 = model_4.fit(\n",
    "    x_train, y_train,\n",
    "    validation_split=0.2,\n",
    "    batch_size=64,\n",
    "    epochs = 20\n",
    ")\n",
    "end=datetime.now()\n",
    "rnn_time_4 = end-start"
   ]
  },
  {
   "cell_type": "code",
   "execution_count": 50,
   "id": "6fc63f26",
   "metadata": {},
   "outputs": [
    {
     "name": "stdout",
     "output_type": "stream",
     "text": [
      "0:43:35.798300\n"
     ]
    }
   ],
   "source": [
    "print(rnn_time_4)"
   ]
  },
  {
   "cell_type": "code",
   "execution_count": 51,
   "id": "f6dd3993",
   "metadata": {},
   "outputs": [
    {
     "data": {
      "image/png": "[encoded data removed]",
      "text/plain": [
       "<Figure size 432x288 with 1 Axes>"
      ]
     },
     "metadata": {
      "needs_background": "light"
     },
     "output_type": "display_data"
    },
    {
     "data": {
      "image/png": "[encoded data removed]",
      "text/plain": [
       "<Figure size 432x288 with 1 Axes>"
      ]
     },
     "metadata": {
      "needs_background": "light"
     },
     "output_type": "display_data"
    }
   ],
   "source": [
    "# Visualize training results\n",
    "acc = history_4.history['Accuracy']\n",
    "val_acc = history_4.history['val_Accuracy']\n",
    "\n",
    "loss = history_4.history['loss']\n",
    "val_loss = history_4.history['val_loss']\n",
    "\n",
    "epochs = range(len(acc))\n",
    "\n",
    "plt.plot(epochs, acc, 'b', label='Training accuracy')\n",
    "plt.plot(epochs, val_acc, 'r', label='Validation accuracy')\n",
    "plt.title('Training and validation accuracy')\n",
    "plt.legend()\n",
    "\n",
    "plt.figure()\n",
    "\n",
    "plt.plot(epochs, loss, 'b', label='Training loss')\n",
    "plt.plot(epochs, val_loss, 'r', label='Validation loss')\n",
    "plt.title('Training and validation loss')\n",
    "plt.legend()\n",
    "\n",
    "plt.show()"
   ]
  },
  {
   "cell_type": "code",
   "execution_count": 52,
   "id": "6e2266e3",
   "metadata": {},
   "outputs": [],
   "source": [
    "text = df_test['keyword_text']\n",
    "x_test = tokenizer.texts_to_sequences(text.values)\n",
    "x_test = pad_sequences(x_test, maxlen=256)"
   ]
  },
  {
   "cell_type": "code",
   "execution_count": 53,
   "id": "954641b9",
   "metadata": {},
   "outputs": [],
   "source": [
    "preds = model_4.predict(x_test)\n",
    "pred = [1 if i>0.5 else 0 for i in preds]"
   ]
  },
  {
   "cell_type": "code",
   "execution_count": 54,
   "id": "df08a610",
   "metadata": {},
   "outputs": [],
   "source": [
    "submission=pd.DataFrame()\n",
    "submission['id'] = df_test['id']\n",
    "submission['target'] = pred\n",
    "submission.to_csv(\"predictions-4.csv\",index=False)"
   ]
  },
  {
   "attachments": {
    "4.png": {
     "image/png": "[encoded data removed]"
    }
   },
   "cell_type": "markdown",
   "id": "8afd4f54",
   "metadata": {},
   "source": [
    "![4.png](attachment:4.png)"
   ]
  },
  {
   "cell_type": "markdown",
   "id": "d5dbc41d",
   "metadata": {},
   "source": [
    "## Conclusion"
   ]
  },
  {
   "cell_type": "code",
   "execution_count": 55,
   "id": "e39dee3e",
   "metadata": {},
   "outputs": [],
   "source": [
    "data = [[3,10,256,rnn_time,0.7952,0.7177], \n",
    "        [4,10,256,rnn_time_2,0.7788,0.6664], \n",
    "        [3,10,512,rnn_time_3,0.7929,0.7203], \n",
    "        [3,20,256,rnn_time_4,0.7993,0.6889]]"
   ]
  },
  {
   "cell_type": "code",
   "execution_count": 56,
   "id": "5b73defd",
   "metadata": {},
   "outputs": [
    {
     "data": {
      "text/html": [
       "<div>\n",
       "<style scoped>\n",
       "    .dataframe tbody tr th:only-of-type {\n",
       "        vertical-align: middle;\n",
       "    }\n",
       "\n",
       "    .dataframe tbody tr th {\n",
       "        vertical-align: top;\n",
       "    }\n",
       "\n",
       "    .dataframe thead th {\n",
       "        text-align: right;\n",
       "    }\n",
       "</style>\n",
       "<table border=\"1\" class=\"dataframe\">\n",
       "  <thead>\n",
       "    <tr style=\"text-align: right;\">\n",
       "      <th></th>\n",
       "      <th>LSTM Layers</th>\n",
       "      <th>Epochs</th>\n",
       "      <th>Max Shape</th>\n",
       "      <th>Time</th>\n",
       "      <th>Training Accuracy</th>\n",
       "      <th>Testing Accuracy</th>\n",
       "    </tr>\n",
       "  </thead>\n",
       "  <tbody>\n",
       "    <tr>\n",
       "      <th>0</th>\n",
       "      <td>3</td>\n",
       "      <td>10</td>\n",
       "      <td>256</td>\n",
       "      <td>0 days 00:23:00.737336</td>\n",
       "      <td>0.7952</td>\n",
       "      <td>0.7177</td>\n",
       "    </tr>\n",
       "    <tr>\n",
       "      <th>1</th>\n",
       "      <td>4</td>\n",
       "      <td>10</td>\n",
       "      <td>256</td>\n",
       "      <td>0 days 00:20:36.129627</td>\n",
       "      <td>0.7788</td>\n",
       "      <td>0.6664</td>\n",
       "    </tr>\n",
       "    <tr>\n",
       "      <th>2</th>\n",
       "      <td>3</td>\n",
       "      <td>10</td>\n",
       "      <td>512</td>\n",
       "      <td>0 days 03:31:29.816766</td>\n",
       "      <td>0.7929</td>\n",
       "      <td>0.7203</td>\n",
       "    </tr>\n",
       "    <tr>\n",
       "      <th>3</th>\n",
       "      <td>3</td>\n",
       "      <td>20</td>\n",
       "      <td>256</td>\n",
       "      <td>0 days 00:43:35.798300</td>\n",
       "      <td>0.7993</td>\n",
       "      <td>0.6889</td>\n",
       "    </tr>\n",
       "  </tbody>\n",
       "</table>\n",
       "</div>"
      ],
      "text/plain": [
       "   LSTM Layers  Epochs  Max Shape                   Time  Training Accuracy  \\\n",
       "0            3      10        256 0 days 00:23:00.737336             0.7952   \n",
       "1            4      10        256 0 days 00:20:36.129627             0.7788   \n",
       "2            3      10        512 0 days 03:31:29.816766             0.7929   \n",
       "3            3      20        256 0 days 00:43:35.798300             0.7993   \n",
       "\n",
       "   Testing Accuracy  \n",
       "0            0.7177  \n",
       "1            0.6664  \n",
       "2            0.7203  \n",
       "3            0.6889  "
      ]
     },
     "execution_count": 56,
     "metadata": {},
     "output_type": "execute_result"
    }
   ],
   "source": [
    "con_df = pd.DataFrame(data, columns = ['LSTM Layers','Epochs', 'Max Shape','Time','Training Accuracy','Testing Accuracy'])\n",
    "con_df"
   ]
  },
  {
   "cell_type": "markdown",
   "id": "279c29e4",
   "metadata": {},
   "source": [
    "This assignment was mainly tired on predicting the model in Bidirectional RNN LSTM. Check the accuracy of prediction by changing LSTM Layers, Epochs, and Max Shape variables. According to the experimental results, too many LSTM Layers may harm accuracy, so there is no need to pursue too many LSTM Layers. It can be seen from the accuracy trend charts that when Epochs is greater than a number (2 to 5), the essential accuracy will have a qualitative leap, but the impact of Epochs on accuracy will not be much later. Max Shape is an interesting parameter. Because tweets have a word limit and generally tweet text is not long, too large Max Shape will increase the learning burden of modeling and will not significantly impact the results. \n",
    "\n",
    "According to the table above, each parameter should not be extensive. Excessive parameters will only increase the burden of hardware and reduce efficiency. To improve accuracy, there are only two choices. One is to do more precise clean work for the original text. The other is to experiment with an RNN model different from LSTM. Since I didn't have a chance to use either method, I didn't see a significant increase in my predicted score on Kaggle. "
   ]
  },
  {
   "cell_type": "code",
   "execution_count": null,
   "id": "153a77c6",
   "metadata": {},
   "outputs": [],
   "source": []
  }
 ],
 "metadata": {
  "kernelspec": {
   "display_name": "Python 3 (ipykernel)",
   "language": "python",
   "name": "python3"
  },
  "language_info": {
   "codemirror_mode": {
    "name": "ipython",
    "version": 3
   },
   "file_extension": ".py",
   "mimetype": "text/x-python",
   "name": "python",
   "nbconvert_exporter": "python",
   "pygments_lexer": "ipython3",
   "version": "3.9.7"
  }
 },
 "nbformat": 4,
 "nbformat_minor": 5
}
