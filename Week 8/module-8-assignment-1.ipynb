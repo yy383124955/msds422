{
 "cells": [
  {
   "cell_type": "markdown",
   "id": "13abf3ab",
   "metadata": {},
   "source": [
    "# MSDS 422 - Module 8 Assignment 1\n",
    "## Yue Yu\n",
    "github: https://github.com/yy383124955/msds422/tree/main/Week%208\n"
   ]
  },
  {
   "cell_type": "code",
   "execution_count": 1,
   "id": "5fd5d3f2",
   "metadata": {},
   "outputs": [],
   "source": [
    "import pandas as pd\n",
    "import numpy as np\n",
    "import matplotlib.pyplot as plt\n",
    "import tensorflow as tf\n",
    "from tensorflow.keras.optimizers import Adam\n",
    "from tensorflow.keras.preprocessing.image import ImageDataGenerator\n",
    "from keras.models import Model\n",
    "from keras.layers import Input, Dense, Conv2D, MaxPooling2D, Flatten, Dropout\n",
    "from datetime import datetime\n",
    "from keras.preprocessing.image import ImageDataGenerator"
   ]
  },
  {
   "cell_type": "markdown",
   "id": "a8f7de31",
   "metadata": {},
   "source": [
    "## CNN "
   ]
  },
  {
   "cell_type": "code",
   "execution_count": 2,
   "id": "ef3e0024",
   "metadata": {},
   "outputs": [],
   "source": [
    "# Load data\n",
    "train_dir = ('train')\n",
    "validation_dir = ('validation')"
   ]
  },
  {
   "cell_type": "code",
   "execution_count": 3,
   "id": "1e7eed13",
   "metadata": {},
   "outputs": [
    {
     "name": "stdout",
     "output_type": "stream",
     "text": [
      "Found 24000 images belonging to 2 classes.\n",
      "Found 1000 images belonging to 2 classes.\n"
     ]
    }
   ],
   "source": [
    "# Image Generator\n",
    "train_datagen = ImageDataGenerator(\n",
    "    rescale=1. / 255,\n",
    "    rotation_range=40,\n",
    "    width_shift_range=0.2,\n",
    "    height_shift_range=0.2,\n",
    "    shear_range=0.2,\n",
    "    zoom_range=0.2,\n",
    "    horizontal_flip=True,\n",
    "    fill_mode='nearest'\n",
    ")\n",
    "img_size = (64, 64) \n",
    "\n",
    "train_generator = train_datagen.flow_from_directory(\n",
    "    train_dir,\n",
    "    target_size=img_size,  \n",
    "    batch_size=8,\n",
    "    class_mode='binary' \n",
    ")\n",
    "\n",
    "validation_generator = train_datagen.flow_from_directory(\n",
    "    validation_dir,\n",
    "    target_size=img_size,\n",
    "    batch_size=8,\n",
    "    class_mode='binary'\n",
    ")"
   ]
  },
  {
   "cell_type": "code",
   "execution_count": 5,
   "id": "afe117cd",
   "metadata": {},
   "outputs": [],
   "source": [
    "#Build model\n",
    "\n",
    "model = tf.keras.models.Sequential([\n",
    "    tf.keras.layers.Conv2D(32, (3, 3), activation='relu', input_shape=(64, 64, 3)),\n",
    "    tf.keras.layers.MaxPooling2D(2, 2),\n",
    "\n",
    "    tf.keras.layers.Conv2D(64, (3, 3), activation='relu'),\n",
    "    tf.keras.layers.MaxPooling2D(2, 2),\n",
    "\n",
    "    tf.keras.layers.Conv2D(128, (3, 3), activation='relu'),\n",
    "    tf.keras.layers.MaxPooling2D(2, 2),\n",
    "\n",
    "    tf.keras.layers.Flatten(),\n",
    "\n",
    "    tf.keras.layers.Dense(512, activation='relu'),\n",
    "\n",
    "    tf.keras.layers.Dropout(0.5),\n",
    "\n",
    "    tf.keras.layers.Dense(1, activation='sigmoid')\n",
    "])"
   ]
  },
  {
   "cell_type": "code",
   "execution_count": 6,
   "id": "1405fcef",
   "metadata": {},
   "outputs": [
    {
     "name": "stdout",
     "output_type": "stream",
     "text": [
      "Model: \"sequential_1\"\n",
      "_________________________________________________________________\n",
      " Layer (type)                Output Shape              Param #   \n",
      "=================================================================\n",
      " conv2d_3 (Conv2D)           (None, 62, 62, 32)        896       \n",
      "                                                                 \n",
      " max_pooling2d_3 (MaxPooling  (None, 31, 31, 32)       0         \n",
      " 2D)                                                             \n",
      "                                                                 \n",
      " conv2d_4 (Conv2D)           (None, 29, 29, 64)        18496     \n",
      "                                                                 \n",
      " max_pooling2d_4 (MaxPooling  (None, 14, 14, 64)       0         \n",
      " 2D)                                                             \n",
      "                                                                 \n",
      " conv2d_5 (Conv2D)           (None, 12, 12, 128)       73856     \n",
      "                                                                 \n",
      " max_pooling2d_5 (MaxPooling  (None, 6, 6, 128)        0         \n",
      " 2D)                                                             \n",
      "                                                                 \n",
      " flatten_1 (Flatten)         (None, 4608)              0         \n",
      "                                                                 \n",
      " dense_2 (Dense)             (None, 512)               2359808   \n",
      "                                                                 \n",
      " dropout_1 (Dropout)         (None, 512)               0         \n",
      "                                                                 \n",
      " dense_3 (Dense)             (None, 1)                 513       \n",
      "                                                                 \n",
      "=================================================================\n",
      "Total params: 2,453,569\n",
      "Trainable params: 2,453,569\n",
      "Non-trainable params: 0\n",
      "_________________________________________________________________\n"
     ]
    }
   ],
   "source": [
    "# Summary\n",
    "model.summary()"
   ]
  },
  {
   "cell_type": "code",
   "execution_count": 10,
   "id": "9363d6a8",
   "metadata": {},
   "outputs": [],
   "source": [
    "model.compile(loss='binary_crossentropy', optimizer=Adam(lr=1e-4), metrics=['acc'])"
   ]
  },
  {
   "cell_type": "code",
   "execution_count": 11,
   "id": "71990f68",
   "metadata": {},
   "outputs": [
    {
     "name": "stdout",
     "output_type": "stream",
     "text": [
      "Epoch 1/15\n"
     ]
    },
    {
     "name": "stderr",
     "output_type": "stream",
     "text": [
      "C:\\Users\\COOKFI~1\\AppData\\Local\\Temp/ipykernel_3948/3389481231.py:2: UserWarning: `Model.fit_generator` is deprecated and will be removed in a future version. Please use `Model.fit`, which supports generators.\n",
      "  history = model.fit_generator(\n"
     ]
    },
    {
     "name": "stdout",
     "output_type": "stream",
     "text": [
      "3000/3000 - 72s - loss: 0.6292 - acc: 0.6425 - val_loss: 0.5975 - val_acc: 0.6690 - 72s/epoch - 24ms/step\n",
      "Epoch 2/15\n",
      "3000/3000 - 70s - loss: 0.5850 - acc: 0.6914 - val_loss: 0.5618 - val_acc: 0.7170 - 70s/epoch - 23ms/step\n",
      "Epoch 3/15\n",
      "3000/3000 - 71s - loss: 0.5561 - acc: 0.7110 - val_loss: 0.5207 - val_acc: 0.7250 - 71s/epoch - 24ms/step\n",
      "Epoch 4/15\n",
      "3000/3000 - 71s - loss: 0.5284 - acc: 0.7373 - val_loss: 0.5208 - val_acc: 0.7420 - 71s/epoch - 24ms/step\n",
      "Epoch 5/15\n",
      "3000/3000 - 71s - loss: 0.5093 - acc: 0.7480 - val_loss: 0.4880 - val_acc: 0.7710 - 71s/epoch - 24ms/step\n",
      "Epoch 6/15\n",
      "3000/3000 - 71s - loss: 0.4963 - acc: 0.7572 - val_loss: 0.4831 - val_acc: 0.7720 - 71s/epoch - 24ms/step\n",
      "Epoch 7/15\n",
      "3000/3000 - 71s - loss: 0.4742 - acc: 0.7744 - val_loss: 0.4452 - val_acc: 0.8040 - 71s/epoch - 24ms/step\n",
      "Epoch 8/15\n",
      "3000/3000 - 71s - loss: 0.4615 - acc: 0.7782 - val_loss: 0.4453 - val_acc: 0.7930 - 71s/epoch - 24ms/step\n",
      "Epoch 9/15\n",
      "3000/3000 - 71s - loss: 0.4467 - acc: 0.7901 - val_loss: 0.4312 - val_acc: 0.7950 - 71s/epoch - 24ms/step\n",
      "Epoch 10/15\n",
      "3000/3000 - 71s - loss: 0.4379 - acc: 0.7919 - val_loss: 0.4168 - val_acc: 0.8020 - 71s/epoch - 24ms/step\n",
      "Epoch 11/15\n",
      "3000/3000 - 71s - loss: 0.4228 - acc: 0.8019 - val_loss: 0.4160 - val_acc: 0.8070 - 71s/epoch - 24ms/step\n",
      "Epoch 12/15\n",
      "3000/3000 - 71s - loss: 0.4158 - acc: 0.8090 - val_loss: 0.3974 - val_acc: 0.8220 - 71s/epoch - 24ms/step\n",
      "Epoch 13/15\n",
      "3000/3000 - 71s - loss: 0.4026 - acc: 0.8127 - val_loss: 0.4095 - val_acc: 0.8040 - 71s/epoch - 24ms/step\n",
      "Epoch 14/15\n",
      "3000/3000 - 71s - loss: 0.3957 - acc: 0.8175 - val_loss: 0.3911 - val_acc: 0.8180 - 71s/epoch - 24ms/step\n",
      "Epoch 15/15\n",
      "3000/3000 - 73s - loss: 0.3909 - acc: 0.8208 - val_loss: 0.3929 - val_acc: 0.8050 - 73s/epoch - 24ms/step\n"
     ]
    }
   ],
   "source": [
    "start=datetime.now()\n",
    "history = model.fit_generator(\n",
    "    train_generator,\n",
    "    epochs=15,\n",
    "    validation_data=validation_generator,\n",
    "    verbose=2\n",
    ")\n",
    "end=datetime.now()\n",
    "cnn_time = end-start"
   ]
  },
  {
   "cell_type": "code",
   "execution_count": 12,
   "id": "54599549",
   "metadata": {},
   "outputs": [
    {
     "name": "stdout",
     "output_type": "stream",
     "text": [
      "0:17:46.714890\n"
     ]
    }
   ],
   "source": [
    "# Print time\n",
    "print(cnn_time)"
   ]
  },
  {
   "cell_type": "code",
   "execution_count": 13,
   "id": "33027934",
   "metadata": {},
   "outputs": [
    {
     "data": {
      "image/png": "[encoded data removed]",
      "text/plain": [
       "<Figure size 432x288 with 1 Axes>"
      ]
     },
     "metadata": {
      "needs_background": "light"
     },
     "output_type": "display_data"
    },
    {
     "data": {
      "image/png": "[encoded data removed]",
      "text/plain": [
       "<Figure size 432x288 with 1 Axes>"
      ]
     },
     "metadata": {
      "needs_background": "light"
     },
     "output_type": "display_data"
    }
   ],
   "source": [
    "# Visualize training results\n",
    "acc = history.history['acc']\n",
    "val_acc = history.history['val_acc']\n",
    "\n",
    "loss = history.history['loss']\n",
    "val_loss = history.history['val_loss']\n",
    "\n",
    "epochs = range(len(acc))\n",
    "\n",
    "plt.plot(epochs, acc, 'b', label='Training accuracy')\n",
    "plt.plot(epochs, val_acc, 'r', label='Validation accuracy')\n",
    "plt.title('Training and validation accuracy')\n",
    "plt.legend()\n",
    "\n",
    "plt.figure()\n",
    "\n",
    "plt.plot(epochs, loss, 'b', label='Training loss')\n",
    "plt.plot(epochs, val_loss, 'r', label='Validation loss')\n",
    "plt.title('Training and validation loss')\n",
    "plt.legend()\n",
    "\n",
    "plt.show()"
   ]
  },
  {
   "cell_type": "code",
   "execution_count": 128,
   "id": "59c056b6",
   "metadata": {},
   "outputs": [
    {
     "name": "stdout",
     "output_type": "stream",
     "text": [
      "Found 12500 images belonging to 1 classes.\n"
     ]
    }
   ],
   "source": [
    "# predict to prepare\n",
    "test_datagen = ImageDataGenerator(\n",
    "    rescale=1. / 255,\n",
    "    rotation_range=40,\n",
    "    width_shift_range=0.2,\n",
    "    height_shift_range=0.2,\n",
    "    shear_range=0.2,\n",
    "    zoom_range=0.2,\n",
    "    horizontal_flip=True,\n",
    "    fill_mode='nearest'\n",
    ")\n",
    "\n",
    "test_dir = ('test')\n",
    "\n",
    "test_generator = test_datagen.flow_from_directory(\n",
    "    test_dir,\n",
    "    target_size=img_size,\n",
    "    batch_size=8,\n",
    "    class_mode='binary'\n",
    ")\n"
   ]
  },
  {
   "cell_type": "code",
   "execution_count": 123,
   "id": "88e688d3",
   "metadata": {},
   "outputs": [],
   "source": [
    "pred = model.predict(test_generator)"
   ]
  },
  {
   "cell_type": "code",
   "execution_count": 17,
   "id": "c21394f0",
   "metadata": {},
   "outputs": [],
   "source": [
    "new_pred = pred\n",
    "new_pred = np.where(new_pred > 0.5, 1, new_pred)\n",
    "new_pred = np.where(new_pred <= 0.5, 0, new_pred)\n",
    "final_pred =[0]*len(new_pred)\n",
    "x = 0\n",
    "for i in new_pred:\n",
    "    final_pred[x] = i\n",
    "    final_pred[x] = str(final_pred[x])[1 : -2]\n",
    "    x+=1"
   ]
  },
  {
   "cell_type": "code",
   "execution_count": 20,
   "id": "d5c8bc64",
   "metadata": {},
   "outputs": [],
   "source": [
    "final_pred = pd.Series(final_pred ,name=\"label\")\n",
    "submission = pd.concat([pd.Series(range(1,12501),name = \"id\"),final_pred],axis = 1)\n",
    "submission.to_csv(\"predictions.csv\",index=False)"
   ]
  },
  {
   "attachments": {
    "1.png": {
     "image/png": "[encoded data removed]"
    }
   },
   "cell_type": "markdown",
   "id": "0bc530ea",
   "metadata": {},
   "source": [
    "![1.png](attachment:1.png)"
   ]
  },
  {
   "cell_type": "code",
   "execution_count": 56,
   "id": "45b17e72",
   "metadata": {},
   "outputs": [],
   "source": [
    "new_pred = pred\n",
    "final_pred_2 =[0]*len(new_pred)\n",
    "x = 0\n",
    "for i in new_pred:\n",
    "    final_pred_2[x] = i\n",
    "    final_pred_2[x] = str(final_pred_2[x])[1 : -2]\n",
    "    x+=1"
   ]
  },
  {
   "cell_type": "code",
   "execution_count": 58,
   "id": "d163e071",
   "metadata": {},
   "outputs": [],
   "source": [
    "final_pred_2 = pd.Series(final_pred_2 ,name=\"label\")\n",
    "submission = pd.concat([pd.Series(range(1,12501),name = \"id\"),final_pred_2],axis = 1)\n",
    "submission.to_csv(\"predictions-2.csv\",index=False)"
   ]
  },
  {
   "attachments": {
    "2.png": {
     "image/png": "[encoded data removed]"
    }
   },
   "cell_type": "markdown",
   "id": "5b6af1a1",
   "metadata": {},
   "source": [
    "![2.png](attachment:2.png)"
   ]
  },
  {
   "cell_type": "markdown",
   "id": "67404718",
   "metadata": {},
   "source": [
    "## CNN 2 (4 Conv2D Layers )"
   ]
  },
  {
   "cell_type": "code",
   "execution_count": 127,
   "id": "22c638f8",
   "metadata": {},
   "outputs": [
    {
     "name": "stdout",
     "output_type": "stream",
     "text": [
      "Found 24000 images belonging to 2 classes.\n",
      "Found 1000 images belonging to 2 classes.\n"
     ]
    }
   ],
   "source": [
    "# Image Generator\n",
    "train_datagen = ImageDataGenerator(\n",
    "    rescale=1. / 255,\n",
    "    rotation_range=40,\n",
    "    width_shift_range=0.2,\n",
    "    height_shift_range=0.2,\n",
    "    shear_range=0.2,\n",
    "    zoom_range=0.2,\n",
    "    horizontal_flip=True,\n",
    "    fill_mode='nearest'\n",
    ")\n",
    "img_size = (64, 64) \n",
    "\n",
    "train_generator = train_datagen.flow_from_directory(\n",
    "    train_dir,\n",
    "    target_size=img_size,  \n",
    "    batch_size=8,\n",
    "    class_mode='binary' \n",
    ")\n",
    "\n",
    "validation_generator = train_datagen.flow_from_directory(\n",
    "    validation_dir,\n",
    "    target_size=img_size,\n",
    "    batch_size=8,\n",
    "    class_mode='binary'\n",
    ")"
   ]
  },
  {
   "cell_type": "code",
   "execution_count": 65,
   "id": "58456748",
   "metadata": {},
   "outputs": [],
   "source": [
    "model_2 = tf.keras.models.Sequential([\n",
    "    tf.keras.layers.Conv2D(32, (3, 3), activation='relu', input_shape=(64, 64, 3)),\n",
    "    tf.keras.layers.MaxPooling2D(2, 2),\n",
    "\n",
    "    tf.keras.layers.Conv2D(64, (3, 3), activation='relu'),\n",
    "    tf.keras.layers.MaxPooling2D(2, 2),\n",
    "\n",
    "    tf.keras.layers.Conv2D(128, (3, 3), activation='relu'),\n",
    "    tf.keras.layers.MaxPooling2D(2, 2),\n",
    "    \n",
    "    tf.keras.layers.Conv2D(128, (3, 3), activation='relu'),\n",
    "    tf.keras.layers.MaxPooling2D(2, 2),\n",
    "\n",
    "    tf.keras.layers.Flatten(),\n",
    "\n",
    "    tf.keras.layers.Dense(512, activation='relu'),\n",
    "\n",
    "    tf.keras.layers.Dropout(0.5),\n",
    "\n",
    "    tf.keras.layers.Dense(1, activation='sigmoid')\n",
    "])"
   ]
  },
  {
   "cell_type": "code",
   "execution_count": 66,
   "id": "fa171222",
   "metadata": {},
   "outputs": [
    {
     "name": "stdout",
     "output_type": "stream",
     "text": [
      "Model: \"sequential_10\"\n",
      "_________________________________________________________________\n",
      " Layer (type)                Output Shape              Param #   \n",
      "=================================================================\n",
      " conv2d_36 (Conv2D)          (None, 62, 62, 32)        896       \n",
      "                                                                 \n",
      " max_pooling2d_36 (MaxPoolin  (None, 31, 31, 32)       0         \n",
      " g2D)                                                            \n",
      "                                                                 \n",
      " conv2d_37 (Conv2D)          (None, 29, 29, 64)        18496     \n",
      "                                                                 \n",
      " max_pooling2d_37 (MaxPoolin  (None, 14, 14, 64)       0         \n",
      " g2D)                                                            \n",
      "                                                                 \n",
      " conv2d_38 (Conv2D)          (None, 12, 12, 128)       73856     \n",
      "                                                                 \n",
      " max_pooling2d_38 (MaxPoolin  (None, 6, 6, 128)        0         \n",
      " g2D)                                                            \n",
      "                                                                 \n",
      " conv2d_39 (Conv2D)          (None, 4, 4, 128)         147584    \n",
      "                                                                 \n",
      " max_pooling2d_39 (MaxPoolin  (None, 2, 2, 128)        0         \n",
      " g2D)                                                            \n",
      "                                                                 \n",
      " flatten_10 (Flatten)        (None, 512)               0         \n",
      "                                                                 \n",
      " dense_20 (Dense)            (None, 512)               262656    \n",
      "                                                                 \n",
      " dropout_10 (Dropout)        (None, 512)               0         \n",
      "                                                                 \n",
      " dense_21 (Dense)            (None, 1)                 513       \n",
      "                                                                 \n",
      "=================================================================\n",
      "Total params: 504,001\n",
      "Trainable params: 504,001\n",
      "Non-trainable params: 0\n",
      "_________________________________________________________________\n"
     ]
    }
   ],
   "source": [
    "# Summary\n",
    "model_2.summary()"
   ]
  },
  {
   "cell_type": "code",
   "execution_count": 67,
   "id": "de47680e",
   "metadata": {},
   "outputs": [],
   "source": [
    "model_2.compile(loss='binary_crossentropy', optimizer=Adam(lr=1e-4), metrics=['acc'])"
   ]
  },
  {
   "cell_type": "code",
   "execution_count": 68,
   "id": "3098f30e",
   "metadata": {},
   "outputs": [
    {
     "name": "stdout",
     "output_type": "stream",
     "text": [
      "Epoch 1/15\n"
     ]
    },
    {
     "name": "stderr",
     "output_type": "stream",
     "text": [
      "C:\\Users\\COOKFI~1\\AppData\\Local\\Temp/ipykernel_3948/3745856717.py:2: UserWarning: `Model.fit_generator` is deprecated and will be removed in a future version. Please use `Model.fit`, which supports generators.\n",
      "  history_2 = model_2.fit_generator(\n"
     ]
    },
    {
     "name": "stdout",
     "output_type": "stream",
     "text": [
      "3000/3000 - 64s - loss: 0.6573 - acc: 0.5971 - val_loss: 0.6101 - val_acc: 0.6600 - 64s/epoch - 21ms/step\n",
      "Epoch 2/15\n",
      "3000/3000 - 63s - loss: 0.5839 - acc: 0.6892 - val_loss: 0.5722 - val_acc: 0.7020 - 63s/epoch - 21ms/step\n",
      "Epoch 3/15\n",
      "3000/3000 - 63s - loss: 0.5401 - acc: 0.7270 - val_loss: 0.5205 - val_acc: 0.7420 - 63s/epoch - 21ms/step\n",
      "Epoch 4/15\n",
      "3000/3000 - 64s - loss: 0.5059 - acc: 0.7536 - val_loss: 0.4800 - val_acc: 0.7670 - 64s/epoch - 21ms/step\n",
      "Epoch 5/15\n",
      "3000/3000 - 64s - loss: 0.4832 - acc: 0.7686 - val_loss: 0.5159 - val_acc: 0.7410 - 64s/epoch - 21ms/step\n",
      "Epoch 6/15\n",
      "3000/3000 - 63s - loss: 0.4683 - acc: 0.7731 - val_loss: 0.5349 - val_acc: 0.7340 - 63s/epoch - 21ms/step\n",
      "Epoch 7/15\n",
      "3000/3000 - 66s - loss: 0.4485 - acc: 0.7856 - val_loss: 0.4778 - val_acc: 0.7660 - 66s/epoch - 22ms/step\n",
      "Epoch 8/15\n",
      "3000/3000 - 66s - loss: 0.4264 - acc: 0.7990 - val_loss: 0.4254 - val_acc: 0.7920 - 66s/epoch - 22ms/step\n",
      "Epoch 9/15\n",
      "3000/3000 - 66s - loss: 0.4163 - acc: 0.8041 - val_loss: 0.4193 - val_acc: 0.8020 - 66s/epoch - 22ms/step\n",
      "Epoch 10/15\n",
      "3000/3000 - 66s - loss: 0.3989 - acc: 0.8165 - val_loss: 0.4226 - val_acc: 0.8070 - 66s/epoch - 22ms/step\n",
      "Epoch 11/15\n",
      "3000/3000 - 66s - loss: 0.3847 - acc: 0.8262 - val_loss: 0.3983 - val_acc: 0.8290 - 66s/epoch - 22ms/step\n",
      "Epoch 12/15\n",
      "3000/3000 - 66s - loss: 0.3791 - acc: 0.8283 - val_loss: 0.3734 - val_acc: 0.8330 - 66s/epoch - 22ms/step\n",
      "Epoch 13/15\n",
      "3000/3000 - 66s - loss: 0.3680 - acc: 0.8342 - val_loss: 0.3717 - val_acc: 0.8320 - 66s/epoch - 22ms/step\n",
      "Epoch 14/15\n",
      "3000/3000 - 66s - loss: 0.3582 - acc: 0.8388 - val_loss: 0.3618 - val_acc: 0.8350 - 66s/epoch - 22ms/step\n",
      "Epoch 15/15\n",
      "3000/3000 - 65s - loss: 0.3472 - acc: 0.8421 - val_loss: 0.3437 - val_acc: 0.8410 - 65s/epoch - 22ms/step\n"
     ]
    }
   ],
   "source": [
    "start=datetime.now()\n",
    "history_2 = model_2.fit_generator(\n",
    "    train_generator,\n",
    "    epochs=15,\n",
    "    validation_data=validation_generator,\n",
    "    verbose=2\n",
    ")\n",
    "end=datetime.now()\n",
    "cnn_time_2 = end-start"
   ]
  },
  {
   "cell_type": "code",
   "execution_count": 69,
   "id": "81dc053c",
   "metadata": {},
   "outputs": [
    {
     "name": "stdout",
     "output_type": "stream",
     "text": [
      "0:16:13.772455\n"
     ]
    }
   ],
   "source": [
    "# Print time\n",
    "print(cnn_time_2)"
   ]
  },
  {
   "cell_type": "code",
   "execution_count": 71,
   "id": "b86d7e5b",
   "metadata": {},
   "outputs": [
    {
     "data": {
      "image/png": "[encoded data removed]",
      "text/plain": [
       "<Figure size 432x288 with 1 Axes>"
      ]
     },
     "metadata": {
      "needs_background": "light"
     },
     "output_type": "display_data"
    },
    {
     "data": {
      "image/png": "[encoded data removed]",
      "text/plain": [
       "<Figure size 432x288 with 1 Axes>"
      ]
     },
     "metadata": {
      "needs_background": "light"
     },
     "output_type": "display_data"
    }
   ],
   "source": [
    "# Visualize training results\n",
    "acc = history_2.history['acc']\n",
    "val_acc = history_2.history['val_acc']\n",
    "\n",
    "loss = history_2.history['loss']\n",
    "val_loss = history_2.history['val_loss']\n",
    "\n",
    "epochs = range(len(acc))\n",
    "\n",
    "plt.plot(epochs, acc, 'b', label='Training accuracy')\n",
    "plt.plot(epochs, val_acc, 'r', label='Validation accuracy')\n",
    "plt.title('Training and validation accuracy')\n",
    "plt.legend()\n",
    "\n",
    "plt.figure()\n",
    "\n",
    "plt.plot(epochs, loss, 'b', label='Training loss')\n",
    "plt.plot(epochs, val_loss, 'r', label='Validation loss')\n",
    "plt.title('Training and validation loss')\n",
    "plt.legend()\n",
    "\n",
    "plt.show()"
   ]
  },
  {
   "cell_type": "code",
   "execution_count": 129,
   "id": "1ad47479",
   "metadata": {},
   "outputs": [],
   "source": [
    "pred_2 = model_2.predict(test_generator)"
   ]
  },
  {
   "cell_type": "code",
   "execution_count": 73,
   "id": "4d8863bf",
   "metadata": {},
   "outputs": [],
   "source": [
    "new_pred = pred_2\n",
    "final_pred_2 =[0]*len(new_pred)\n",
    "x = 0\n",
    "for i in new_pred:\n",
    "    final_pred_2[x] = i\n",
    "    final_pred_2[x] = str(final_pred_2[x])[1 : -2]\n",
    "    x+=1"
   ]
  },
  {
   "cell_type": "code",
   "execution_count": 75,
   "id": "801643ee",
   "metadata": {},
   "outputs": [],
   "source": [
    "final_pred_2 = pd.Series(final_pred_2 ,name=\"label\")\n",
    "submission = pd.concat([pd.Series(range(1,12501),name = \"id\"),final_pred_2],axis = 1)\n",
    "submission.to_csv(\"predictions-3.csv\",index=False)"
   ]
  },
  {
   "attachments": {
    "3.png": {
     "image/png": "[encoded data removed]"
    }
   },
   "cell_type": "markdown",
   "id": "b16dda85",
   "metadata": {},
   "source": [
    "![3.png](attachment:3.png)"
   ]
  },
  {
   "cell_type": "markdown",
   "id": "cb823066",
   "metadata": {},
   "source": [
    "## CNN 3 (Image Size 150x150)"
   ]
  },
  {
   "cell_type": "code",
   "execution_count": 125,
   "id": "56b3e1dd",
   "metadata": {},
   "outputs": [
    {
     "name": "stdout",
     "output_type": "stream",
     "text": [
      "Found 24000 images belonging to 2 classes.\n",
      "Found 1000 images belonging to 2 classes.\n"
     ]
    }
   ],
   "source": [
    "# Image Generator\n",
    "train_datagen = ImageDataGenerator(\n",
    "    rescale=1. / 255,\n",
    "    rotation_range=40,\n",
    "    width_shift_range=0.2,\n",
    "    height_shift_range=0.2,\n",
    "    shear_range=0.2,\n",
    "    zoom_range=0.2,\n",
    "    horizontal_flip=True,\n",
    "    fill_mode='nearest'\n",
    ")\n",
    "img_size = (150, 150) \n",
    "\n",
    "train_generator = train_datagen.flow_from_directory(\n",
    "    train_dir,\n",
    "    target_size=img_size,  \n",
    "    batch_size=8,\n",
    "    class_mode='binary' \n",
    ")\n",
    "\n",
    "validation_generator = train_datagen.flow_from_directory(\n",
    "    validation_dir,\n",
    "    target_size=img_size,\n",
    "    batch_size=8,\n",
    "    class_mode='binary'\n",
    ")"
   ]
  },
  {
   "cell_type": "code",
   "execution_count": 91,
   "id": "ca30f636",
   "metadata": {},
   "outputs": [],
   "source": [
    "model_3 = tf.keras.models.Sequential([\n",
    "    tf.keras.layers.Conv2D(32, (3, 3), activation='relu', input_shape=(150, 150, 3)),\n",
    "    tf.keras.layers.MaxPooling2D(2, 2),\n",
    "\n",
    "    tf.keras.layers.Conv2D(64, (3, 3), activation='relu'),\n",
    "    tf.keras.layers.MaxPooling2D(2, 2),\n",
    "\n",
    "    tf.keras.layers.Conv2D(128, (3, 3), activation='relu'),\n",
    "    tf.keras.layers.MaxPooling2D(2, 2),\n",
    "\n",
    "    tf.keras.layers.Flatten(),\n",
    "\n",
    "    tf.keras.layers.Dense(512, activation='relu'),\n",
    "\n",
    "    tf.keras.layers.Dropout(0.5),\n",
    "\n",
    "    tf.keras.layers.Dense(1, activation='sigmoid')\n",
    "])"
   ]
  },
  {
   "cell_type": "code",
   "execution_count": 92,
   "id": "db49586f",
   "metadata": {},
   "outputs": [
    {
     "name": "stdout",
     "output_type": "stream",
     "text": [
      "Model: \"sequential_14\"\n",
      "_________________________________________________________________\n",
      " Layer (type)                Output Shape              Param #   \n",
      "=================================================================\n",
      " conv2d_51 (Conv2D)          (None, 148, 148, 32)      896       \n",
      "                                                                 \n",
      " max_pooling2d_51 (MaxPoolin  (None, 74, 74, 32)       0         \n",
      " g2D)                                                            \n",
      "                                                                 \n",
      " conv2d_52 (Conv2D)          (None, 72, 72, 64)        18496     \n",
      "                                                                 \n",
      " max_pooling2d_52 (MaxPoolin  (None, 36, 36, 64)       0         \n",
      " g2D)                                                            \n",
      "                                                                 \n",
      " conv2d_53 (Conv2D)          (None, 34, 34, 128)       73856     \n",
      "                                                                 \n",
      " max_pooling2d_53 (MaxPoolin  (None, 17, 17, 128)      0         \n",
      " g2D)                                                            \n",
      "                                                                 \n",
      " flatten_14 (Flatten)        (None, 36992)             0         \n",
      "                                                                 \n",
      " dense_28 (Dense)            (None, 512)               18940416  \n",
      "                                                                 \n",
      " dropout_14 (Dropout)        (None, 512)               0         \n",
      "                                                                 \n",
      " dense_29 (Dense)            (None, 1)                 513       \n",
      "                                                                 \n",
      "=================================================================\n",
      "Total params: 19,034,177\n",
      "Trainable params: 19,034,177\n",
      "Non-trainable params: 0\n",
      "_________________________________________________________________\n"
     ]
    }
   ],
   "source": [
    "# Summary\n",
    "model_3.summary()"
   ]
  },
  {
   "cell_type": "code",
   "execution_count": 93,
   "id": "f01364f2",
   "metadata": {},
   "outputs": [],
   "source": [
    "model_3.compile(loss='binary_crossentropy', optimizer=Adam(lr=1e-4), metrics=['acc'])"
   ]
  },
  {
   "cell_type": "code",
   "execution_count": 94,
   "id": "39ebd3d9",
   "metadata": {},
   "outputs": [
    {
     "name": "stdout",
     "output_type": "stream",
     "text": [
      "Epoch 1/15\n"
     ]
    },
    {
     "name": "stderr",
     "output_type": "stream",
     "text": [
      "C:\\Users\\COOKFI~1\\AppData\\Local\\Temp/ipykernel_3948/1941860461.py:2: UserWarning: `Model.fit_generator` is deprecated and will be removed in a future version. Please use `Model.fit`, which supports generators.\n",
      "  history_3 = model_3.fit_generator(\n"
     ]
    },
    {
     "name": "stdout",
     "output_type": "stream",
     "text": [
      "3000/3000 - 323s - loss: 0.6205 - acc: 0.6428 - val_loss: 0.5586 - val_acc: 0.7040 - 323s/epoch - 108ms/step\n",
      "Epoch 2/15\n",
      "3000/3000 - 313s - loss: 0.5574 - acc: 0.7107 - val_loss: 0.5555 - val_acc: 0.7070 - 313s/epoch - 104ms/step\n",
      "Epoch 3/15\n",
      "3000/3000 - 310s - loss: 0.5184 - acc: 0.7406 - val_loss: 0.5035 - val_acc: 0.7440 - 310s/epoch - 103ms/step\n",
      "Epoch 4/15\n",
      "3000/3000 - 310s - loss: 0.4949 - acc: 0.7585 - val_loss: 0.5185 - val_acc: 0.7520 - 310s/epoch - 103ms/step\n",
      "Epoch 5/15\n",
      "3000/3000 - 309s - loss: 0.4756 - acc: 0.7706 - val_loss: 0.4518 - val_acc: 0.7940 - 309s/epoch - 103ms/step\n",
      "Epoch 6/15\n",
      "3000/3000 - 303s - loss: 0.4570 - acc: 0.7831 - val_loss: 0.4428 - val_acc: 0.7870 - 303s/epoch - 101ms/step\n",
      "Epoch 7/15\n",
      "3000/3000 - 301s - loss: 0.4369 - acc: 0.7931 - val_loss: 0.4425 - val_acc: 0.7960 - 301s/epoch - 100ms/step\n",
      "Epoch 8/15\n",
      "3000/3000 - 299s - loss: 0.4271 - acc: 0.8039 - val_loss: 0.4064 - val_acc: 0.8170 - 299s/epoch - 100ms/step\n",
      "Epoch 9/15\n",
      "3000/3000 - 301s - loss: 0.4098 - acc: 0.8120 - val_loss: 0.3959 - val_acc: 0.8260 - 301s/epoch - 100ms/step\n",
      "Epoch 10/15\n",
      "3000/3000 - 294s - loss: 0.3929 - acc: 0.8230 - val_loss: 0.4008 - val_acc: 0.8220 - 294s/epoch - 98ms/step\n",
      "Epoch 11/15\n",
      "3000/3000 - 302s - loss: 0.3863 - acc: 0.8279 - val_loss: 0.3831 - val_acc: 0.8280 - 302s/epoch - 101ms/step\n",
      "Epoch 12/15\n",
      "3000/3000 - 296s - loss: 0.3749 - acc: 0.8325 - val_loss: 0.3633 - val_acc: 0.8430 - 296s/epoch - 99ms/step\n",
      "Epoch 13/15\n",
      "3000/3000 - 305s - loss: 0.3607 - acc: 0.8409 - val_loss: 0.3512 - val_acc: 0.8530 - 305s/epoch - 102ms/step\n",
      "Epoch 14/15\n",
      "3000/3000 - 301s - loss: 0.3534 - acc: 0.8470 - val_loss: 0.3301 - val_acc: 0.8510 - 301s/epoch - 100ms/step\n",
      "Epoch 15/15\n",
      "3000/3000 - 294s - loss: 0.3366 - acc: 0.8525 - val_loss: 0.3264 - val_acc: 0.8510 - 294s/epoch - 98ms/step\n"
     ]
    }
   ],
   "source": [
    "start=datetime.now()\n",
    "history_3 = model_3.fit_generator(\n",
    "    train_generator,\n",
    "    epochs=15,\n",
    "    validation_data=validation_generator,\n",
    "    verbose=2\n",
    ")\n",
    "end=datetime.now()\n",
    "cnn_time_3 = end-start"
   ]
  },
  {
   "cell_type": "code",
   "execution_count": 95,
   "id": "a6a3c0ad",
   "metadata": {},
   "outputs": [
    {
     "name": "stdout",
     "output_type": "stream",
     "text": [
      "1:16:03.544463\n"
     ]
    }
   ],
   "source": [
    "# Print time\n",
    "print(cnn_time_3)"
   ]
  },
  {
   "cell_type": "code",
   "execution_count": 96,
   "id": "f22300fe",
   "metadata": {},
   "outputs": [
    {
     "data": {
      "image/png": "[encoded data removed]",
      "text/plain": [
       "<Figure size 432x288 with 1 Axes>"
      ]
     },
     "metadata": {
      "needs_background": "light"
     },
     "output_type": "display_data"
    },
    {
     "data": {
      "image/png": "[encoded data removed]",
      "text/plain": [
       "<Figure size 432x288 with 1 Axes>"
      ]
     },
     "metadata": {
      "needs_background": "light"
     },
     "output_type": "display_data"
    }
   ],
   "source": [
    "# Visualize training results\n",
    "acc = history_3.history['acc']\n",
    "val_acc = history_2.history['val_acc']\n",
    "\n",
    "loss = history_3.history['loss']\n",
    "val_loss = history_3.history['val_loss']\n",
    "\n",
    "epochs = range(len(acc))\n",
    "\n",
    "plt.plot(epochs, acc, 'b', label='Training accuracy')\n",
    "plt.plot(epochs, val_acc, 'r', label='Validation accuracy')\n",
    "plt.title('Training and validation accuracy')\n",
    "plt.legend()\n",
    "\n",
    "plt.figure()\n",
    "\n",
    "plt.plot(epochs, loss, 'b', label='Training loss')\n",
    "plt.plot(epochs, val_loss, 'r', label='Validation loss')\n",
    "plt.title('Training and validation loss')\n",
    "plt.legend()\n",
    "\n",
    "plt.show()"
   ]
  },
  {
   "cell_type": "code",
   "execution_count": 126,
   "id": "bdd1ccec",
   "metadata": {},
   "outputs": [
    {
     "name": "stdout",
     "output_type": "stream",
     "text": [
      "Found 12500 images belonging to 1 classes.\n"
     ]
    }
   ],
   "source": [
    "test_generator = test_datagen.flow_from_directory(\n",
    "    test_dir,\n",
    "    target_size=img_size,\n",
    "    batch_size=8,\n",
    "    class_mode='binary'\n",
    ")\n",
    "\n",
    "pred_3 = model_3.predict(test_generator)"
   ]
  },
  {
   "cell_type": "code",
   "execution_count": 99,
   "id": "a0bd822d",
   "metadata": {},
   "outputs": [],
   "source": [
    "new_pred = pred_3\n",
    "final_pred_2 =[0]*len(new_pred)\n",
    "x = 0\n",
    "for i in new_pred:\n",
    "    final_pred_2[x] = i\n",
    "    final_pred_2[x] = str(final_pred_2[x])[1 : -2]\n",
    "    x+=1"
   ]
  },
  {
   "cell_type": "code",
   "execution_count": 100,
   "id": "371bbcb3",
   "metadata": {},
   "outputs": [],
   "source": [
    "final_pred_2 = pd.Series(final_pred_2 ,name=\"label\")\n",
    "submission = pd.concat([pd.Series(range(1,12501),name = \"id\"),final_pred_2],axis = 1)\n",
    "submission.to_csv(\"predictions-4.csv\",index=False)"
   ]
  },
  {
   "attachments": {
    "4.png": {
     "image/png": "[encoded data removed]"
    }
   },
   "cell_type": "markdown",
   "id": "c04036da",
   "metadata": {},
   "source": [
    "![4.png](attachment:4.png)"
   ]
  },
  {
   "cell_type": "markdown",
   "id": "c8f209f3",
   "metadata": {},
   "source": [
    "## CNN 4 (50 Epochs)"
   ]
  },
  {
   "cell_type": "code",
   "execution_count": 101,
   "id": "34810458",
   "metadata": {},
   "outputs": [
    {
     "name": "stdout",
     "output_type": "stream",
     "text": [
      "Found 24000 images belonging to 2 classes.\n",
      "Found 1000 images belonging to 2 classes.\n"
     ]
    }
   ],
   "source": [
    "# Image Generator\n",
    "train_datagen = ImageDataGenerator(\n",
    "    rescale=1. / 255,\n",
    "    rotation_range=40,\n",
    "    width_shift_range=0.2,\n",
    "    height_shift_range=0.2,\n",
    "    shear_range=0.2,\n",
    "    zoom_range=0.2,\n",
    "    horizontal_flip=True,\n",
    "    fill_mode='nearest'\n",
    ")\n",
    "img_size = (64, 64) \n",
    "\n",
    "train_generator = train_datagen.flow_from_directory(\n",
    "    train_dir,\n",
    "    target_size=img_size,  \n",
    "    batch_size=8,\n",
    "    class_mode='binary' \n",
    ")\n",
    "\n",
    "validation_generator = train_datagen.flow_from_directory(\n",
    "    validation_dir,\n",
    "    target_size=img_size,\n",
    "    batch_size=8,\n",
    "    class_mode='binary'\n",
    ")"
   ]
  },
  {
   "cell_type": "code",
   "execution_count": 105,
   "id": "79701dda",
   "metadata": {},
   "outputs": [],
   "source": [
    "#Build model\n",
    "\n",
    "model_4 = tf.keras.models.Sequential([\n",
    "    tf.keras.layers.Conv2D(32, (3, 3), activation='relu', input_shape=(64, 64, 3)),\n",
    "    tf.keras.layers.MaxPooling2D(2, 2),\n",
    "\n",
    "    tf.keras.layers.Conv2D(64, (3, 3), activation='relu'),\n",
    "    tf.keras.layers.MaxPooling2D(2, 2),\n",
    "\n",
    "    tf.keras.layers.Conv2D(128, (3, 3), activation='relu'),\n",
    "    tf.keras.layers.MaxPooling2D(2, 2),\n",
    "\n",
    "    tf.keras.layers.Flatten(),\n",
    "\n",
    "    tf.keras.layers.Dense(512, activation='relu'),\n",
    "\n",
    "    tf.keras.layers.Dropout(0.5),\n",
    "\n",
    "    tf.keras.layers.Dense(1, activation='sigmoid')\n",
    "])"
   ]
  },
  {
   "cell_type": "code",
   "execution_count": 106,
   "id": "5db62a8e",
   "metadata": {},
   "outputs": [
    {
     "name": "stdout",
     "output_type": "stream",
     "text": [
      "Model: \"sequential_16\"\n",
      "_________________________________________________________________\n",
      " Layer (type)                Output Shape              Param #   \n",
      "=================================================================\n",
      " conv2d_57 (Conv2D)          (None, 62, 62, 32)        896       \n",
      "                                                                 \n",
      " max_pooling2d_57 (MaxPoolin  (None, 31, 31, 32)       0         \n",
      " g2D)                                                            \n",
      "                                                                 \n",
      " conv2d_58 (Conv2D)          (None, 29, 29, 64)        18496     \n",
      "                                                                 \n",
      " max_pooling2d_58 (MaxPoolin  (None, 14, 14, 64)       0         \n",
      " g2D)                                                            \n",
      "                                                                 \n",
      " conv2d_59 (Conv2D)          (None, 12, 12, 128)       73856     \n",
      "                                                                 \n",
      " max_pooling2d_59 (MaxPoolin  (None, 6, 6, 128)        0         \n",
      " g2D)                                                            \n",
      "                                                                 \n",
      " flatten_16 (Flatten)        (None, 4608)              0         \n",
      "                                                                 \n",
      " dense_32 (Dense)            (None, 512)               2359808   \n",
      "                                                                 \n",
      " dropout_16 (Dropout)        (None, 512)               0         \n",
      "                                                                 \n",
      " dense_33 (Dense)            (None, 1)                 513       \n",
      "                                                                 \n",
      "=================================================================\n",
      "Total params: 2,453,569\n",
      "Trainable params: 2,453,569\n",
      "Non-trainable params: 0\n",
      "_________________________________________________________________\n"
     ]
    }
   ],
   "source": [
    "# Summary\n",
    "model_4.summary()"
   ]
  },
  {
   "cell_type": "code",
   "execution_count": 107,
   "id": "79211981",
   "metadata": {},
   "outputs": [],
   "source": [
    "model_4.compile(loss='binary_crossentropy', optimizer=Adam(lr=1e-4), metrics=['acc'])"
   ]
  },
  {
   "cell_type": "code",
   "execution_count": 110,
   "id": "a7c88956",
   "metadata": {},
   "outputs": [
    {
     "name": "stdout",
     "output_type": "stream",
     "text": [
      "Epoch 1/50\n"
     ]
    },
    {
     "name": "stderr",
     "output_type": "stream",
     "text": [
      "C:\\Users\\COOKFI~1\\AppData\\Local\\Temp/ipykernel_3948/131854613.py:2: UserWarning: `Model.fit_generator` is deprecated and will be removed in a future version. Please use `Model.fit`, which supports generators.\n",
      "  history_4 = model_4.fit_generator(\n"
     ]
    },
    {
     "name": "stdout",
     "output_type": "stream",
     "text": [
      "3000/3000 - 72s - loss: 0.6050 - acc: 0.6697 - val_loss: 0.5780 - val_acc: 0.6810 - 72s/epoch - 24ms/step\n",
      "Epoch 2/50\n",
      "3000/3000 - 71s - loss: 0.5660 - acc: 0.7040 - val_loss: 0.5389 - val_acc: 0.7310 - 71s/epoch - 24ms/step\n",
      "Epoch 3/50\n",
      "3000/3000 - 71s - loss: 0.5416 - acc: 0.7250 - val_loss: 0.5408 - val_acc: 0.7140 - 71s/epoch - 24ms/step\n",
      "Epoch 4/50\n",
      "3000/3000 - 73s - loss: 0.5295 - acc: 0.7321 - val_loss: 0.5098 - val_acc: 0.7490 - 73s/epoch - 24ms/step\n",
      "Epoch 5/50\n",
      "3000/3000 - 73s - loss: 0.5071 - acc: 0.7493 - val_loss: 0.4843 - val_acc: 0.7740 - 73s/epoch - 24ms/step\n",
      "Epoch 6/50\n",
      "3000/3000 - 73s - loss: 0.4920 - acc: 0.7597 - val_loss: 0.4796 - val_acc: 0.7830 - 73s/epoch - 24ms/step\n",
      "Epoch 7/50\n",
      "3000/3000 - 73s - loss: 0.4759 - acc: 0.7704 - val_loss: 0.4628 - val_acc: 0.7740 - 73s/epoch - 24ms/step\n",
      "Epoch 8/50\n",
      "3000/3000 - 72s - loss: 0.4658 - acc: 0.7758 - val_loss: 0.4382 - val_acc: 0.7880 - 72s/epoch - 24ms/step\n",
      "Epoch 9/50\n",
      "3000/3000 - 73s - loss: 0.4491 - acc: 0.7854 - val_loss: 0.4289 - val_acc: 0.8120 - 73s/epoch - 24ms/step\n",
      "Epoch 10/50\n",
      "3000/3000 - 73s - loss: 0.4348 - acc: 0.7979 - val_loss: 0.4107 - val_acc: 0.8060 - 73s/epoch - 24ms/step\n",
      "Epoch 11/50\n",
      "3000/3000 - 72s - loss: 0.4258 - acc: 0.8013 - val_loss: 0.4266 - val_acc: 0.8070 - 72s/epoch - 24ms/step\n",
      "Epoch 12/50\n",
      "3000/3000 - 72s - loss: 0.4140 - acc: 0.8086 - val_loss: 0.4061 - val_acc: 0.8140 - 72s/epoch - 24ms/step\n",
      "Epoch 13/50\n",
      "3000/3000 - 72s - loss: 0.4031 - acc: 0.8156 - val_loss: 0.4596 - val_acc: 0.7800 - 72s/epoch - 24ms/step\n",
      "Epoch 14/50\n",
      "3000/3000 - 72s - loss: 0.3937 - acc: 0.8211 - val_loss: 0.4035 - val_acc: 0.8250 - 72s/epoch - 24ms/step\n",
      "Epoch 15/50\n",
      "3000/3000 - 72s - loss: 0.3939 - acc: 0.8207 - val_loss: 0.3627 - val_acc: 0.8290 - 72s/epoch - 24ms/step\n",
      "Epoch 16/50\n",
      "3000/3000 - 72s - loss: 0.3766 - acc: 0.8290 - val_loss: 0.4233 - val_acc: 0.8100 - 72s/epoch - 24ms/step\n",
      "Epoch 17/50\n",
      "3000/3000 - 72s - loss: 0.3786 - acc: 0.8265 - val_loss: 0.3791 - val_acc: 0.8270 - 72s/epoch - 24ms/step\n",
      "Epoch 18/50\n",
      "3000/3000 - 72s - loss: 0.3665 - acc: 0.8355 - val_loss: 0.3818 - val_acc: 0.8340 - 72s/epoch - 24ms/step\n",
      "Epoch 19/50\n",
      "3000/3000 - 73s - loss: 0.3602 - acc: 0.8355 - val_loss: 0.3743 - val_acc: 0.8270 - 73s/epoch - 24ms/step\n",
      "Epoch 20/50\n",
      "3000/3000 - 73s - loss: 0.3598 - acc: 0.8390 - val_loss: 0.3624 - val_acc: 0.8400 - 73s/epoch - 24ms/step\n",
      "Epoch 21/50\n",
      "3000/3000 - 73s - loss: 0.3473 - acc: 0.8440 - val_loss: 0.3627 - val_acc: 0.8400 - 73s/epoch - 24ms/step\n",
      "Epoch 22/50\n",
      "3000/3000 - 73s - loss: 0.3479 - acc: 0.8455 - val_loss: 0.3723 - val_acc: 0.8280 - 73s/epoch - 24ms/step\n",
      "Epoch 23/50\n",
      "3000/3000 - 72s - loss: 0.3424 - acc: 0.8477 - val_loss: 0.3553 - val_acc: 0.8440 - 72s/epoch - 24ms/step\n",
      "Epoch 24/50\n",
      "3000/3000 - 72s - loss: 0.3388 - acc: 0.8494 - val_loss: 0.3648 - val_acc: 0.8390 - 72s/epoch - 24ms/step\n",
      "Epoch 25/50\n",
      "3000/3000 - 72s - loss: 0.3327 - acc: 0.8536 - val_loss: 0.3316 - val_acc: 0.8540 - 72s/epoch - 24ms/step\n",
      "Epoch 26/50\n",
      "3000/3000 - 73s - loss: 0.3261 - acc: 0.8584 - val_loss: 0.3179 - val_acc: 0.8550 - 73s/epoch - 24ms/step\n",
      "Epoch 27/50\n",
      "3000/3000 - 73s - loss: 0.3240 - acc: 0.8595 - val_loss: 0.3383 - val_acc: 0.8510 - 73s/epoch - 24ms/step\n",
      "Epoch 28/50\n",
      "3000/3000 - 72s - loss: 0.3153 - acc: 0.8617 - val_loss: 0.3267 - val_acc: 0.8580 - 72s/epoch - 24ms/step\n",
      "Epoch 29/50\n",
      "3000/3000 - 73s - loss: 0.3154 - acc: 0.8615 - val_loss: 0.3662 - val_acc: 0.8320 - 73s/epoch - 24ms/step\n",
      "Epoch 30/50\n",
      "3000/3000 - 73s - loss: 0.3162 - acc: 0.8609 - val_loss: 0.3335 - val_acc: 0.8610 - 73s/epoch - 24ms/step\n",
      "Epoch 31/50\n",
      "3000/3000 - 73s - loss: 0.3126 - acc: 0.8605 - val_loss: 0.3762 - val_acc: 0.8210 - 73s/epoch - 24ms/step\n",
      "Epoch 32/50\n",
      "3000/3000 - 73s - loss: 0.3061 - acc: 0.8663 - val_loss: 0.3325 - val_acc: 0.8640 - 73s/epoch - 24ms/step\n",
      "Epoch 33/50\n",
      "3000/3000 - 73s - loss: 0.3058 - acc: 0.8666 - val_loss: 0.3010 - val_acc: 0.8670 - 73s/epoch - 24ms/step\n",
      "Epoch 34/50\n",
      "3000/3000 - 73s - loss: 0.2979 - acc: 0.8699 - val_loss: 0.3025 - val_acc: 0.8630 - 73s/epoch - 24ms/step\n",
      "Epoch 35/50\n",
      "3000/3000 - 73s - loss: 0.2993 - acc: 0.8681 - val_loss: 0.3766 - val_acc: 0.8310 - 73s/epoch - 24ms/step\n",
      "Epoch 36/50\n",
      "3000/3000 - 73s - loss: 0.2961 - acc: 0.8721 - val_loss: 0.3023 - val_acc: 0.8670 - 73s/epoch - 24ms/step\n",
      "Epoch 37/50\n",
      "3000/3000 - 73s - loss: 0.2911 - acc: 0.8735 - val_loss: 0.3113 - val_acc: 0.8620 - 73s/epoch - 24ms/step\n",
      "Epoch 38/50\n",
      "3000/3000 - 73s - loss: 0.2955 - acc: 0.8712 - val_loss: 0.3020 - val_acc: 0.8770 - 73s/epoch - 24ms/step\n",
      "Epoch 39/50\n",
      "3000/3000 - 73s - loss: 0.2846 - acc: 0.8760 - val_loss: 0.3212 - val_acc: 0.8590 - 73s/epoch - 24ms/step\n",
      "Epoch 40/50\n",
      "3000/3000 - 73s - loss: 0.2849 - acc: 0.8770 - val_loss: 0.3001 - val_acc: 0.8680 - 73s/epoch - 24ms/step\n",
      "Epoch 41/50\n",
      "3000/3000 - 72s - loss: 0.2850 - acc: 0.8766 - val_loss: 0.2802 - val_acc: 0.8720 - 72s/epoch - 24ms/step\n",
      "Epoch 42/50\n",
      "3000/3000 - 73s - loss: 0.2808 - acc: 0.8792 - val_loss: 0.3178 - val_acc: 0.8690 - 73s/epoch - 24ms/step\n",
      "Epoch 43/50\n",
      "3000/3000 - 72s - loss: 0.2808 - acc: 0.8788 - val_loss: 0.3076 - val_acc: 0.8630 - 72s/epoch - 24ms/step\n",
      "Epoch 44/50\n",
      "3000/3000 - 72s - loss: 0.2752 - acc: 0.8808 - val_loss: 0.2857 - val_acc: 0.8790 - 72s/epoch - 24ms/step\n",
      "Epoch 45/50\n",
      "3000/3000 - 72s - loss: 0.2754 - acc: 0.8810 - val_loss: 0.2969 - val_acc: 0.8680 - 72s/epoch - 24ms/step\n",
      "Epoch 46/50\n",
      "3000/3000 - 73s - loss: 0.2681 - acc: 0.8858 - val_loss: 0.2751 - val_acc: 0.8830 - 73s/epoch - 24ms/step\n",
      "Epoch 47/50\n",
      "3000/3000 - 73s - loss: 0.2700 - acc: 0.8845 - val_loss: 0.2809 - val_acc: 0.8720 - 73s/epoch - 24ms/step\n",
      "Epoch 48/50\n",
      "3000/3000 - 73s - loss: 0.2697 - acc: 0.8841 - val_loss: 0.2784 - val_acc: 0.8840 - 73s/epoch - 24ms/step\n",
      "Epoch 49/50\n",
      "3000/3000 - 73s - loss: 0.2637 - acc: 0.8862 - val_loss: 0.2803 - val_acc: 0.8720 - 73s/epoch - 24ms/step\n",
      "Epoch 50/50\n",
      "3000/3000 - 73s - loss: 0.2629 - acc: 0.8873 - val_loss: 0.2758 - val_acc: 0.8830 - 73s/epoch - 24ms/step\n"
     ]
    }
   ],
   "source": [
    "start=datetime.now()\n",
    "history_4 = model_4.fit_generator(\n",
    "    train_generator,\n",
    "    epochs=50,\n",
    "    validation_data=validation_generator,\n",
    "    verbose=2\n",
    ")\n",
    "end=datetime.now()\n",
    "cnn_time_4 = end-start"
   ]
  },
  {
   "cell_type": "code",
   "execution_count": 111,
   "id": "ffaf47f4",
   "metadata": {},
   "outputs": [
    {
     "name": "stdout",
     "output_type": "stream",
     "text": [
      "1:00:26.939082\n"
     ]
    }
   ],
   "source": [
    "# Print time\n",
    "print(cnn_time_4)"
   ]
  },
  {
   "cell_type": "code",
   "execution_count": 112,
   "id": "b2c54244",
   "metadata": {},
   "outputs": [
    {
     "data": {
      "image/png": "[encoded data removed]",
      "text/plain": [
       "<Figure size 432x288 with 1 Axes>"
      ]
     },
     "metadata": {
      "needs_background": "light"
     },
     "output_type": "display_data"
    },
    {
     "data": {
      "image/png": "[encoded data removed]",
      "text/plain": [
       "<Figure size 432x288 with 1 Axes>"
      ]
     },
     "metadata": {
      "needs_background": "light"
     },
     "output_type": "display_data"
    }
   ],
   "source": [
    "# Visualize training results\n",
    "acc = history_4.history['acc']\n",
    "val_acc = history_4.history['val_acc']\n",
    "\n",
    "loss = history_4.history['loss']\n",
    "val_loss = history_4.history['val_loss']\n",
    "\n",
    "epochs = range(len(acc))\n",
    "\n",
    "plt.plot(epochs, acc, 'b', label='Training accuracy')\n",
    "plt.plot(epochs, val_acc, 'r', label='Validation accuracy')\n",
    "plt.title('Training and validation accuracy')\n",
    "plt.legend()\n",
    "\n",
    "plt.figure()\n",
    "\n",
    "plt.plot(epochs, loss, 'b', label='Training loss')\n",
    "plt.plot(epochs, val_loss, 'r', label='Validation loss')\n",
    "plt.title('Training and validation loss')\n",
    "plt.legend()\n",
    "\n",
    "plt.show()"
   ]
  },
  {
   "cell_type": "code",
   "execution_count": 113,
   "id": "92280b00",
   "metadata": {},
   "outputs": [
    {
     "name": "stdout",
     "output_type": "stream",
     "text": [
      "Found 12500 images belonging to 1 classes.\n"
     ]
    }
   ],
   "source": [
    "test_generator = test_datagen.flow_from_directory(\n",
    "    test_dir,\n",
    "    target_size=img_size,\n",
    "    batch_size=8,\n",
    "    class_mode='binary'\n",
    ")"
   ]
  },
  {
   "cell_type": "code",
   "execution_count": 114,
   "id": "6e288e49",
   "metadata": {},
   "outputs": [
    {
     "data": {
      "text/plain": [
       "array([[0.07044142],\n",
       "       [0.9873302 ],\n",
       "       [0.13374954],\n",
       "       ...,\n",
       "       [0.9943048 ],\n",
       "       [0.41014886],\n",
       "       [0.657086  ]], dtype=float32)"
      ]
     },
     "execution_count": 114,
     "metadata": {},
     "output_type": "execute_result"
    }
   ],
   "source": [
    "pred_4 = model_4.predict(test_generator)\n",
    "pred_4"
   ]
  },
  {
   "cell_type": "code",
   "execution_count": 115,
   "id": "e287fd86",
   "metadata": {},
   "outputs": [],
   "source": [
    "new_pred = pred_4\n",
    "final_pred_2 =[0]*len(new_pred)\n",
    "x = 0\n",
    "for i in new_pred:\n",
    "    final_pred_2[x] = i\n",
    "    final_pred_2[x] = str(final_pred_2[x])[1 : -2]\n",
    "    x+=1"
   ]
  },
  {
   "cell_type": "code",
   "execution_count": 116,
   "id": "6e9ee41b",
   "metadata": {},
   "outputs": [],
   "source": [
    "final_pred_2 = pd.Series(final_pred_2 ,name=\"label\")\n",
    "submission = pd.concat([pd.Series(range(1,12501),name = \"id\"),final_pred_2],axis = 1)\n",
    "submission.to_csv(\"predictions-5.csv\",index=False)"
   ]
  },
  {
   "attachments": {
    "5.png": {
     "image/png": "[encoded data removed]"
    }
   },
   "cell_type": "markdown",
   "id": "67228a2d",
   "metadata": {},
   "source": [
    "![5.png](attachment:5.png)"
   ]
  },
  {
   "cell_type": "markdown",
   "id": "692ae604",
   "metadata": {},
   "source": [
    "## Conclusion"
   ]
  },
  {
   "cell_type": "code",
   "execution_count": 121,
   "id": "c0dabfcb",
   "metadata": {},
   "outputs": [],
   "source": [
    "data = [['64x64',3,15,cnn_time,0.8208,0.8050], \n",
    "        ['64x64',4,15,cnn_time_2,0.8421,0.8410], \n",
    "        ['150x150',3,15,cnn_time_3,0.8525,0.8510], \n",
    "        ['64x64',3,50,cnn_time_4,0.8873,0.8830]]"
   ]
  },
  {
   "cell_type": "code",
   "execution_count": 122,
   "id": "67154c22",
   "metadata": {},
   "outputs": [
    {
     "data": {
      "text/html": [
       "<div>\n",
       "<style scoped>\n",
       "    .dataframe tbody tr th:only-of-type {\n",
       "        vertical-align: middle;\n",
       "    }\n",
       "\n",
       "    .dataframe tbody tr th {\n",
       "        vertical-align: top;\n",
       "    }\n",
       "\n",
       "    .dataframe thead th {\n",
       "        text-align: right;\n",
       "    }\n",
       "</style>\n",
       "<table border=\"1\" class=\"dataframe\">\n",
       "  <thead>\n",
       "    <tr style=\"text-align: right;\">\n",
       "      <th></th>\n",
       "      <th>Image Size</th>\n",
       "      <th>Conv2D Layers</th>\n",
       "      <th>Epochs</th>\n",
       "      <th>Time</th>\n",
       "      <th>Training Accuracy</th>\n",
       "      <th>Testing Accuracy</th>\n",
       "    </tr>\n",
       "  </thead>\n",
       "  <tbody>\n",
       "    <tr>\n",
       "      <th>0</th>\n",
       "      <td>64x64</td>\n",
       "      <td>3</td>\n",
       "      <td>15</td>\n",
       "      <td>0 days 00:17:46.714890</td>\n",
       "      <td>0.8208</td>\n",
       "      <td>0.805</td>\n",
       "    </tr>\n",
       "    <tr>\n",
       "      <th>1</th>\n",
       "      <td>64x64</td>\n",
       "      <td>4</td>\n",
       "      <td>15</td>\n",
       "      <td>0 days 00:16:13.772455</td>\n",
       "      <td>0.8421</td>\n",
       "      <td>0.841</td>\n",
       "    </tr>\n",
       "    <tr>\n",
       "      <th>2</th>\n",
       "      <td>150x150</td>\n",
       "      <td>3</td>\n",
       "      <td>15</td>\n",
       "      <td>0 days 01:16:03.544463</td>\n",
       "      <td>0.8525</td>\n",
       "      <td>0.851</td>\n",
       "    </tr>\n",
       "    <tr>\n",
       "      <th>3</th>\n",
       "      <td>64x64</td>\n",
       "      <td>3</td>\n",
       "      <td>50</td>\n",
       "      <td>0 days 01:00:26.939082</td>\n",
       "      <td>0.8873</td>\n",
       "      <td>0.883</td>\n",
       "    </tr>\n",
       "  </tbody>\n",
       "</table>\n",
       "</div>"
      ],
      "text/plain": [
       "  Image Size  Conv2D Layers  Epochs                   Time  Training Accuracy  \\\n",
       "0      64x64              3      15 0 days 00:17:46.714890             0.8208   \n",
       "1      64x64              4      15 0 days 00:16:13.772455             0.8421   \n",
       "2    150x150              3      15 0 days 01:16:03.544463             0.8525   \n",
       "3      64x64              3      50 0 days 01:00:26.939082             0.8873   \n",
       "\n",
       "   Testing Accuracy  \n",
       "0             0.805  \n",
       "1             0.841  \n",
       "2             0.851  \n",
       "3             0.883  "
      ]
     },
     "execution_count": 122,
     "metadata": {},
     "output_type": "execute_result"
    }
   ],
   "source": [
    "con_df = pd.DataFrame(data, columns = ['Image Size','Conv2D Layers', 'Epochs','Time','Training Accuracy','Testing Accuracy'])\n",
    "con_df"
   ]
  },
  {
   "cell_type": "markdown",
   "id": "01f41492",
   "metadata": {},
   "source": [
    "By controlling the four variables of CNN, I got some enlightenment. Adding Conv2D Layers can increase prediction accuracy without increasing the modeling time; the effect is more pronounced. \n",
    "\n",
    "Changing image size also has a significant influence on the accuracy of prediction. Once the hardware allows, the more detailed the photos are, the better the model training effect is. But at the same time, modeling time increases massively.\n",
    "\n",
    "Increasing Epochs is a more effective method. It can be seen from the various Training and Validation accuracy charts that the number and accuracy of Epochs is a standard function curve. However, the disadvantages are also apparent. Increasing the number of EPOCHS will significantly increase the modeling time and require very high hardware requirements.\n",
    "\n",
    "In addition, I am not quite clear about the scoring criteria after the Kaggle upload. In the first prediction of CNN, I completely converted it to 0,1, but since it was not obvious to observe, I still retained the method before transformation to compare CNN and CNN 4."
   ]
  },
  {
   "cell_type": "code",
   "execution_count": null,
   "id": "b6c6c927",
   "metadata": {},
   "outputs": [],
   "source": []
  }
 ],
 "metadata": {
  "kernelspec": {
   "display_name": "Python 3 (ipykernel)",
   "language": "python",
   "name": "python3"
  },
  "language_info": {
   "codemirror_mode": {
    "name": "ipython",
    "version": 3
   },
   "file_extension": ".py",
   "mimetype": "text/x-python",
   "name": "python",
   "nbconvert_exporter": "python",
   "pygments_lexer": "ipython3",
   "version": "3.9.7"
  }
 },
 "nbformat": 4,
 "nbformat_minor": 5
}
