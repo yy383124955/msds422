{
 "cells": [
  {
   "cell_type": "markdown",
   "id": "3703ac73",
   "metadata": {},
   "source": [
    "# MSDS 422 - Module 7 Assignment 1\n",
    "## Yue Yu\n",
    "github: https://github.com/yy383124955/msds422/tree/main/Week%207\n",
    "\n",
    "## Data overview"
   ]
  },
  {
   "cell_type": "code",
   "execution_count": 1,
   "id": "3ad08e44",
   "metadata": {},
   "outputs": [],
   "source": [
    "# Import modules\n",
    "import pandas as pd\n",
    "import numpy as np\n",
    "import matplotlib.pyplot as plt\n",
    "import seaborn as sns\n",
    "from datetime import datetime\n",
    "from sklearn import tree\n",
    "from sklearn.metrics import accuracy_score\n",
    "from sklearn.model_selection import StratifiedKFold\n",
    "from sklearn.base import clone\n",
    "from sklearn.model_selection import cross_val_score\n",
    "from sklearn.base import BaseEstimator\n",
    "from sklearn.model_selection import cross_val_predict\n",
    "from sklearn.metrics import confusion_matrix\n",
    "from sklearn.metrics import f1_score\n",
    "from sklearn.metrics import precision_score, recall_score\n",
    "from sklearn.metrics import precision_recall_curve\n",
    "from sklearn.metrics import roc_curve\n",
    "from sklearn.metrics import roc_auc_score\n",
    "from sklearn.ensemble import RandomForestClassifier\n",
    "from sklearn.model_selection import train_test_split\n",
    "\n",
    "%matplotlib inline\n",
    "sns.set()"
   ]
  },
  {
   "cell_type": "code",
   "execution_count": 2,
   "id": "b065f3fa",
   "metadata": {},
   "outputs": [],
   "source": [
    "# Import data\n",
    "number_train = pd.read_csv('train.csv')\n",
    "number_test = pd.read_csv('test.csv')"
   ]
  },
  {
   "cell_type": "code",
   "execution_count": 3,
   "id": "54be68ea",
   "metadata": {},
   "outputs": [],
   "source": [
    "X_train = number_train.drop(labels = [\"label\"],axis = 1) \n",
    "y_train = number_train[\"label\"]"
   ]
  },
  {
   "cell_type": "markdown",
   "id": "d5b83cd6",
   "metadata": {},
   "source": [
    "## TLU"
   ]
  },
  {
   "cell_type": "code",
   "execution_count": 4,
   "id": "e632f144",
   "metadata": {},
   "outputs": [],
   "source": [
    "from sklearn.linear_model import Perceptron\n",
    "\n",
    "per_clf = Perceptron()\n",
    "start=datetime.now()\n",
    "per_clf.fit(X_train, y_train)\n",
    "end=datetime.now()\n",
    "y_pred_rf = per_clf.predict(number_test)\n",
    "tlu_time = end-start"
   ]
  },
  {
   "cell_type": "code",
   "execution_count": 5,
   "id": "6f8bd913",
   "metadata": {},
   "outputs": [
    {
     "name": "stdout",
     "output_type": "stream",
     "text": [
      "0:00:05.035837\n"
     ]
    }
   ],
   "source": [
    "# Print time\n",
    "print(tlu_time)"
   ]
  },
  {
   "cell_type": "code",
   "execution_count": 6,
   "id": "c37f7585",
   "metadata": {},
   "outputs": [],
   "source": [
    "y_pred_rf = pd.Series(y_pred_rf ,name=\"Label\")\n",
    "submission = pd.concat([pd.Series(range(1,28001),name = \"ImageId\"),y_pred_rf],axis = 1)\n",
    "submission.to_csv(\"predictions-1.csv\",index=False)"
   ]
  },
  {
   "attachments": {
    "1.png": {
     "image/png": "[encoded data removed]"
    }
   },
   "cell_type": "markdown",
   "id": "4ccb14f0",
   "metadata": {},
   "source": [
    "![1.png](attachment:1.png)"
   ]
  },
  {
   "cell_type": "markdown",
   "id": "220b7987",
   "metadata": {},
   "source": [
    "## MLP"
   ]
  },
  {
   "cell_type": "code",
   "execution_count": 52,
   "id": "64bdbf05",
   "metadata": {},
   "outputs": [],
   "source": [
    "from tensorflow import keras\n",
    "from tensorflow.keras import layers\n",
    "\n",
    "# Scale images to the [0, 1] range\n",
    "X_train_2 = X_train / 255.0\n",
    "number_test_2 = number_test / 255.0\n",
    "# Make sure images have shape (784, 1, 1)\n",
    "X_train_2 = np.expand_dims(X_train_2, -1)\n",
    "number_test_2  = np.expand_dims(number_test_2 , -1)"
   ]
  },
  {
   "cell_type": "code",
   "execution_count": 53,
   "id": "17aa9e4b",
   "metadata": {},
   "outputs": [
    {
     "data": {
      "text/plain": [
       "(42000, 784, 1)"
      ]
     },
     "execution_count": 53,
     "metadata": {},
     "output_type": "execute_result"
    }
   ],
   "source": [
    "X_train_2.shape"
   ]
  },
  {
   "cell_type": "code",
   "execution_count": 54,
   "id": "d8477c80",
   "metadata": {},
   "outputs": [],
   "source": [
    "num_classes = 10\n",
    "input_shape = (784, 1)"
   ]
  },
  {
   "cell_type": "code",
   "execution_count": 55,
   "id": "d52b3596",
   "metadata": {},
   "outputs": [
    {
     "name": "stdout",
     "output_type": "stream",
     "text": [
      "x_train shape: (42000, 784, 1)\n"
     ]
    }
   ],
   "source": [
    "y_train_2 = keras.utils.to_categorical(y_train, num_classes)\n",
    "print(\"x_train shape:\", X_train_2.shape)"
   ]
  },
  {
   "cell_type": "code",
   "execution_count": 56,
   "id": "e5b46d12",
   "metadata": {},
   "outputs": [],
   "source": [
    "model = keras.models.Sequential([\n",
    "    keras.layers.Flatten(input_shape=[784, 1]),\n",
    "    keras.layers.Dense(300, activation=\"relu\"),\n",
    "    keras.layers.Dense(300, activation=\"relu\"),\n",
    "    keras.layers.Dense(10, activation=\"softmax\")\n",
    "]) \n"
   ]
  },
  {
   "cell_type": "code",
   "execution_count": 57,
   "id": "00061a88",
   "metadata": {},
   "outputs": [
    {
     "name": "stdout",
     "output_type": "stream",
     "text": [
      "Epoch 1/5\n",
      "296/296 [==============================] - 1s 2ms/step - loss: 0.3122 - accuracy: 0.9100 - val_loss: 0.1554 - val_accuracy: 0.9510\n",
      "Epoch 2/5\n",
      "296/296 [==============================] - 0s 2ms/step - loss: 0.1173 - accuracy: 0.9652 - val_loss: 0.1132 - val_accuracy: 0.9655\n",
      "Epoch 3/5\n",
      "296/296 [==============================] - 0s 2ms/step - loss: 0.0729 - accuracy: 0.9779 - val_loss: 0.0954 - val_accuracy: 0.9705\n",
      "Epoch 4/5\n",
      "296/296 [==============================] - 0s 2ms/step - loss: 0.0520 - accuracy: 0.9836 - val_loss: 0.0785 - val_accuracy: 0.9776\n",
      "Epoch 5/5\n",
      "296/296 [==============================] - 0s 2ms/step - loss: 0.0361 - accuracy: 0.9883 - val_loss: 0.0922 - val_accuracy: 0.9717\n"
     ]
    }
   ],
   "source": [
    "batch_size = 128\n",
    "epochs = 5\n",
    "\n",
    "model.compile(loss=\"categorical_crossentropy\", optimizer=\"adam\", metrics=[\"accuracy\"])\n",
    "start=datetime.now()\n",
    "model.fit(X_train_2, y_train_2, batch_size=batch_size, epochs=epochs, validation_split=0.1)\n",
    "end=datetime.now()\n",
    "mlp_time = end-start"
   ]
  },
  {
   "cell_type": "code",
   "execution_count": 58,
   "id": "86bc732a",
   "metadata": {},
   "outputs": [
    {
     "name": "stdout",
     "output_type": "stream",
     "text": [
      "0:00:02.740995\n"
     ]
    }
   ],
   "source": [
    "# Print time\n",
    "print(mlp_time)"
   ]
  },
  {
   "cell_type": "code",
   "execution_count": 59,
   "id": "76e0d328",
   "metadata": {},
   "outputs": [
    {
     "data": {
      "text/plain": [
       "(28000, 784, 1)"
      ]
     },
     "execution_count": 59,
     "metadata": {},
     "output_type": "execute_result"
    }
   ],
   "source": [
    "number_test_2.shape"
   ]
  },
  {
   "cell_type": "code",
   "execution_count": 60,
   "id": "8a717251",
   "metadata": {},
   "outputs": [],
   "source": [
    "y_pred_2 =model.predict(number_test_2)"
   ]
  },
  {
   "cell_type": "code",
   "execution_count": 61,
   "id": "81b537cf",
   "metadata": {},
   "outputs": [],
   "source": [
    "y_pred_2 = np.argmax(y_pred_2,axis = 1)"
   ]
  },
  {
   "cell_type": "code",
   "execution_count": 62,
   "id": "d8781573",
   "metadata": {},
   "outputs": [],
   "source": [
    "y_pred_2 = pd.Series(y_pred_2 ,name=\"Label\")\n",
    "submission = pd.concat([pd.Series(range(1,28001),name = \"ImageId\"),y_pred_2],axis = 1)\n",
    "submission.to_csv(\"predictions-2.csv\",index=False)"
   ]
  },
  {
   "attachments": {
    "2.png": {
     "image/png": "[encoded data removed]"
    }
   },
   "cell_type": "markdown",
   "id": "ad8394e0",
   "metadata": {},
   "source": [
    "![2.png](attachment:2.png)"
   ]
  },
  {
   "cell_type": "markdown",
   "id": "2719aec3",
   "metadata": {},
   "source": [
    "## MLP-2"
   ]
  },
  {
   "cell_type": "code",
   "execution_count": 63,
   "id": "24fb4a5b",
   "metadata": {},
   "outputs": [],
   "source": [
    "# Scale images to the [0, 1] range\n",
    "X_train_3 = X_train / 255.0\n",
    "number_test_3 = number_test / 255.0\n",
    "# Make sure images have shape (784, 1, 1)\n",
    "X_train_3 = np.expand_dims(X_train_3, -1)\n",
    "number_test_3  = np.expand_dims(number_test_3 , -1)"
   ]
  },
  {
   "cell_type": "code",
   "execution_count": 64,
   "id": "1e1ea966",
   "metadata": {},
   "outputs": [
    {
     "name": "stdout",
     "output_type": "stream",
     "text": [
      "x_train shape: (42000, 784, 1)\n"
     ]
    }
   ],
   "source": [
    "y_train_3 = keras.utils.to_categorical(y_train, num_classes)\n",
    "print(\"x_train shape:\", X_train_3.shape)"
   ]
  },
  {
   "cell_type": "code",
   "execution_count": 65,
   "id": "55b00165",
   "metadata": {},
   "outputs": [],
   "source": [
    "model = keras.models.Sequential([\n",
    "    keras.layers.Flatten(input_shape=[784, 1]),\n",
    "    keras.layers.Dense(300, activation=\"relu\"),\n",
    "    keras.layers.Dense(10, activation=\"softmax\")\n",
    "]) "
   ]
  },
  {
   "cell_type": "code",
   "execution_count": 66,
   "id": "5289c502",
   "metadata": {
    "scrolled": true
   },
   "outputs": [
    {
     "name": "stdout",
     "output_type": "stream",
     "text": [
      "Epoch 1/5\n",
      "296/296 [==============================] - 1s 1ms/step - loss: 0.3507 - accuracy: 0.9017 - val_loss: 0.1927 - val_accuracy: 0.9464\n",
      "Epoch 2/5\n",
      "296/296 [==============================] - 0s 1ms/step - loss: 0.1550 - accuracy: 0.9553 - val_loss: 0.1328 - val_accuracy: 0.9605\n",
      "Epoch 3/5\n",
      "296/296 [==============================] - 0s 1ms/step - loss: 0.1044 - accuracy: 0.9708 - val_loss: 0.1126 - val_accuracy: 0.9655\n",
      "Epoch 4/5\n",
      "296/296 [==============================] - 0s 1ms/step - loss: 0.0766 - accuracy: 0.9784 - val_loss: 0.1016 - val_accuracy: 0.9690\n",
      "Epoch 5/5\n",
      "296/296 [==============================] - 0s 1ms/step - loss: 0.0586 - accuracy: 0.9829 - val_loss: 0.0882 - val_accuracy: 0.9748\n"
     ]
    }
   ],
   "source": [
    "model.compile(loss=\"categorical_crossentropy\", optimizer=\"adam\", metrics=[\"accuracy\"])\n",
    "start=datetime.now()\n",
    "model.fit(X_train_3, y_train_3, batch_size=batch_size, epochs=epochs, validation_split=0.1)\n",
    "end=datetime.now()\n",
    "mlp_time_2 = end-start"
   ]
  },
  {
   "cell_type": "code",
   "execution_count": 67,
   "id": "bb3ddfe6",
   "metadata": {},
   "outputs": [
    {
     "name": "stdout",
     "output_type": "stream",
     "text": [
      "0:00:02.128180\n"
     ]
    }
   ],
   "source": [
    "# Print time\n",
    "print(mlp_time_2)"
   ]
  },
  {
   "cell_type": "code",
   "execution_count": 68,
   "id": "ff4eb057",
   "metadata": {},
   "outputs": [],
   "source": [
    "y_pred_3 =model.predict(number_test_3)"
   ]
  },
  {
   "cell_type": "code",
   "execution_count": 69,
   "id": "3d35a543",
   "metadata": {},
   "outputs": [],
   "source": [
    "y_pred_3 = np.argmax(y_pred_3,axis = 1)"
   ]
  },
  {
   "cell_type": "code",
   "execution_count": 70,
   "id": "64f6b1ae",
   "metadata": {},
   "outputs": [],
   "source": [
    "y_pred_3 = pd.Series(y_pred_3 ,name=\"Label\")\n",
    "submission = pd.concat([pd.Series(range(1,28001),name = \"ImageId\"),y_pred_3],axis = 1)\n",
    "submission.to_csv(\"predictions-3.csv\",index=False)"
   ]
  },
  {
   "attachments": {
    "3.png": {
     "image/png": "[encoded data removed]"
    }
   },
   "cell_type": "markdown",
   "id": "2ab93418",
   "metadata": {},
   "source": [
    "![3.png](attachment:3.png)"
   ]
  },
  {
   "cell_type": "markdown",
   "id": "e053d192",
   "metadata": {},
   "source": [
    "## MLP-3"
   ]
  },
  {
   "cell_type": "code",
   "execution_count": 71,
   "id": "ff0286e5",
   "metadata": {},
   "outputs": [],
   "source": [
    "# Scale images to the [0, 1] range\n",
    "X_train_4 = X_train / 255.0\n",
    "number_test_4 = number_test / 255.0\n",
    "# Make sure images have shape (784, 1, 1)\n",
    "X_train_4 = np.expand_dims(X_train_4, -1)\n",
    "number_test_4  = np.expand_dims(number_test_4 , -1)"
   ]
  },
  {
   "cell_type": "code",
   "execution_count": 72,
   "id": "cf18d9a1",
   "metadata": {},
   "outputs": [
    {
     "name": "stdout",
     "output_type": "stream",
     "text": [
      "x_train shape: (42000, 784, 1)\n"
     ]
    }
   ],
   "source": [
    "y_train_4 = keras.utils.to_categorical(y_train, num_classes)\n",
    "print(\"x_train shape:\", X_train_4.shape)"
   ]
  },
  {
   "cell_type": "code",
   "execution_count": 73,
   "id": "d6d48c8a",
   "metadata": {},
   "outputs": [],
   "source": [
    "model = keras.models.Sequential([\n",
    "    keras.layers.Flatten(input_shape=[784, 1]),\n",
    "    keras.layers.Dense(100, activation=\"relu\"),\n",
    "    keras.layers.Dense(100, activation=\"relu\"),\n",
    "    keras.layers.Dense(10, activation=\"softmax\")\n",
    "]) "
   ]
  },
  {
   "cell_type": "code",
   "execution_count": 74,
   "id": "6969d07e",
   "metadata": {},
   "outputs": [
    {
     "name": "stdout",
     "output_type": "stream",
     "text": [
      "Epoch 1/5\n",
      "296/296 [==============================] - 1s 1ms/step - loss: 0.4324 - accuracy: 0.8804 - val_loss: 0.2127 - val_accuracy: 0.9367\n",
      "Epoch 2/5\n",
      "296/296 [==============================] - 0s 998us/step - loss: 0.1677 - accuracy: 0.9504 - val_loss: 0.1484 - val_accuracy: 0.9548\n",
      "Epoch 3/5\n",
      "296/296 [==============================] - 0s 997us/step - loss: 0.1197 - accuracy: 0.9642 - val_loss: 0.1321 - val_accuracy: 0.9569\n",
      "Epoch 4/5\n",
      "296/296 [==============================] - 0s 997us/step - loss: 0.0922 - accuracy: 0.9724 - val_loss: 0.1144 - val_accuracy: 0.9643\n",
      "Epoch 5/5\n",
      "296/296 [==============================] - 0s 1ms/step - loss: 0.0728 - accuracy: 0.9777 - val_loss: 0.1042 - val_accuracy: 0.9650\n"
     ]
    }
   ],
   "source": [
    "model.compile(loss=\"categorical_crossentropy\", optimizer=\"adam\", metrics=[\"accuracy\"])\n",
    "start=datetime.now()\n",
    "model.fit(X_train_4, y_train_4, batch_size=batch_size, epochs=epochs, validation_split=0.1)\n",
    "end=datetime.now()\n",
    "mlp_time_3 = end-start"
   ]
  },
  {
   "cell_type": "code",
   "execution_count": 75,
   "id": "d5cf6f12",
   "metadata": {},
   "outputs": [
    {
     "name": "stdout",
     "output_type": "stream",
     "text": [
      "0:00:01.782636\n"
     ]
    }
   ],
   "source": [
    "# Print time\n",
    "print(mlp_time_3)"
   ]
  },
  {
   "cell_type": "code",
   "execution_count": 76,
   "id": "66a1bea7",
   "metadata": {},
   "outputs": [],
   "source": [
    "y_pred_4 =model.predict(number_test_4)\n",
    "y_pred_4 = np.argmax(y_pred_4,axis = 1)\n",
    "y_pred_4 = pd.Series(y_pred_4 ,name=\"Label\")\n",
    "submission = pd.concat([pd.Series(range(1,28001),name = \"ImageId\"),y_pred_4],axis = 1)\n",
    "submission.to_csv(\"predictions-4.csv\",index=False)"
   ]
  },
  {
   "attachments": {
    "4.png": {
     "image/png": "[encoded data removed]"
    }
   },
   "cell_type": "markdown",
   "id": "2e86c1da",
   "metadata": {},
   "source": [
    "![4.png](attachment:4.png)"
   ]
  },
  {
   "cell_type": "markdown",
   "id": "47e5d5f7",
   "metadata": {},
   "source": [
    "## MLP-4"
   ]
  },
  {
   "cell_type": "code",
   "execution_count": 77,
   "id": "956d0c98",
   "metadata": {},
   "outputs": [],
   "source": [
    "# Scale images to the [0, 1] range\n",
    "X_train_5 = X_train / 255.0\n",
    "number_test_5 = number_test / 255.0\n",
    "# Make sure images have shape (784, 1, 1)\n",
    "X_train_5 = np.expand_dims(X_train_5, -1)\n",
    "number_test_5  = np.expand_dims(number_test_5 , -1)"
   ]
  },
  {
   "cell_type": "code",
   "execution_count": 78,
   "id": "a532451e",
   "metadata": {},
   "outputs": [
    {
     "name": "stdout",
     "output_type": "stream",
     "text": [
      "x_train shape: (42000, 784, 1)\n"
     ]
    }
   ],
   "source": [
    "y_train_5 = keras.utils.to_categorical(y_train, num_classes)\n",
    "print(\"x_train shape:\", X_train_5.shape)"
   ]
  },
  {
   "cell_type": "code",
   "execution_count": 79,
   "id": "3e44c275",
   "metadata": {},
   "outputs": [],
   "source": [
    "model = keras.models.Sequential([\n",
    "    keras.layers.Flatten(input_shape=[784, 1]),\n",
    "    keras.layers.Dense(100, activation=\"relu\"),\n",
    "    keras.layers.Dense(10, activation=\"softmax\")\n",
    "]) "
   ]
  },
  {
   "cell_type": "code",
   "execution_count": 80,
   "id": "dde2c7f6",
   "metadata": {},
   "outputs": [
    {
     "name": "stdout",
     "output_type": "stream",
     "text": [
      "Epoch 1/5\n",
      "296/296 [==============================] - 0s 1ms/step - loss: 0.4521 - accuracy: 0.8780 - val_loss: 0.2394 - val_accuracy: 0.9305\n",
      "Epoch 2/5\n",
      "296/296 [==============================] - 0s 889us/step - loss: 0.2059 - accuracy: 0.9415 - val_loss: 0.1801 - val_accuracy: 0.9512\n",
      "Epoch 3/5\n",
      "296/296 [==============================] - 0s 887us/step - loss: 0.1542 - accuracy: 0.9569 - val_loss: 0.1494 - val_accuracy: 0.9574\n",
      "Epoch 4/5\n",
      "296/296 [==============================] - 0s 905us/step - loss: 0.1229 - accuracy: 0.9656 - val_loss: 0.1336 - val_accuracy: 0.9590\n",
      "Epoch 5/5\n",
      "296/296 [==============================] - 0s 899us/step - loss: 0.1027 - accuracy: 0.9712 - val_loss: 0.1243 - val_accuracy: 0.9624\n"
     ]
    }
   ],
   "source": [
    "model.compile(loss=\"categorical_crossentropy\", optimizer=\"adam\", metrics=[\"accuracy\"])\n",
    "start=datetime.now()\n",
    "model.fit(X_train_5, y_train_5, batch_size=batch_size, epochs=epochs, validation_split=0.1)\n",
    "end=datetime.now()\n",
    "mlp_time_4 = end-start"
   ]
  },
  {
   "cell_type": "code",
   "execution_count": 50,
   "id": "9a98ffff",
   "metadata": {},
   "outputs": [
    {
     "name": "stdout",
     "output_type": "stream",
     "text": [
      "0:00:04.170779\n"
     ]
    }
   ],
   "source": [
    "# Print time\n",
    "print(mlp_time_4)"
   ]
  },
  {
   "cell_type": "code",
   "execution_count": 51,
   "id": "10c5b5a7",
   "metadata": {},
   "outputs": [],
   "source": [
    "y_pred_5 =model.predict(number_test_5)\n",
    "y_pred_5 = np.argmax(y_pred_5,axis = 1)\n",
    "y_pred_5 = pd.Series(y_pred_5 ,name=\"Label\")\n",
    "submission = pd.concat([pd.Series(range(1,28001),name = \"ImageId\"),y_pred_5],axis = 1)\n",
    "submission.to_csv(\"predictions-5.csv\",index=False)"
   ]
  },
  {
   "attachments": {
    "5.png": {
     "image/png": "[encoded data removed]"
    }
   },
   "cell_type": "markdown",
   "id": "cab69824",
   "metadata": {},
   "source": [
    "![5.png](attachment:5.png)"
   ]
  },
  {
   "cell_type": "markdown",
   "id": "606b9ed8",
   "metadata": {},
   "source": [
    "## Conclusion"
   ]
  },
  {
   "cell_type": "code",
   "execution_count": 85,
   "id": "22291e40",
   "metadata": {},
   "outputs": [],
   "source": [
    "data = [[4,300,mlp_time,0.9883,0.9713], [3,300,mlp_time_2,0.9829,0.9692], [4,100,mlp_time_3,0.9777,0.9656], [3,100,mlp_time_4,0.9712,0.9701]]"
   ]
  },
  {
   "cell_type": "code",
   "execution_count": 86,
   "id": "27005175",
   "metadata": {},
   "outputs": [
    {
     "data": {
      "text/html": [
       "<div>\n",
       "<style scoped>\n",
       "    .dataframe tbody tr th:only-of-type {\n",
       "        vertical-align: middle;\n",
       "    }\n",
       "\n",
       "    .dataframe tbody tr th {\n",
       "        vertical-align: top;\n",
       "    }\n",
       "\n",
       "    .dataframe thead th {\n",
       "        text-align: right;\n",
       "    }\n",
       "</style>\n",
       "<table border=\"1\" class=\"dataframe\">\n",
       "  <thead>\n",
       "    <tr style=\"text-align: right;\">\n",
       "      <th></th>\n",
       "      <th>Layers</th>\n",
       "      <th>Nodes</th>\n",
       "      <th>Time</th>\n",
       "      <th>Training Accuracy</th>\n",
       "      <th>Testing Accuracy</th>\n",
       "    </tr>\n",
       "  </thead>\n",
       "  <tbody>\n",
       "    <tr>\n",
       "      <th>0</th>\n",
       "      <td>4</td>\n",
       "      <td>300</td>\n",
       "      <td>0 days 00:00:02.740995</td>\n",
       "      <td>0.9883</td>\n",
       "      <td>0.9713</td>\n",
       "    </tr>\n",
       "    <tr>\n",
       "      <th>1</th>\n",
       "      <td>3</td>\n",
       "      <td>300</td>\n",
       "      <td>0 days 00:00:02.128180</td>\n",
       "      <td>0.9829</td>\n",
       "      <td>0.9692</td>\n",
       "    </tr>\n",
       "    <tr>\n",
       "      <th>2</th>\n",
       "      <td>4</td>\n",
       "      <td>100</td>\n",
       "      <td>0 days 00:00:01.782636</td>\n",
       "      <td>0.9777</td>\n",
       "      <td>0.9656</td>\n",
       "    </tr>\n",
       "    <tr>\n",
       "      <th>3</th>\n",
       "      <td>3</td>\n",
       "      <td>100</td>\n",
       "      <td>0 days 00:00:01.607934</td>\n",
       "      <td>0.9712</td>\n",
       "      <td>0.9701</td>\n",
       "    </tr>\n",
       "  </tbody>\n",
       "</table>\n",
       "</div>"
      ],
      "text/plain": [
       "   Layers  Nodes                   Time  Training Accuracy  Testing Accuracy\n",
       "0       4    300 0 days 00:00:02.740995             0.9883            0.9713\n",
       "1       3    300 0 days 00:00:02.128180             0.9829            0.9692\n",
       "2       4    100 0 days 00:00:01.782636             0.9777            0.9656\n",
       "3       3    100 0 days 00:00:01.607934             0.9712            0.9701"
      ]
     },
     "execution_count": 86,
     "metadata": {},
     "output_type": "execute_result"
    }
   ],
   "source": [
    "con_df = pd.DataFrame(data, columns = ['Layers', 'Nodes','Time','Training Accuracy','Testing Accuracy'])\n",
    "con_df"
   ]
  },
  {
   "cell_type": "markdown",
   "id": "1f12d3db",
   "metadata": {},
   "source": [
    "In the beginning, I first used the TLU model, which is a single TLU network model in SKLearn, which can realize part of the perceptron learning algorithm. The accuracy rate in testing is also quite good (0.8756), and the speed is breakneck(0:00:04.825506). TLU is at a disadvantage in both speed and score in the MLP model with less hidden Layers.\n",
    "\n",
    "But when I started testing the MLP model, the powerful neural network model quickly got scores that far exceeded TLU. I have listed your details in the table above. I adjusted the number of nodes in the hidden layer to test their impact on the predicted results. I also sampled the implications of hidden layers on the predicted results by reducing them. From the results, the more hidden layers, the more nodes, the higher the accuracy of prediction, and the more time consumed."
   ]
  }
 ],
 "metadata": {
  "kernelspec": {
   "display_name": "Python 3 (ipykernel)",
   "language": "python",
   "name": "python3"
  },
  "language_info": {
   "codemirror_mode": {
    "name": "ipython",
    "version": 3
   },
   "file_extension": ".py",
   "mimetype": "text/x-python",
   "name": "python",
   "nbconvert_exporter": "python",
   "pygments_lexer": "ipython3",
   "version": "3.9.7"
  }
 },
 "nbformat": 4,
 "nbformat_minor": 5
}
