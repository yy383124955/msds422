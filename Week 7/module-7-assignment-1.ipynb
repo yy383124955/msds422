{
 "cells": [
  {
   "cell_type": "markdown",
   "id": "3703ac73",
   "metadata": {},
   "source": [
    "# MSDS 422 - Module 7 Assignment 1\n",
    "## Yue Yu\n",
    "github: https://github.com/yy383124955/msds422/tree/main/Week%207\n",
    "\n",
    "## Data overview"
   ]
  },
  {
   "cell_type": "code",
   "execution_count": 1,
   "id": "3ad08e44",
   "metadata": {},
   "outputs": [],
   "source": [
    "# Import modules\n",
    "import pandas as pd\n",
    "import numpy as np\n",
    "import matplotlib.pyplot as plt\n",
    "import seaborn as sns\n",
    "from datetime import datetime\n",
    "from sklearn import tree\n",
    "from sklearn.metrics import accuracy_score\n",
    "from sklearn.model_selection import StratifiedKFold\n",
    "from sklearn.base import clone\n",
    "from sklearn.model_selection import cross_val_score\n",
    "from sklearn.base import BaseEstimator\n",
    "from sklearn.model_selection import cross_val_predict\n",
    "from sklearn.metrics import confusion_matrix\n",
    "from sklearn.metrics import f1_score\n",
    "from sklearn.metrics import precision_score, recall_score\n",
    "from sklearn.metrics import precision_recall_curve\n",
    "from sklearn.metrics import roc_curve\n",
    "from sklearn.metrics import roc_auc_score\n",
    "from sklearn.ensemble import RandomForestClassifier\n",
    "from sklearn.model_selection import train_test_split\n",
    "\n",
    "%matplotlib inline\n",
    "sns.set()"
   ]
  },
  {
   "cell_type": "code",
   "execution_count": 2,
   "id": "b065f3fa",
   "metadata": {},
   "outputs": [],
   "source": [
    "# Import data\n",
    "number_train = pd.read_csv('train.csv')\n",
    "number_test = pd.read_csv('test.csv')"
   ]
  },
  {
   "cell_type": "code",
   "execution_count": 3,
   "id": "54be68ea",
   "metadata": {},
   "outputs": [],
   "source": [
    "X_train = number_train.drop(labels = [\"label\"],axis = 1) \n",
    "y_train = number_train[\"label\"]"
   ]
  },
  {
   "cell_type": "markdown",
   "id": "d5b83cd6",
   "metadata": {},
   "source": [
    "## TLU"
   ]
  },
  {
   "cell_type": "code",
   "execution_count": 4,
   "id": "e632f144",
   "metadata": {},
   "outputs": [],
   "source": [
    "from sklearn.linear_model import Perceptron\n",
    "\n",
    "per_clf = Perceptron()\n",
    "start=datetime.now()\n",
    "per_clf.fit(X_train, y_train)\n",
    "end=datetime.now()\n",
    "y_pred_rf = per_clf.predict(number_test)\n",
    "tlu_time = end-start"
   ]
  },
  {
   "cell_type": "code",
   "execution_count": 5,
   "id": "6f8bd913",
   "metadata": {},
   "outputs": [
    {
     "name": "stdout",
     "output_type": "stream",
     "text": [
      "0:00:04.825506\n"
     ]
    }
   ],
   "source": [
    "# Print time\n",
    "print(tlu_time)"
   ]
  },
  {
   "cell_type": "code",
   "execution_count": 6,
   "id": "c37f7585",
   "metadata": {},
   "outputs": [],
   "source": [
    "y_pred_rf = pd.Series(y_pred_rf ,name=\"Label\")\n",
    "submission = pd.concat([pd.Series(range(1,28001),name = \"ImageId\"),y_pred_rf],axis = 1)\n",
    "submission.to_csv(\"predictions-1.csv\",index=False)"
   ]
  },
  {
   "attachments": {
    "1.png": {
     "image/png": "[encoded data removed]"
    }
   },
   "cell_type": "markdown",
   "id": "4ccb14f0",
   "metadata": {},
   "source": [
    "![1.png](attachment:1.png)"
   ]
  },
  {
   "cell_type": "markdown",
   "id": "220b7987",
   "metadata": {},
   "source": [
    "## MLP"
   ]
  },
  {
   "cell_type": "code",
   "execution_count": 7,
   "id": "64bdbf05",
   "metadata": {},
   "outputs": [],
   "source": [
    "from tensorflow import keras\n",
    "from tensorflow.keras import layers\n",
    "\n",
    "# Scale images to the [0, 1] range\n",
    "X_train_2 = X_train / 255.0\n",
    "number_test_2 = number_test / 255.0\n",
    "# Make sure images have shape (784, 1, 1)\n",
    "X_train_2 = np.expand_dims(X_train_2, -1)\n",
    "number_test_2  = np.expand_dims(number_test_2 , -1)"
   ]
  },
  {
   "cell_type": "code",
   "execution_count": 8,
   "id": "17aa9e4b",
   "metadata": {},
   "outputs": [
    {
     "data": {
      "text/plain": [
       "(42000, 784, 1)"
      ]
     },
     "execution_count": 8,
     "metadata": {},
     "output_type": "execute_result"
    }
   ],
   "source": [
    "X_train_2.shape"
   ]
  },
  {
   "cell_type": "code",
   "execution_count": 9,
   "id": "d8477c80",
   "metadata": {},
   "outputs": [],
   "source": [
    "num_classes = 10\n",
    "input_shape = (784, 1)"
   ]
  },
  {
   "cell_type": "code",
   "execution_count": 10,
   "id": "d52b3596",
   "metadata": {},
   "outputs": [
    {
     "name": "stdout",
     "output_type": "stream",
     "text": [
      "x_train shape: (42000, 784, 1)\n"
     ]
    }
   ],
   "source": [
    "y_train_2 = keras.utils.to_categorical(y_train, num_classes)\n",
    "print(\"x_train shape:\", X_train_2.shape)"
   ]
  },
  {
   "cell_type": "code",
   "execution_count": 11,
   "id": "e5b46d12",
   "metadata": {},
   "outputs": [],
   "source": [
    "model = keras.models.Sequential([\n",
    "    keras.layers.Flatten(input_shape=[784, 1]),\n",
    "    keras.layers.Dense(300, activation=\"relu\"),\n",
    "    keras.layers.Dense(100, activation=\"relu\"),\n",
    "    keras.layers.Dense(10, activation=\"softmax\")\n",
    "]) \n"
   ]
  },
  {
   "cell_type": "code",
   "execution_count": 12,
   "id": "00061a88",
   "metadata": {},
   "outputs": [
    {
     "name": "stdout",
     "output_type": "stream",
     "text": [
      "Epoch 1/15\n",
      "296/296 [==============================] - 1s 2ms/step - loss: 0.3254 - accuracy: 0.9073 - val_loss: 0.1700 - val_accuracy: 0.9500\n",
      "Epoch 2/15\n",
      "296/296 [==============================] - 0s 1ms/step - loss: 0.1242 - accuracy: 0.9634 - val_loss: 0.1296 - val_accuracy: 0.9590\n",
      "Epoch 3/15\n",
      "296/296 [==============================] - 0s 1ms/step - loss: 0.0816 - accuracy: 0.9754 - val_loss: 0.1005 - val_accuracy: 0.9676\n",
      "Epoch 4/15\n",
      "296/296 [==============================] - 0s 1ms/step - loss: 0.0546 - accuracy: 0.9838 - val_loss: 0.0895 - val_accuracy: 0.9731\n",
      "Epoch 5/15\n",
      "296/296 [==============================] - 0s 1ms/step - loss: 0.0412 - accuracy: 0.9875 - val_loss: 0.0937 - val_accuracy: 0.9712\n",
      "Epoch 6/15\n",
      "296/296 [==============================] - 0s 1ms/step - loss: 0.0296 - accuracy: 0.9914 - val_loss: 0.0939 - val_accuracy: 0.9726\n",
      "Epoch 7/15\n",
      "296/296 [==============================] - 0s 1ms/step - loss: 0.0213 - accuracy: 0.9939 - val_loss: 0.1019 - val_accuracy: 0.9695\n",
      "Epoch 8/15\n",
      "296/296 [==============================] - 0s 1ms/step - loss: 0.0189 - accuracy: 0.9943 - val_loss: 0.0930 - val_accuracy: 0.9760\n",
      "Epoch 9/15\n",
      "296/296 [==============================] - 0s 1ms/step - loss: 0.0141 - accuracy: 0.9959 - val_loss: 0.0947 - val_accuracy: 0.9733\n",
      "Epoch 10/15\n",
      "296/296 [==============================] - 0s 1ms/step - loss: 0.0078 - accuracy: 0.9982 - val_loss: 0.0926 - val_accuracy: 0.9760\n",
      "Epoch 11/15\n",
      "296/296 [==============================] - 0s 1ms/step - loss: 0.0096 - accuracy: 0.9971 - val_loss: 0.1028 - val_accuracy: 0.9762\n",
      "Epoch 12/15\n",
      "296/296 [==============================] - 0s 1ms/step - loss: 0.0159 - accuracy: 0.9948 - val_loss: 0.1040 - val_accuracy: 0.9767\n",
      "Epoch 13/15\n",
      "296/296 [==============================] - 0s 1ms/step - loss: 0.0095 - accuracy: 0.9972 - val_loss: 0.1417 - val_accuracy: 0.9686\n",
      "Epoch 14/15\n",
      "296/296 [==============================] - 0s 1ms/step - loss: 0.0074 - accuracy: 0.9978 - val_loss: 0.1281 - val_accuracy: 0.9702\n",
      "Epoch 15/15\n",
      "296/296 [==============================] - 0s 1ms/step - loss: 0.0142 - accuracy: 0.9955 - val_loss: 0.1183 - val_accuracy: 0.9724\n"
     ]
    }
   ],
   "source": [
    "batch_size = 128\n",
    "epochs = 15\n",
    "\n",
    "model.compile(loss=\"categorical_crossentropy\", optimizer=\"adam\", metrics=[\"accuracy\"])\n",
    "start=datetime.now()\n",
    "model.fit(X_train_2, y_train_2, batch_size=batch_size, epochs=epochs, validation_split=0.1)\n",
    "end=datetime.now()\n",
    "mlp_time = end-start"
   ]
  },
  {
   "cell_type": "code",
   "execution_count": 13,
   "id": "86bc732a",
   "metadata": {},
   "outputs": [
    {
     "name": "stdout",
     "output_type": "stream",
     "text": [
      "0:00:06.614005\n"
     ]
    }
   ],
   "source": [
    "# Print time\n",
    "print(mlp_time)"
   ]
  },
  {
   "cell_type": "code",
   "execution_count": 14,
   "id": "76e0d328",
   "metadata": {},
   "outputs": [
    {
     "data": {
      "text/plain": [
       "(28000, 784, 1)"
      ]
     },
     "execution_count": 14,
     "metadata": {},
     "output_type": "execute_result"
    }
   ],
   "source": [
    "number_test_2.shape"
   ]
  },
  {
   "cell_type": "code",
   "execution_count": 23,
   "id": "8a717251",
   "metadata": {},
   "outputs": [],
   "source": [
    "y_pred_2 =model.predict(number_test_2)"
   ]
  },
  {
   "cell_type": "code",
   "execution_count": 25,
   "id": "81b537cf",
   "metadata": {},
   "outputs": [],
   "source": [
    "y_pred_2 = np.argmax(y_pred_2,axis = 1)"
   ]
  },
  {
   "cell_type": "code",
   "execution_count": 27,
   "id": "d8781573",
   "metadata": {},
   "outputs": [],
   "source": [
    "y_pred_2 = pd.Series(y_pred_2 ,name=\"Label\")\n",
    "submission = pd.concat([pd.Series(range(1,28001),name = \"ImageId\"),y_pred_2],axis = 1)\n",
    "submission.to_csv(\"predictions-2.csv\",index=False)"
   ]
  },
  {
   "attachments": {
    "2.png": {
     "image/png": "[encoded data removed]"
    }
   },
   "cell_type": "markdown",
   "id": "acbd4a4e",
   "metadata": {},
   "source": [
    "![2.png](attachment:2.png)"
   ]
  },
  {
   "cell_type": "markdown",
   "id": "2719aec3",
   "metadata": {},
   "source": [
    "## MLP-2"
   ]
  },
  {
   "cell_type": "code",
   "execution_count": 69,
   "id": "24fb4a5b",
   "metadata": {},
   "outputs": [],
   "source": [
    "# Scale images to the [0, 1] range\n",
    "X_train_3 = X_train / 255.0\n",
    "number_test_3 = number_test / 255.0\n",
    "# Make sure images have shape (784, 1, 1)\n",
    "X_train_3 = np.expand_dims(X_train_3, -1)\n",
    "number_test_3  = np.expand_dims(number_test_3 , -1)"
   ]
  },
  {
   "cell_type": "code",
   "execution_count": 70,
   "id": "1e1ea966",
   "metadata": {},
   "outputs": [
    {
     "name": "stdout",
     "output_type": "stream",
     "text": [
      "x_train shape: (42000, 784, 1)\n"
     ]
    }
   ],
   "source": [
    "y_train_3 = keras.utils.to_categorical(y_train, num_classes)\n",
    "print(\"x_train shape:\", X_train_3.shape)"
   ]
  },
  {
   "cell_type": "code",
   "execution_count": 71,
   "id": "55b00165",
   "metadata": {},
   "outputs": [],
   "source": [
    "model = keras.models.Sequential([\n",
    "    keras.layers.Flatten(input_shape=[784, 1]),\n",
    "    keras.layers.Dense(10, activation=\"softmax\")\n",
    "]) "
   ]
  },
  {
   "cell_type": "code",
   "execution_count": 72,
   "id": "5289c502",
   "metadata": {
    "scrolled": true
   },
   "outputs": [
    {
     "name": "stdout",
     "output_type": "stream",
     "text": [
      "Epoch 1/15\n",
      "296/296 [==============================] - 0s 854us/step - loss: 0.8257 - accuracy: 0.7974 - val_loss: 0.4677 - val_accuracy: 0.8821\n",
      "Epoch 2/15\n",
      "296/296 [==============================] - 0s 657us/step - loss: 0.4120 - accuracy: 0.8905 - val_loss: 0.3697 - val_accuracy: 0.9031\n",
      "Epoch 3/15\n",
      "296/296 [==============================] - 0s 658us/step - loss: 0.3491 - accuracy: 0.9050 - val_loss: 0.3340 - val_accuracy: 0.9107\n",
      "Epoch 4/15\n",
      "296/296 [==============================] - 0s 644us/step - loss: 0.3205 - accuracy: 0.9120 - val_loss: 0.3144 - val_accuracy: 0.9152\n",
      "Epoch 5/15\n",
      "296/296 [==============================] - 0s 647us/step - loss: 0.3027 - accuracy: 0.9151 - val_loss: 0.3077 - val_accuracy: 0.9167\n",
      "Epoch 6/15\n",
      "296/296 [==============================] - 0s 643us/step - loss: 0.2910 - accuracy: 0.9192 - val_loss: 0.2946 - val_accuracy: 0.9200\n",
      "Epoch 7/15\n",
      "296/296 [==============================] - 0s 658us/step - loss: 0.2822 - accuracy: 0.9216 - val_loss: 0.2880 - val_accuracy: 0.9219\n",
      "Epoch 8/15\n",
      "296/296 [==============================] - 0s 654us/step - loss: 0.2754 - accuracy: 0.9229 - val_loss: 0.2850 - val_accuracy: 0.9219\n",
      "Epoch 9/15\n",
      "296/296 [==============================] - 0s 650us/step - loss: 0.2695 - accuracy: 0.9239 - val_loss: 0.2813 - val_accuracy: 0.9245\n",
      "Epoch 10/15\n",
      "296/296 [==============================] - 0s 650us/step - loss: 0.2648 - accuracy: 0.9259 - val_loss: 0.2791 - val_accuracy: 0.9226\n",
      "Epoch 11/15\n",
      "296/296 [==============================] - 0s 643us/step - loss: 0.2607 - accuracy: 0.9257 - val_loss: 0.2775 - val_accuracy: 0.9236\n",
      "Epoch 12/15\n",
      "296/296 [==============================] - 0s 644us/step - loss: 0.2578 - accuracy: 0.9267 - val_loss: 0.2763 - val_accuracy: 0.9248\n",
      "Epoch 13/15\n",
      "296/296 [==============================] - 0s 667us/step - loss: 0.2548 - accuracy: 0.9282 - val_loss: 0.2722 - val_accuracy: 0.9229\n",
      "Epoch 14/15\n",
      "296/296 [==============================] - 0s 661us/step - loss: 0.2519 - accuracy: 0.9292 - val_loss: 0.2709 - val_accuracy: 0.9267\n",
      "Epoch 15/15\n",
      "296/296 [==============================] - 0s 645us/step - loss: 0.2492 - accuracy: 0.9300 - val_loss: 0.2705 - val_accuracy: 0.9250\n"
     ]
    }
   ],
   "source": [
    "model.compile(loss=\"categorical_crossentropy\", optimizer=\"adam\", metrics=[\"accuracy\"])\n",
    "start=datetime.now()\n",
    "model.fit(X_train_3, y_train_3, batch_size=batch_size, epochs=epochs, validation_split=0.1)\n",
    "end=datetime.now()\n",
    "mlp_time_2 = end-start"
   ]
  },
  {
   "cell_type": "code",
   "execution_count": 73,
   "id": "bb3ddfe6",
   "metadata": {},
   "outputs": [
    {
     "name": "stdout",
     "output_type": "stream",
     "text": [
      "0:00:03.154905\n"
     ]
    }
   ],
   "source": [
    "# Print time\n",
    "print(mlp_time_2)"
   ]
  },
  {
   "cell_type": "code",
   "execution_count": 74,
   "id": "ff4eb057",
   "metadata": {},
   "outputs": [],
   "source": [
    "y_pred_3 =model.predict(number_test_3)"
   ]
  },
  {
   "cell_type": "code",
   "execution_count": 75,
   "id": "3d35a543",
   "metadata": {},
   "outputs": [],
   "source": [
    "y_pred_3 = np.argmax(y_pred_3,axis = 1)"
   ]
  },
  {
   "cell_type": "code",
   "execution_count": 76,
   "id": "64f6b1ae",
   "metadata": {},
   "outputs": [],
   "source": [
    "y_pred_3 = pd.Series(y_pred_3 ,name=\"Label\")\n",
    "submission = pd.concat([pd.Series(range(1,28001),name = \"ImageId\"),y_pred_3],axis = 1)\n",
    "submission.to_csv(\"predictions-3.csv\",index=False)"
   ]
  },
  {
   "attachments": {
    "3.png": {
     "image/png": "[encoded data removed]"
    }
   },
   "cell_type": "markdown",
   "id": "3409ab46",
   "metadata": {},
   "source": [
    "![3.png](attachment:3.png)"
   ]
  },
  {
   "cell_type": "markdown",
   "id": "e053d192",
   "metadata": {},
   "source": [
    "## MLP-3"
   ]
  },
  {
   "cell_type": "code",
   "execution_count": 57,
   "id": "ff0286e5",
   "metadata": {},
   "outputs": [],
   "source": [
    "# Scale images to the [0, 1] range\n",
    "X_train_4 = X_train / 255.0\n",
    "number_test_4 = number_test / 255.0\n",
    "# Make sure images have shape (784, 1, 1, 1, 1)\n",
    "X_train_4 = np.expand_dims(X_train_4, -1)\n",
    "X_train_4 = np.expand_dims(X_train_4, -1)\n",
    "X_train_4 = np.expand_dims(X_train_4, -1)\n",
    "X_train_4 = np.expand_dims(X_train_4, -1)\n",
    "number_test_4  = np.expand_dims(number_test_4 , -1)\n",
    "number_test_4  = np.expand_dims(number_test_4 , -1)\n",
    "number_test_4  = np.expand_dims(number_test_4 , -1)\n",
    "number_test_4  = np.expand_dims(number_test_4 , -1)"
   ]
  },
  {
   "cell_type": "code",
   "execution_count": 58,
   "id": "cf18d9a1",
   "metadata": {},
   "outputs": [
    {
     "name": "stdout",
     "output_type": "stream",
     "text": [
      "x_train shape: (42000, 784, 1, 1, 1, 1)\n"
     ]
    }
   ],
   "source": [
    "y_train_4 = keras.utils.to_categorical(y_train, num_classes)\n",
    "print(\"x_train shape:\", X_train_4.shape)"
   ]
  },
  {
   "cell_type": "code",
   "execution_count": 59,
   "id": "d6d48c8a",
   "metadata": {},
   "outputs": [],
   "source": [
    "model = keras.models.Sequential([\n",
    "    keras.layers.Flatten(input_shape=[784, 1,1,1,1]),\n",
    "    keras.layers.Dense(300, activation=\"relu\"),\n",
    "    keras.layers.Dense(100, activation=\"relu\"),\n",
    "    keras.layers.Dense(10, activation=\"softmax\")\n",
    "]) "
   ]
  },
  {
   "cell_type": "code",
   "execution_count": 60,
   "id": "6969d07e",
   "metadata": {},
   "outputs": [
    {
     "name": "stdout",
     "output_type": "stream",
     "text": [
      "Epoch 1/15\n",
      "296/296 [==============================] - 1s 2ms/step - loss: 0.3297 - accuracy: 0.9056 - val_loss: 0.1734 - val_accuracy: 0.9498\n",
      "Epoch 2/15\n",
      "296/296 [==============================] - 0s 1ms/step - loss: 0.1256 - accuracy: 0.9627 - val_loss: 0.1178 - val_accuracy: 0.9629\n",
      "Epoch 3/15\n",
      "296/296 [==============================] - 0s 1ms/step - loss: 0.0803 - accuracy: 0.9760 - val_loss: 0.0965 - val_accuracy: 0.9700\n",
      "Epoch 4/15\n",
      "296/296 [==============================] - 0s 1ms/step - loss: 0.0572 - accuracy: 0.9834 - val_loss: 0.1044 - val_accuracy: 0.9681\n",
      "Epoch 5/15\n",
      "296/296 [==============================] - 0s 1ms/step - loss: 0.0408 - accuracy: 0.9879 - val_loss: 0.0880 - val_accuracy: 0.9736\n",
      "Epoch 6/15\n",
      "296/296 [==============================] - 0s 1ms/step - loss: 0.0322 - accuracy: 0.9900 - val_loss: 0.0826 - val_accuracy: 0.9750\n",
      "Epoch 7/15\n",
      "296/296 [==============================] - 0s 1ms/step - loss: 0.0228 - accuracy: 0.9935 - val_loss: 0.1003 - val_accuracy: 0.9733\n",
      "Epoch 8/15\n",
      "296/296 [==============================] - 0s 1ms/step - loss: 0.0177 - accuracy: 0.9948 - val_loss: 0.0900 - val_accuracy: 0.9743\n",
      "Epoch 9/15\n",
      "296/296 [==============================] - 0s 1ms/step - loss: 0.0156 - accuracy: 0.9953 - val_loss: 0.0988 - val_accuracy: 0.9721\n",
      "Epoch 10/15\n",
      "296/296 [==============================] - 0s 1ms/step - loss: 0.0117 - accuracy: 0.9966 - val_loss: 0.0869 - val_accuracy: 0.9769\n",
      "Epoch 11/15\n",
      "296/296 [==============================] - 0s 1ms/step - loss: 0.0097 - accuracy: 0.9968 - val_loss: 0.0873 - val_accuracy: 0.9774\n",
      "Epoch 12/15\n",
      "296/296 [==============================] - 0s 1ms/step - loss: 0.0123 - accuracy: 0.9962 - val_loss: 0.0984 - val_accuracy: 0.9764\n",
      "Epoch 13/15\n",
      "296/296 [==============================] - 0s 1ms/step - loss: 0.0094 - accuracy: 0.9970 - val_loss: 0.0978 - val_accuracy: 0.9771\n",
      "Epoch 14/15\n",
      "296/296 [==============================] - 0s 1ms/step - loss: 0.0073 - accuracy: 0.9979 - val_loss: 0.1285 - val_accuracy: 0.9752\n",
      "Epoch 15/15\n",
      "296/296 [==============================] - 0s 1ms/step - loss: 0.0050 - accuracy: 0.9987 - val_loss: 0.1110 - val_accuracy: 0.9748\n"
     ]
    }
   ],
   "source": [
    "model.compile(loss=\"categorical_crossentropy\", optimizer=\"adam\", metrics=[\"accuracy\"])\n",
    "start=datetime.now()\n",
    "model.fit(X_train_4, y_train_4, batch_size=batch_size, epochs=epochs, validation_split=0.1)\n",
    "end=datetime.now()\n",
    "mlp_time_3 = end-start"
   ]
  },
  {
   "cell_type": "code",
   "execution_count": 61,
   "id": "d5cf6f12",
   "metadata": {},
   "outputs": [
    {
     "name": "stdout",
     "output_type": "stream",
     "text": [
      "0:00:06.306738\n"
     ]
    }
   ],
   "source": [
    "# Print time\n",
    "print(mlp_time_3)"
   ]
  },
  {
   "cell_type": "code",
   "execution_count": 62,
   "id": "66a1bea7",
   "metadata": {},
   "outputs": [],
   "source": [
    "y_pred_4 =model.predict(number_test_4)\n",
    "y_pred_4 = np.argmax(y_pred_4,axis = 1)\n",
    "y_pred_4 = pd.Series(y_pred_4 ,name=\"Label\")\n",
    "submission = pd.concat([pd.Series(range(1,28001),name = \"ImageId\"),y_pred_4],axis = 1)\n",
    "submission.to_csv(\"predictions-4.csv\",index=False)"
   ]
  },
  {
   "attachments": {
    "4.png": {
     "image/png": "[encoded data removed]"
    }
   },
   "cell_type": "markdown",
   "id": "df398870",
   "metadata": {},
   "source": [
    "![4.png](attachment:4.png)"
   ]
  },
  {
   "cell_type": "markdown",
   "id": "47e5d5f7",
   "metadata": {},
   "source": [
    "## MLP-4"
   ]
  },
  {
   "cell_type": "code",
   "execution_count": 77,
   "id": "956d0c98",
   "metadata": {},
   "outputs": [],
   "source": [
    "# Scale images to the [0, 1] range\n",
    "X_train_5 = X_train / 255.0\n",
    "number_test_5 = number_test / 255.0\n",
    "# Make sure images have shape (784, 1, 1, 1, 1)\n",
    "X_train_5 = np.expand_dims(X_train_5, -1)\n",
    "X_train_5 = np.expand_dims(X_train_5, -1)\n",
    "X_train_5 = np.expand_dims(X_train_5, -1)\n",
    "X_train_5 = np.expand_dims(X_train_5, -1)\n",
    "number_test_5  = np.expand_dims(number_test_5 , -1)\n",
    "number_test_5  = np.expand_dims(number_test_5 , -1)\n",
    "number_test_5  = np.expand_dims(number_test_5 , -1)\n",
    "number_test_5  = np.expand_dims(number_test_5 , -1)"
   ]
  },
  {
   "cell_type": "code",
   "execution_count": 78,
   "id": "a532451e",
   "metadata": {},
   "outputs": [
    {
     "name": "stdout",
     "output_type": "stream",
     "text": [
      "x_train shape: (42000, 784, 1, 1, 1, 1)\n"
     ]
    }
   ],
   "source": [
    "y_train_5 = keras.utils.to_categorical(y_train, num_classes)\n",
    "print(\"x_train shape:\", X_train_5.shape)"
   ]
  },
  {
   "cell_type": "code",
   "execution_count": 81,
   "id": "3e44c275",
   "metadata": {},
   "outputs": [],
   "source": [
    "model = keras.models.Sequential([\n",
    "    keras.layers.Flatten(input_shape=[784, 1,1,1,1]),\n",
    "    keras.layers.Dense(10, activation=\"softmax\")\n",
    "]) "
   ]
  },
  {
   "cell_type": "code",
   "execution_count": 82,
   "id": "dde2c7f6",
   "metadata": {},
   "outputs": [
    {
     "name": "stdout",
     "output_type": "stream",
     "text": [
      "Epoch 1/15\n",
      "296/296 [==============================] - 0s 856us/step - loss: 0.8165 - accuracy: 0.7998 - val_loss: 0.4666 - val_accuracy: 0.8862\n",
      "Epoch 2/15\n",
      "296/296 [==============================] - 0s 655us/step - loss: 0.4105 - accuracy: 0.8915 - val_loss: 0.3703 - val_accuracy: 0.9017\n",
      "Epoch 3/15\n",
      "296/296 [==============================] - 0s 648us/step - loss: 0.3492 - accuracy: 0.9049 - val_loss: 0.3359 - val_accuracy: 0.9086\n",
      "Epoch 4/15\n",
      "296/296 [==============================] - 0s 644us/step - loss: 0.3200 - accuracy: 0.9115 - val_loss: 0.3149 - val_accuracy: 0.9152\n",
      "Epoch 5/15\n",
      "296/296 [==============================] - 0s 661us/step - loss: 0.3032 - accuracy: 0.9159 - val_loss: 0.3036 - val_accuracy: 0.9176\n",
      "Epoch 6/15\n",
      "296/296 [==============================] - 0s 660us/step - loss: 0.2907 - accuracy: 0.9189 - val_loss: 0.2946 - val_accuracy: 0.9188\n",
      "Epoch 7/15\n",
      "296/296 [==============================] - 0s 650us/step - loss: 0.2818 - accuracy: 0.9213 - val_loss: 0.2910 - val_accuracy: 0.9224\n",
      "Epoch 8/15\n",
      "296/296 [==============================] - 0s 651us/step - loss: 0.2753 - accuracy: 0.9230 - val_loss: 0.2832 - val_accuracy: 0.9217\n",
      "Epoch 9/15\n",
      "296/296 [==============================] - 0s 658us/step - loss: 0.2690 - accuracy: 0.9244 - val_loss: 0.2814 - val_accuracy: 0.9231\n",
      "Epoch 10/15\n",
      "296/296 [==============================] - 0s 651us/step - loss: 0.2646 - accuracy: 0.9260 - val_loss: 0.2818 - val_accuracy: 0.9233\n",
      "Epoch 11/15\n",
      "296/296 [==============================] - 0s 653us/step - loss: 0.2611 - accuracy: 0.9262 - val_loss: 0.2771 - val_accuracy: 0.9231\n",
      "Epoch 12/15\n",
      "296/296 [==============================] - 0s 661us/step - loss: 0.2574 - accuracy: 0.9278 - val_loss: 0.2770 - val_accuracy: 0.9252\n",
      "Epoch 13/15\n",
      "296/296 [==============================] - 0s 647us/step - loss: 0.2542 - accuracy: 0.9282 - val_loss: 0.2760 - val_accuracy: 0.9271\n",
      "Epoch 14/15\n",
      "296/296 [==============================] - 0s 648us/step - loss: 0.2518 - accuracy: 0.9280 - val_loss: 0.2745 - val_accuracy: 0.9264\n",
      "Epoch 15/15\n",
      "296/296 [==============================] - 0s 651us/step - loss: 0.2492 - accuracy: 0.9297 - val_loss: 0.2721 - val_accuracy: 0.9245\n"
     ]
    }
   ],
   "source": [
    "model.compile(loss=\"categorical_crossentropy\", optimizer=\"adam\", metrics=[\"accuracy\"])\n",
    "start=datetime.now()\n",
    "model.fit(X_train_5, y_train_5, batch_size=batch_size, epochs=epochs, validation_split=0.1)\n",
    "end=datetime.now()\n",
    "mlp_time_4 = end-start"
   ]
  },
  {
   "cell_type": "code",
   "execution_count": 83,
   "id": "9a98ffff",
   "metadata": {},
   "outputs": [
    {
     "name": "stdout",
     "output_type": "stream",
     "text": [
      "0:00:03.163236\n"
     ]
    }
   ],
   "source": [
    "# Print time\n",
    "print(mlp_time_4)"
   ]
  },
  {
   "cell_type": "code",
   "execution_count": 84,
   "id": "10c5b5a7",
   "metadata": {},
   "outputs": [],
   "source": [
    "y_pred_5 =model.predict(number_test_5)\n",
    "y_pred_5 = np.argmax(y_pred_5,axis = 1)\n",
    "y_pred_5 = pd.Series(y_pred_5 ,name=\"Label\")\n",
    "submission = pd.concat([pd.Series(range(1,28001),name = \"ImageId\"),y_pred_5],axis = 1)\n",
    "submission.to_csv(\"predictions-5.csv\",index=False)"
   ]
  },
  {
   "attachments": {
    "5.png": {
     "image/png": "[encoded data removed]"
    }
   },
   "cell_type": "markdown",
   "id": "3e4042fe",
   "metadata": {},
   "source": [
    "![5.png](attachment:5.png)"
   ]
  },
  {
   "cell_type": "markdown",
   "id": "606b9ed8",
   "metadata": {},
   "source": [
    "## Conclusion"
   ]
  },
  {
   "cell_type": "code",
   "execution_count": 103,
   "id": "22291e40",
   "metadata": {},
   "outputs": [],
   "source": [
    "data = [[4,2,mlp_time,0.9955,0.9799], [2,2,mlp_time_2,0.9300,0.9189], [4,5,mlp_time_3,0.9987,0.9750], [2,5,mlp_time_4,0.9297,0.9193]]"
   ]
  },
  {
   "cell_type": "code",
   "execution_count": 104,
   "id": "27005175",
   "metadata": {},
   "outputs": [
    {
     "data": {
      "text/html": [
       "<div>\n",
       "<style scoped>\n",
       "    .dataframe tbody tr th:only-of-type {\n",
       "        vertical-align: middle;\n",
       "    }\n",
       "\n",
       "    .dataframe tbody tr th {\n",
       "        vertical-align: top;\n",
       "    }\n",
       "\n",
       "    .dataframe thead th {\n",
       "        text-align: right;\n",
       "    }\n",
       "</style>\n",
       "<table border=\"1\" class=\"dataframe\">\n",
       "  <thead>\n",
       "    <tr style=\"text-align: right;\">\n",
       "      <th></th>\n",
       "      <th>Layers</th>\n",
       "      <th>Nodes</th>\n",
       "      <th>Time</th>\n",
       "      <th>Training Accuracy</th>\n",
       "      <th>Testing Accuracy</th>\n",
       "    </tr>\n",
       "  </thead>\n",
       "  <tbody>\n",
       "    <tr>\n",
       "      <th>0</th>\n",
       "      <td>4</td>\n",
       "      <td>2</td>\n",
       "      <td>0 days 00:00:06.614005</td>\n",
       "      <td>0.9955</td>\n",
       "      <td>0.9799</td>\n",
       "    </tr>\n",
       "    <tr>\n",
       "      <th>1</th>\n",
       "      <td>2</td>\n",
       "      <td>2</td>\n",
       "      <td>0 days 00:00:03.154905</td>\n",
       "      <td>0.9300</td>\n",
       "      <td>0.9189</td>\n",
       "    </tr>\n",
       "    <tr>\n",
       "      <th>2</th>\n",
       "      <td>4</td>\n",
       "      <td>5</td>\n",
       "      <td>0 days 00:00:06.306738</td>\n",
       "      <td>0.9987</td>\n",
       "      <td>0.9750</td>\n",
       "    </tr>\n",
       "    <tr>\n",
       "      <th>3</th>\n",
       "      <td>2</td>\n",
       "      <td>5</td>\n",
       "      <td>0 days 00:00:03.163236</td>\n",
       "      <td>0.9297</td>\n",
       "      <td>0.9193</td>\n",
       "    </tr>\n",
       "  </tbody>\n",
       "</table>\n",
       "</div>"
      ],
      "text/plain": [
       "   Layers  Nodes                   Time  Training Accuracy  Testing Accuracy\n",
       "0       4      2 0 days 00:00:06.614005             0.9955            0.9799\n",
       "1       2      2 0 days 00:00:03.154905             0.9300            0.9189\n",
       "2       4      5 0 days 00:00:06.306738             0.9987            0.9750\n",
       "3       2      5 0 days 00:00:03.163236             0.9297            0.9193"
      ]
     },
     "execution_count": 104,
     "metadata": {},
     "output_type": "execute_result"
    }
   ],
   "source": [
    "con_df = pd.DataFrame(data, columns = ['Layers', 'Nodes','Time','Training Accuracy','Testing Accuracy'])\n",
    "con_df"
   ]
  },
  {
   "cell_type": "markdown",
   "id": "1f12d3db",
   "metadata": {},
   "source": [
    "In the beginning, I first used the TLU model, which is a single TLU network model in SKLearn, which can realize part of the perceptron learning algorithm. The accuracy rate in testing is also quite good (0.8756), and the speed is breakneck(0:00:04.825506). TLU is at a disadvantage in both speed and score in the MLP model without hidden Layers.\n",
    "\n",
    "But when I started testing the MLP model, the powerful neural network model quickly got a score that far exceeded TLU's. I have listed your details in the table above.The Output Layer is the corresponding number classification, so it keeps ten nodes all the time. I change nodes at the input layer to test different MLPS. I also sampled their impact on the predicted results by reducing hidden layers. Through a series of changes, it may be due to the singleness of features, and the multi-dimensional input layers have little influence on the score. More Hidden Layers will improve test scores, but speed will also increase accordingly."
   ]
  },
  {
   "cell_type": "code",
   "execution_count": null,
   "id": "8c5435a8",
   "metadata": {},
   "outputs": [],
   "source": []
  }
 ],
 "metadata": {
  "kernelspec": {
   "display_name": "Python 3 (ipykernel)",
   "language": "python",
   "name": "python3"
  },
  "language_info": {
   "codemirror_mode": {
    "name": "ipython",
    "version": 3
   },
   "file_extension": ".py",
   "mimetype": "text/x-python",
   "name": "python",
   "nbconvert_exporter": "python",
   "pygments_lexer": "ipython3",
   "version": "3.9.7"
  }
 },
 "nbformat": 4,
 "nbformat_minor": 5
}
