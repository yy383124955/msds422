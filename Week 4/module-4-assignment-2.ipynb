{
 "cells": [
  {
   "cell_type": "markdown",
   "id": "3d2ae63e",
   "metadata": {},
   "source": [
    "#### MSDS 422 - Module 4 Assignment 2\n",
    "# Yue Yu\n",
    "github: https://github.com/yy383124955/msds422/tree/main/Week%204\n",
    "## Data overview"
   ]
  },
  {
   "cell_type": "code",
   "execution_count": 1,
   "id": "a6c64f40",
   "metadata": {},
   "outputs": [],
   "source": [
    "# Import modules\n",
    "import pandas as pd\n",
    "import numpy as np\n",
    "import matplotlib.pyplot as plt\n",
    "import seaborn as sns\n",
    "from sklearn import tree\n",
    "from sklearn.metrics import accuracy_score\n",
    "from sklearn.model_selection import StratifiedKFold\n",
    "from sklearn.base import clone\n",
    "from sklearn.model_selection import cross_val_score\n",
    "from sklearn.base import BaseEstimator\n",
    "from sklearn.model_selection import cross_val_predict\n",
    "from sklearn.metrics import confusion_matrix\n",
    "from sklearn.metrics import f1_score\n",
    "from sklearn.metrics import precision_score, recall_score\n",
    "from sklearn.metrics import precision_recall_curve\n",
    "from sklearn.metrics import roc_curve\n",
    "from sklearn.metrics import roc_auc_score\n",
    "from sklearn.ensemble import RandomForestClassifier\n",
    "from sklearn.model_selection import train_test_split\n",
    "\n",
    "%matplotlib inline\n",
    "sns.set()"
   ]
  },
  {
   "cell_type": "code",
   "execution_count": 2,
   "id": "6c8152dc",
   "metadata": {},
   "outputs": [
    {
     "data": {
      "text/html": [
       "<div>\n",
       "<style scoped>\n",
       "    .dataframe tbody tr th:only-of-type {\n",
       "        vertical-align: middle;\n",
       "    }\n",
       "\n",
       "    .dataframe tbody tr th {\n",
       "        vertical-align: top;\n",
       "    }\n",
       "\n",
       "    .dataframe thead th {\n",
       "        text-align: right;\n",
       "    }\n",
       "</style>\n",
       "<table border=\"1\" class=\"dataframe\">\n",
       "  <thead>\n",
       "    <tr style=\"text-align: right;\">\n",
       "      <th></th>\n",
       "      <th>Bankrupt?</th>\n",
       "      <th>ROA(C) before interest and depreciation before interest</th>\n",
       "      <th>ROA(A) before interest and % after tax</th>\n",
       "      <th>ROA(B) before interest and depreciation after tax</th>\n",
       "      <th>Operating Gross Margin</th>\n",
       "      <th>Realized Sales Gross Margin</th>\n",
       "      <th>Operating Profit Rate</th>\n",
       "      <th>Pre-tax net Interest Rate</th>\n",
       "      <th>After-tax net Interest Rate</th>\n",
       "      <th>Non-industry income and expenditure/revenue</th>\n",
       "      <th>...</th>\n",
       "      <th>Net Income to Total Assets</th>\n",
       "      <th>Total assets to GNP price</th>\n",
       "      <th>No-credit Interval</th>\n",
       "      <th>Gross Profit to Sales</th>\n",
       "      <th>Net Income to Stockholder's Equity</th>\n",
       "      <th>Liability to Equity</th>\n",
       "      <th>Degree of Financial Leverage (DFL)</th>\n",
       "      <th>Interest Coverage Ratio (Interest expense to EBIT)</th>\n",
       "      <th>Net Income Flag</th>\n",
       "      <th>Equity to Liability</th>\n",
       "    </tr>\n",
       "  </thead>\n",
       "  <tbody>\n",
       "    <tr>\n",
       "      <th>0</th>\n",
       "      <td>1</td>\n",
       "      <td>0.370594</td>\n",
       "      <td>0.424389</td>\n",
       "      <td>0.405750</td>\n",
       "      <td>0.601457</td>\n",
       "      <td>0.601457</td>\n",
       "      <td>0.998969</td>\n",
       "      <td>0.796887</td>\n",
       "      <td>0.808809</td>\n",
       "      <td>0.302646</td>\n",
       "      <td>...</td>\n",
       "      <td>0.716845</td>\n",
       "      <td>0.009219</td>\n",
       "      <td>0.622879</td>\n",
       "      <td>0.601453</td>\n",
       "      <td>0.827890</td>\n",
       "      <td>0.290202</td>\n",
       "      <td>0.026601</td>\n",
       "      <td>0.564050</td>\n",
       "      <td>1</td>\n",
       "      <td>0.016469</td>\n",
       "    </tr>\n",
       "    <tr>\n",
       "      <th>1</th>\n",
       "      <td>1</td>\n",
       "      <td>0.464291</td>\n",
       "      <td>0.538214</td>\n",
       "      <td>0.516730</td>\n",
       "      <td>0.610235</td>\n",
       "      <td>0.610235</td>\n",
       "      <td>0.998946</td>\n",
       "      <td>0.797380</td>\n",
       "      <td>0.809301</td>\n",
       "      <td>0.303556</td>\n",
       "      <td>...</td>\n",
       "      <td>0.795297</td>\n",
       "      <td>0.008323</td>\n",
       "      <td>0.623652</td>\n",
       "      <td>0.610237</td>\n",
       "      <td>0.839969</td>\n",
       "      <td>0.283846</td>\n",
       "      <td>0.264577</td>\n",
       "      <td>0.570175</td>\n",
       "      <td>1</td>\n",
       "      <td>0.020794</td>\n",
       "    </tr>\n",
       "    <tr>\n",
       "      <th>2</th>\n",
       "      <td>1</td>\n",
       "      <td>0.426071</td>\n",
       "      <td>0.499019</td>\n",
       "      <td>0.472295</td>\n",
       "      <td>0.601450</td>\n",
       "      <td>0.601364</td>\n",
       "      <td>0.998857</td>\n",
       "      <td>0.796403</td>\n",
       "      <td>0.808388</td>\n",
       "      <td>0.302035</td>\n",
       "      <td>...</td>\n",
       "      <td>0.774670</td>\n",
       "      <td>0.040003</td>\n",
       "      <td>0.623841</td>\n",
       "      <td>0.601449</td>\n",
       "      <td>0.836774</td>\n",
       "      <td>0.290189</td>\n",
       "      <td>0.026555</td>\n",
       "      <td>0.563706</td>\n",
       "      <td>1</td>\n",
       "      <td>0.016474</td>\n",
       "    </tr>\n",
       "    <tr>\n",
       "      <th>3</th>\n",
       "      <td>1</td>\n",
       "      <td>0.399844</td>\n",
       "      <td>0.451265</td>\n",
       "      <td>0.457733</td>\n",
       "      <td>0.583541</td>\n",
       "      <td>0.583541</td>\n",
       "      <td>0.998700</td>\n",
       "      <td>0.796967</td>\n",
       "      <td>0.808966</td>\n",
       "      <td>0.303350</td>\n",
       "      <td>...</td>\n",
       "      <td>0.739555</td>\n",
       "      <td>0.003252</td>\n",
       "      <td>0.622929</td>\n",
       "      <td>0.583538</td>\n",
       "      <td>0.834697</td>\n",
       "      <td>0.281721</td>\n",
       "      <td>0.026697</td>\n",
       "      <td>0.564663</td>\n",
       "      <td>1</td>\n",
       "      <td>0.023982</td>\n",
       "    </tr>\n",
       "    <tr>\n",
       "      <th>4</th>\n",
       "      <td>1</td>\n",
       "      <td>0.465022</td>\n",
       "      <td>0.538432</td>\n",
       "      <td>0.522298</td>\n",
       "      <td>0.598783</td>\n",
       "      <td>0.598783</td>\n",
       "      <td>0.998973</td>\n",
       "      <td>0.797366</td>\n",
       "      <td>0.809304</td>\n",
       "      <td>0.303475</td>\n",
       "      <td>...</td>\n",
       "      <td>0.795016</td>\n",
       "      <td>0.003878</td>\n",
       "      <td>0.623521</td>\n",
       "      <td>0.598782</td>\n",
       "      <td>0.839973</td>\n",
       "      <td>0.278514</td>\n",
       "      <td>0.024752</td>\n",
       "      <td>0.575617</td>\n",
       "      <td>1</td>\n",
       "      <td>0.035490</td>\n",
       "    </tr>\n",
       "  </tbody>\n",
       "</table>\n",
       "<p>5 rows × 96 columns</p>\n",
       "</div>"
      ],
      "text/plain": [
       "   Bankrupt?   ROA(C) before interest and depreciation before interest  \\\n",
       "0          1                                           0.370594          \n",
       "1          1                                           0.464291          \n",
       "2          1                                           0.426071          \n",
       "3          1                                           0.399844          \n",
       "4          1                                           0.465022          \n",
       "\n",
       "    ROA(A) before interest and % after tax  \\\n",
       "0                                 0.424389   \n",
       "1                                 0.538214   \n",
       "2                                 0.499019   \n",
       "3                                 0.451265   \n",
       "4                                 0.538432   \n",
       "\n",
       "    ROA(B) before interest and depreciation after tax  \\\n",
       "0                                           0.405750    \n",
       "1                                           0.516730    \n",
       "2                                           0.472295    \n",
       "3                                           0.457733    \n",
       "4                                           0.522298    \n",
       "\n",
       "    Operating Gross Margin   Realized Sales Gross Margin  \\\n",
       "0                 0.601457                      0.601457   \n",
       "1                 0.610235                      0.610235   \n",
       "2                 0.601450                      0.601364   \n",
       "3                 0.583541                      0.583541   \n",
       "4                 0.598783                      0.598783   \n",
       "\n",
       "    Operating Profit Rate   Pre-tax net Interest Rate  \\\n",
       "0                0.998969                    0.796887   \n",
       "1                0.998946                    0.797380   \n",
       "2                0.998857                    0.796403   \n",
       "3                0.998700                    0.796967   \n",
       "4                0.998973                    0.797366   \n",
       "\n",
       "    After-tax net Interest Rate   Non-industry income and expenditure/revenue  \\\n",
       "0                      0.808809                                      0.302646   \n",
       "1                      0.809301                                      0.303556   \n",
       "2                      0.808388                                      0.302035   \n",
       "3                      0.808966                                      0.303350   \n",
       "4                      0.809304                                      0.303475   \n",
       "\n",
       "   ...   Net Income to Total Assets   Total assets to GNP price  \\\n",
       "0  ...                     0.716845                    0.009219   \n",
       "1  ...                     0.795297                    0.008323   \n",
       "2  ...                     0.774670                    0.040003   \n",
       "3  ...                     0.739555                    0.003252   \n",
       "4  ...                     0.795016                    0.003878   \n",
       "\n",
       "    No-credit Interval   Gross Profit to Sales  \\\n",
       "0             0.622879                0.601453   \n",
       "1             0.623652                0.610237   \n",
       "2             0.623841                0.601449   \n",
       "3             0.622929                0.583538   \n",
       "4             0.623521                0.598782   \n",
       "\n",
       "    Net Income to Stockholder's Equity   Liability to Equity  \\\n",
       "0                             0.827890              0.290202   \n",
       "1                             0.839969              0.283846   \n",
       "2                             0.836774              0.290189   \n",
       "3                             0.834697              0.281721   \n",
       "4                             0.839973              0.278514   \n",
       "\n",
       "    Degree of Financial Leverage (DFL)  \\\n",
       "0                             0.026601   \n",
       "1                             0.264577   \n",
       "2                             0.026555   \n",
       "3                             0.026697   \n",
       "4                             0.024752   \n",
       "\n",
       "    Interest Coverage Ratio (Interest expense to EBIT)   Net Income Flag  \\\n",
       "0                                           0.564050                   1   \n",
       "1                                           0.570175                   1   \n",
       "2                                           0.563706                   1   \n",
       "3                                           0.564663                   1   \n",
       "4                                           0.575617                   1   \n",
       "\n",
       "    Equity to Liability  \n",
       "0              0.016469  \n",
       "1              0.020794  \n",
       "2              0.016474  \n",
       "3              0.023982  \n",
       "4              0.035490  \n",
       "\n",
       "[5 rows x 96 columns]"
      ]
     },
     "execution_count": 2,
     "metadata": {},
     "output_type": "execute_result"
    }
   ],
   "source": [
    "# Import data\n",
    "company = pd.read_csv('data.csv')\n",
    "# show head of company data\n",
    "company.head()"
   ]
  },
  {
   "cell_type": "markdown",
   "id": "0f6712ec",
   "metadata": {},
   "source": [
    "Need to predict SalePrice"
   ]
  },
  {
   "cell_type": "code",
   "execution_count": 3,
   "id": "e7106aff",
   "metadata": {},
   "outputs": [
    {
     "name": "stdout",
     "output_type": "stream",
     "text": [
      "<class 'pandas.core.frame.DataFrame'>\n",
      "RangeIndex: 6819 entries, 0 to 6818\n",
      "Data columns (total 96 columns):\n",
      " #   Column                                                    Non-Null Count  Dtype  \n",
      "---  ------                                                    --------------  -----  \n",
      " 0   Bankrupt?                                                 6819 non-null   int64  \n",
      " 1    ROA(C) before interest and depreciation before interest  6819 non-null   float64\n",
      " 2    ROA(A) before interest and % after tax                   6819 non-null   float64\n",
      " 3    ROA(B) before interest and depreciation after tax        6819 non-null   float64\n",
      " 4    Operating Gross Margin                                   6819 non-null   float64\n",
      " 5    Realized Sales Gross Margin                              6819 non-null   float64\n",
      " 6    Operating Profit Rate                                    6819 non-null   float64\n",
      " 7    Pre-tax net Interest Rate                                6819 non-null   float64\n",
      " 8    After-tax net Interest Rate                              6819 non-null   float64\n",
      " 9    Non-industry income and expenditure/revenue              6819 non-null   float64\n",
      " 10   Continuous interest rate (after tax)                     6819 non-null   float64\n",
      " 11   Operating Expense Rate                                   6819 non-null   float64\n",
      " 12   Research and development expense rate                    6819 non-null   float64\n",
      " 13   Cash flow rate                                           6819 non-null   float64\n",
      " 14   Interest-bearing debt interest rate                      6819 non-null   float64\n",
      " 15   Tax rate (A)                                             6819 non-null   float64\n",
      " 16   Net Value Per Share (B)                                  6819 non-null   float64\n",
      " 17   Net Value Per Share (A)                                  6819 non-null   float64\n",
      " 18   Net Value Per Share (C)                                  6819 non-null   float64\n",
      " 19   Persistent EPS in the Last Four Seasons                  6819 non-null   float64\n",
      " 20   Cash Flow Per Share                                      6819 non-null   float64\n",
      " 21   Revenue Per Share (Yuan ¥)                               6819 non-null   float64\n",
      " 22   Operating Profit Per Share (Yuan ¥)                      6819 non-null   float64\n",
      " 23   Per Share Net profit before tax (Yuan ¥)                 6819 non-null   float64\n",
      " 24   Realized Sales Gross Profit Growth Rate                  6819 non-null   float64\n",
      " 25   Operating Profit Growth Rate                             6819 non-null   float64\n",
      " 26   After-tax Net Profit Growth Rate                         6819 non-null   float64\n",
      " 27   Regular Net Profit Growth Rate                           6819 non-null   float64\n",
      " 28   Continuous Net Profit Growth Rate                        6819 non-null   float64\n",
      " 29   Total Asset Growth Rate                                  6819 non-null   float64\n",
      " 30   Net Value Growth Rate                                    6819 non-null   float64\n",
      " 31   Total Asset Return Growth Rate Ratio                     6819 non-null   float64\n",
      " 32   Cash Reinvestment %                                      6819 non-null   float64\n",
      " 33   Current Ratio                                            6819 non-null   float64\n",
      " 34   Quick Ratio                                              6819 non-null   float64\n",
      " 35   Interest Expense Ratio                                   6819 non-null   float64\n",
      " 36   Total debt/Total net worth                               6819 non-null   float64\n",
      " 37   Debt ratio %                                             6819 non-null   float64\n",
      " 38   Net worth/Assets                                         6819 non-null   float64\n",
      " 39   Long-term fund suitability ratio (A)                     6819 non-null   float64\n",
      " 40   Borrowing dependency                                     6819 non-null   float64\n",
      " 41   Contingent liabilities/Net worth                         6819 non-null   float64\n",
      " 42   Operating profit/Paid-in capital                         6819 non-null   float64\n",
      " 43   Net profit before tax/Paid-in capital                    6819 non-null   float64\n",
      " 44   Inventory and accounts receivable/Net value              6819 non-null   float64\n",
      " 45   Total Asset Turnover                                     6819 non-null   float64\n",
      " 46   Accounts Receivable Turnover                             6819 non-null   float64\n",
      " 47   Average Collection Days                                  6819 non-null   float64\n",
      " 48   Inventory Turnover Rate (times)                          6819 non-null   float64\n",
      " 49   Fixed Assets Turnover Frequency                          6819 non-null   float64\n",
      " 50   Net Worth Turnover Rate (times)                          6819 non-null   float64\n",
      " 51   Revenue per person                                       6819 non-null   float64\n",
      " 52   Operating profit per person                              6819 non-null   float64\n",
      " 53   Allocation rate per person                               6819 non-null   float64\n",
      " 54   Working Capital to Total Assets                          6819 non-null   float64\n",
      " 55   Quick Assets/Total Assets                                6819 non-null   float64\n",
      " 56   Current Assets/Total Assets                              6819 non-null   float64\n",
      " 57   Cash/Total Assets                                        6819 non-null   float64\n",
      " 58   Quick Assets/Current Liability                           6819 non-null   float64\n",
      " 59   Cash/Current Liability                                   6819 non-null   float64\n",
      " 60   Current Liability to Assets                              6819 non-null   float64\n",
      " 61   Operating Funds to Liability                             6819 non-null   float64\n",
      " 62   Inventory/Working Capital                                6819 non-null   float64\n",
      " 63   Inventory/Current Liability                              6819 non-null   float64\n",
      " 64   Current Liabilities/Liability                            6819 non-null   float64\n",
      " 65   Working Capital/Equity                                   6819 non-null   float64\n",
      " 66   Current Liabilities/Equity                               6819 non-null   float64\n",
      " 67   Long-term Liability to Current Assets                    6819 non-null   float64\n",
      " 68   Retained Earnings to Total Assets                        6819 non-null   float64\n",
      " 69   Total income/Total expense                               6819 non-null   float64\n",
      " 70   Total expense/Assets                                     6819 non-null   float64\n",
      " 71   Current Asset Turnover Rate                              6819 non-null   float64\n",
      " 72   Quick Asset Turnover Rate                                6819 non-null   float64\n",
      " 73   Working capitcal Turnover Rate                           6819 non-null   float64\n",
      " 74   Cash Turnover Rate                                       6819 non-null   float64\n",
      " 75   Cash Flow to Sales                                       6819 non-null   float64\n",
      " 76   Fixed Assets to Assets                                   6819 non-null   float64\n",
      " 77   Current Liability to Liability                           6819 non-null   float64\n",
      " 78   Current Liability to Equity                              6819 non-null   float64\n",
      " 79   Equity to Long-term Liability                            6819 non-null   float64\n",
      " 80   Cash Flow to Total Assets                                6819 non-null   float64\n",
      " 81   Cash Flow to Liability                                   6819 non-null   float64\n",
      " 82   CFO to Assets                                            6819 non-null   float64\n",
      " 83   Cash Flow to Equity                                      6819 non-null   float64\n",
      " 84   Current Liability to Current Assets                      6819 non-null   float64\n",
      " 85   Liability-Assets Flag                                    6819 non-null   int64  \n",
      " 86   Net Income to Total Assets                               6819 non-null   float64\n",
      " 87   Total assets to GNP price                                6819 non-null   float64\n",
      " 88   No-credit Interval                                       6819 non-null   float64\n",
      " 89   Gross Profit to Sales                                    6819 non-null   float64\n",
      " 90   Net Income to Stockholder's Equity                       6819 non-null   float64\n",
      " 91   Liability to Equity                                      6819 non-null   float64\n",
      " 92   Degree of Financial Leverage (DFL)                       6819 non-null   float64\n",
      " 93   Interest Coverage Ratio (Interest expense to EBIT)       6819 non-null   float64\n",
      " 94   Net Income Flag                                          6819 non-null   int64  \n",
      " 95   Equity to Liability                                      6819 non-null   float64\n",
      "dtypes: float64(93), int64(3)\n",
      "memory usage: 5.0 MB\n"
     ]
    },
    {
     "data": {
      "text/html": [
       "<div>\n",
       "<style scoped>\n",
       "    .dataframe tbody tr th:only-of-type {\n",
       "        vertical-align: middle;\n",
       "    }\n",
       "\n",
       "    .dataframe tbody tr th {\n",
       "        vertical-align: top;\n",
       "    }\n",
       "\n",
       "    .dataframe thead th {\n",
       "        text-align: right;\n",
       "    }\n",
       "</style>\n",
       "<table border=\"1\" class=\"dataframe\">\n",
       "  <thead>\n",
       "    <tr style=\"text-align: right;\">\n",
       "      <th></th>\n",
       "      <th>Bankrupt?</th>\n",
       "      <th>ROA(C) before interest and depreciation before interest</th>\n",
       "      <th>ROA(A) before interest and % after tax</th>\n",
       "      <th>ROA(B) before interest and depreciation after tax</th>\n",
       "      <th>Operating Gross Margin</th>\n",
       "      <th>Realized Sales Gross Margin</th>\n",
       "      <th>Operating Profit Rate</th>\n",
       "      <th>Pre-tax net Interest Rate</th>\n",
       "      <th>After-tax net Interest Rate</th>\n",
       "      <th>Non-industry income and expenditure/revenue</th>\n",
       "      <th>...</th>\n",
       "      <th>Net Income to Total Assets</th>\n",
       "      <th>Total assets to GNP price</th>\n",
       "      <th>No-credit Interval</th>\n",
       "      <th>Gross Profit to Sales</th>\n",
       "      <th>Net Income to Stockholder's Equity</th>\n",
       "      <th>Liability to Equity</th>\n",
       "      <th>Degree of Financial Leverage (DFL)</th>\n",
       "      <th>Interest Coverage Ratio (Interest expense to EBIT)</th>\n",
       "      <th>Net Income Flag</th>\n",
       "      <th>Equity to Liability</th>\n",
       "    </tr>\n",
       "  </thead>\n",
       "  <tbody>\n",
       "    <tr>\n",
       "      <th>count</th>\n",
       "      <td>6819.000000</td>\n",
       "      <td>6819.000000</td>\n",
       "      <td>6819.000000</td>\n",
       "      <td>6819.000000</td>\n",
       "      <td>6819.000000</td>\n",
       "      <td>6819.000000</td>\n",
       "      <td>6819.000000</td>\n",
       "      <td>6819.000000</td>\n",
       "      <td>6819.000000</td>\n",
       "      <td>6819.000000</td>\n",
       "      <td>...</td>\n",
       "      <td>6819.000000</td>\n",
       "      <td>6.819000e+03</td>\n",
       "      <td>6819.000000</td>\n",
       "      <td>6819.000000</td>\n",
       "      <td>6819.000000</td>\n",
       "      <td>6819.000000</td>\n",
       "      <td>6819.000000</td>\n",
       "      <td>6819.000000</td>\n",
       "      <td>6819.0</td>\n",
       "      <td>6819.000000</td>\n",
       "    </tr>\n",
       "    <tr>\n",
       "      <th>mean</th>\n",
       "      <td>0.032263</td>\n",
       "      <td>0.505180</td>\n",
       "      <td>0.558625</td>\n",
       "      <td>0.553589</td>\n",
       "      <td>0.607948</td>\n",
       "      <td>0.607929</td>\n",
       "      <td>0.998755</td>\n",
       "      <td>0.797190</td>\n",
       "      <td>0.809084</td>\n",
       "      <td>0.303623</td>\n",
       "      <td>...</td>\n",
       "      <td>0.807760</td>\n",
       "      <td>1.862942e+07</td>\n",
       "      <td>0.623915</td>\n",
       "      <td>0.607946</td>\n",
       "      <td>0.840402</td>\n",
       "      <td>0.280365</td>\n",
       "      <td>0.027541</td>\n",
       "      <td>0.565358</td>\n",
       "      <td>1.0</td>\n",
       "      <td>0.047578</td>\n",
       "    </tr>\n",
       "    <tr>\n",
       "      <th>std</th>\n",
       "      <td>0.176710</td>\n",
       "      <td>0.060686</td>\n",
       "      <td>0.065620</td>\n",
       "      <td>0.061595</td>\n",
       "      <td>0.016934</td>\n",
       "      <td>0.016916</td>\n",
       "      <td>0.013010</td>\n",
       "      <td>0.012869</td>\n",
       "      <td>0.013601</td>\n",
       "      <td>0.011163</td>\n",
       "      <td>...</td>\n",
       "      <td>0.040332</td>\n",
       "      <td>3.764501e+08</td>\n",
       "      <td>0.012290</td>\n",
       "      <td>0.016934</td>\n",
       "      <td>0.014523</td>\n",
       "      <td>0.014463</td>\n",
       "      <td>0.015668</td>\n",
       "      <td>0.013214</td>\n",
       "      <td>0.0</td>\n",
       "      <td>0.050014</td>\n",
       "    </tr>\n",
       "    <tr>\n",
       "      <th>min</th>\n",
       "      <td>0.000000</td>\n",
       "      <td>0.000000</td>\n",
       "      <td>0.000000</td>\n",
       "      <td>0.000000</td>\n",
       "      <td>0.000000</td>\n",
       "      <td>0.000000</td>\n",
       "      <td>0.000000</td>\n",
       "      <td>0.000000</td>\n",
       "      <td>0.000000</td>\n",
       "      <td>0.000000</td>\n",
       "      <td>...</td>\n",
       "      <td>0.000000</td>\n",
       "      <td>0.000000e+00</td>\n",
       "      <td>0.000000</td>\n",
       "      <td>0.000000</td>\n",
       "      <td>0.000000</td>\n",
       "      <td>0.000000</td>\n",
       "      <td>0.000000</td>\n",
       "      <td>0.000000</td>\n",
       "      <td>1.0</td>\n",
       "      <td>0.000000</td>\n",
       "    </tr>\n",
       "    <tr>\n",
       "      <th>25%</th>\n",
       "      <td>0.000000</td>\n",
       "      <td>0.476527</td>\n",
       "      <td>0.535543</td>\n",
       "      <td>0.527277</td>\n",
       "      <td>0.600445</td>\n",
       "      <td>0.600434</td>\n",
       "      <td>0.998969</td>\n",
       "      <td>0.797386</td>\n",
       "      <td>0.809312</td>\n",
       "      <td>0.303466</td>\n",
       "      <td>...</td>\n",
       "      <td>0.796750</td>\n",
       "      <td>9.036205e-04</td>\n",
       "      <td>0.623636</td>\n",
       "      <td>0.600443</td>\n",
       "      <td>0.840115</td>\n",
       "      <td>0.276944</td>\n",
       "      <td>0.026791</td>\n",
       "      <td>0.565158</td>\n",
       "      <td>1.0</td>\n",
       "      <td>0.024477</td>\n",
       "    </tr>\n",
       "    <tr>\n",
       "      <th>50%</th>\n",
       "      <td>0.000000</td>\n",
       "      <td>0.502706</td>\n",
       "      <td>0.559802</td>\n",
       "      <td>0.552278</td>\n",
       "      <td>0.605997</td>\n",
       "      <td>0.605976</td>\n",
       "      <td>0.999022</td>\n",
       "      <td>0.797464</td>\n",
       "      <td>0.809375</td>\n",
       "      <td>0.303525</td>\n",
       "      <td>...</td>\n",
       "      <td>0.810619</td>\n",
       "      <td>2.085213e-03</td>\n",
       "      <td>0.623879</td>\n",
       "      <td>0.605998</td>\n",
       "      <td>0.841179</td>\n",
       "      <td>0.278778</td>\n",
       "      <td>0.026808</td>\n",
       "      <td>0.565252</td>\n",
       "      <td>1.0</td>\n",
       "      <td>0.033798</td>\n",
       "    </tr>\n",
       "    <tr>\n",
       "      <th>75%</th>\n",
       "      <td>0.000000</td>\n",
       "      <td>0.535563</td>\n",
       "      <td>0.589157</td>\n",
       "      <td>0.584105</td>\n",
       "      <td>0.613914</td>\n",
       "      <td>0.613842</td>\n",
       "      <td>0.999095</td>\n",
       "      <td>0.797579</td>\n",
       "      <td>0.809469</td>\n",
       "      <td>0.303585</td>\n",
       "      <td>...</td>\n",
       "      <td>0.826455</td>\n",
       "      <td>5.269777e-03</td>\n",
       "      <td>0.624168</td>\n",
       "      <td>0.613913</td>\n",
       "      <td>0.842357</td>\n",
       "      <td>0.281449</td>\n",
       "      <td>0.026913</td>\n",
       "      <td>0.565725</td>\n",
       "      <td>1.0</td>\n",
       "      <td>0.052838</td>\n",
       "    </tr>\n",
       "    <tr>\n",
       "      <th>max</th>\n",
       "      <td>1.000000</td>\n",
       "      <td>1.000000</td>\n",
       "      <td>1.000000</td>\n",
       "      <td>1.000000</td>\n",
       "      <td>1.000000</td>\n",
       "      <td>1.000000</td>\n",
       "      <td>1.000000</td>\n",
       "      <td>1.000000</td>\n",
       "      <td>1.000000</td>\n",
       "      <td>1.000000</td>\n",
       "      <td>...</td>\n",
       "      <td>1.000000</td>\n",
       "      <td>9.820000e+09</td>\n",
       "      <td>1.000000</td>\n",
       "      <td>1.000000</td>\n",
       "      <td>1.000000</td>\n",
       "      <td>1.000000</td>\n",
       "      <td>1.000000</td>\n",
       "      <td>1.000000</td>\n",
       "      <td>1.0</td>\n",
       "      <td>1.000000</td>\n",
       "    </tr>\n",
       "  </tbody>\n",
       "</table>\n",
       "<p>8 rows × 96 columns</p>\n",
       "</div>"
      ],
      "text/plain": [
       "         Bankrupt?   ROA(C) before interest and depreciation before interest  \\\n",
       "count  6819.000000                                        6819.000000          \n",
       "mean      0.032263                                           0.505180          \n",
       "std       0.176710                                           0.060686          \n",
       "min       0.000000                                           0.000000          \n",
       "25%       0.000000                                           0.476527          \n",
       "50%       0.000000                                           0.502706          \n",
       "75%       0.000000                                           0.535563          \n",
       "max       1.000000                                           1.000000          \n",
       "\n",
       "        ROA(A) before interest and % after tax  \\\n",
       "count                              6819.000000   \n",
       "mean                                  0.558625   \n",
       "std                                   0.065620   \n",
       "min                                   0.000000   \n",
       "25%                                   0.535543   \n",
       "50%                                   0.559802   \n",
       "75%                                   0.589157   \n",
       "max                                   1.000000   \n",
       "\n",
       "        ROA(B) before interest and depreciation after tax  \\\n",
       "count                                        6819.000000    \n",
       "mean                                            0.553589    \n",
       "std                                             0.061595    \n",
       "min                                             0.000000    \n",
       "25%                                             0.527277    \n",
       "50%                                             0.552278    \n",
       "75%                                             0.584105    \n",
       "max                                             1.000000    \n",
       "\n",
       "        Operating Gross Margin   Realized Sales Gross Margin  \\\n",
       "count              6819.000000                   6819.000000   \n",
       "mean                  0.607948                      0.607929   \n",
       "std                   0.016934                      0.016916   \n",
       "min                   0.000000                      0.000000   \n",
       "25%                   0.600445                      0.600434   \n",
       "50%                   0.605997                      0.605976   \n",
       "75%                   0.613914                      0.613842   \n",
       "max                   1.000000                      1.000000   \n",
       "\n",
       "        Operating Profit Rate   Pre-tax net Interest Rate  \\\n",
       "count             6819.000000                 6819.000000   \n",
       "mean                 0.998755                    0.797190   \n",
       "std                  0.013010                    0.012869   \n",
       "min                  0.000000                    0.000000   \n",
       "25%                  0.998969                    0.797386   \n",
       "50%                  0.999022                    0.797464   \n",
       "75%                  0.999095                    0.797579   \n",
       "max                  1.000000                    1.000000   \n",
       "\n",
       "        After-tax net Interest Rate  \\\n",
       "count                   6819.000000   \n",
       "mean                       0.809084   \n",
       "std                        0.013601   \n",
       "min                        0.000000   \n",
       "25%                        0.809312   \n",
       "50%                        0.809375   \n",
       "75%                        0.809469   \n",
       "max                        1.000000   \n",
       "\n",
       "        Non-industry income and expenditure/revenue  ...  \\\n",
       "count                                   6819.000000  ...   \n",
       "mean                                       0.303623  ...   \n",
       "std                                        0.011163  ...   \n",
       "min                                        0.000000  ...   \n",
       "25%                                        0.303466  ...   \n",
       "50%                                        0.303525  ...   \n",
       "75%                                        0.303585  ...   \n",
       "max                                        1.000000  ...   \n",
       "\n",
       "        Net Income to Total Assets   Total assets to GNP price  \\\n",
       "count                  6819.000000                6.819000e+03   \n",
       "mean                      0.807760                1.862942e+07   \n",
       "std                       0.040332                3.764501e+08   \n",
       "min                       0.000000                0.000000e+00   \n",
       "25%                       0.796750                9.036205e-04   \n",
       "50%                       0.810619                2.085213e-03   \n",
       "75%                       0.826455                5.269777e-03   \n",
       "max                       1.000000                9.820000e+09   \n",
       "\n",
       "        No-credit Interval   Gross Profit to Sales  \\\n",
       "count          6819.000000             6819.000000   \n",
       "mean              0.623915                0.607946   \n",
       "std               0.012290                0.016934   \n",
       "min               0.000000                0.000000   \n",
       "25%               0.623636                0.600443   \n",
       "50%               0.623879                0.605998   \n",
       "75%               0.624168                0.613913   \n",
       "max               1.000000                1.000000   \n",
       "\n",
       "        Net Income to Stockholder's Equity   Liability to Equity  \\\n",
       "count                          6819.000000           6819.000000   \n",
       "mean                              0.840402              0.280365   \n",
       "std                               0.014523              0.014463   \n",
       "min                               0.000000              0.000000   \n",
       "25%                               0.840115              0.276944   \n",
       "50%                               0.841179              0.278778   \n",
       "75%                               0.842357              0.281449   \n",
       "max                               1.000000              1.000000   \n",
       "\n",
       "        Degree of Financial Leverage (DFL)  \\\n",
       "count                          6819.000000   \n",
       "mean                              0.027541   \n",
       "std                               0.015668   \n",
       "min                               0.000000   \n",
       "25%                               0.026791   \n",
       "50%                               0.026808   \n",
       "75%                               0.026913   \n",
       "max                               1.000000   \n",
       "\n",
       "        Interest Coverage Ratio (Interest expense to EBIT)   Net Income Flag  \\\n",
       "count                                        6819.000000              6819.0   \n",
       "mean                                            0.565358                 1.0   \n",
       "std                                             0.013214                 0.0   \n",
       "min                                             0.000000                 1.0   \n",
       "25%                                             0.565158                 1.0   \n",
       "50%                                             0.565252                 1.0   \n",
       "75%                                             0.565725                 1.0   \n",
       "max                                             1.000000                 1.0   \n",
       "\n",
       "        Equity to Liability  \n",
       "count           6819.000000  \n",
       "mean               0.047578  \n",
       "std                0.050014  \n",
       "min                0.000000  \n",
       "25%                0.024477  \n",
       "50%                0.033798  \n",
       "75%                0.052838  \n",
       "max                1.000000  \n",
       "\n",
       "[8 rows x 96 columns]"
      ]
     },
     "execution_count": 3,
     "metadata": {},
     "output_type": "execute_result"
    }
   ],
   "source": [
    "# check info of company data\n",
    "company.info()\n",
    "# check Summary statistics of company data\n",
    "company.describe()"
   ]
  },
  {
   "cell_type": "markdown",
   "id": "ead9a71e",
   "metadata": {},
   "source": [
    "## Missing Data"
   ]
  },
  {
   "cell_type": "code",
   "execution_count": 4,
   "id": "a3870e09",
   "metadata": {},
   "outputs": [
    {
     "data": {
      "text/plain": [
       "Bankrupt?                                                   0\n",
       " ROA(C) before interest and depreciation before interest    0\n",
       " Total expense/Assets                                       0\n",
       " Total income/Total expense                                 0\n",
       " Retained Earnings to Total Assets                          0\n",
       "dtype: int64"
      ]
     },
     "execution_count": 4,
     "metadata": {},
     "output_type": "execute_result"
    }
   ],
   "source": [
    "# Find Missing Data\n",
    "df_missing_data = company.isnull().sum().sort_values(ascending=False)\n",
    "df_missing_data.head(5)"
   ]
  },
  {
   "cell_type": "markdown",
   "id": "f2dceac9",
   "metadata": {},
   "source": [
    "## Find high absolute value correction features"
   ]
  },
  {
   "cell_type": "code",
   "execution_count": 5,
   "id": "58ef2565",
   "metadata": {},
   "outputs": [
    {
     "data": {
      "text/html": [
       "<div>\n",
       "<style scoped>\n",
       "    .dataframe tbody tr th:only-of-type {\n",
       "        vertical-align: middle;\n",
       "    }\n",
       "\n",
       "    .dataframe tbody tr th {\n",
       "        vertical-align: top;\n",
       "    }\n",
       "\n",
       "    .dataframe thead th {\n",
       "        text-align: right;\n",
       "    }\n",
       "</style>\n",
       "<table border=\"1\" class=\"dataframe\">\n",
       "  <thead>\n",
       "    <tr style=\"text-align: right;\">\n",
       "      <th></th>\n",
       "      <th>Bankrupt?</th>\n",
       "      <th>ROA(C) before interest and depreciation before interest</th>\n",
       "      <th>ROA(A) before interest and % after tax</th>\n",
       "      <th>ROA(B) before interest and depreciation after tax</th>\n",
       "      <th>Operating Gross Margin</th>\n",
       "      <th>Realized Sales Gross Margin</th>\n",
       "      <th>Operating Profit Rate</th>\n",
       "      <th>Pre-tax net Interest Rate</th>\n",
       "      <th>After-tax net Interest Rate</th>\n",
       "      <th>Non-industry income and expenditure/revenue</th>\n",
       "      <th>...</th>\n",
       "      <th>Net Income to Total Assets</th>\n",
       "      <th>Total assets to GNP price</th>\n",
       "      <th>No-credit Interval</th>\n",
       "      <th>Gross Profit to Sales</th>\n",
       "      <th>Net Income to Stockholder's Equity</th>\n",
       "      <th>Liability to Equity</th>\n",
       "      <th>Degree of Financial Leverage (DFL)</th>\n",
       "      <th>Interest Coverage Ratio (Interest expense to EBIT)</th>\n",
       "      <th>Net Income Flag</th>\n",
       "      <th>Equity to Liability</th>\n",
       "    </tr>\n",
       "  </thead>\n",
       "  <tbody>\n",
       "    <tr>\n",
       "      <th>Bankrupt?</th>\n",
       "      <td>1.000000</td>\n",
       "      <td>-0.586131</td>\n",
       "      <td>-0.542946</td>\n",
       "      <td>-0.574854</td>\n",
       "      <td>-0.381933</td>\n",
       "      <td>-0.381751</td>\n",
       "      <td>-0.598410</td>\n",
       "      <td>-0.618043</td>\n",
       "      <td>-0.616624</td>\n",
       "      <td>-0.431804</td>\n",
       "      <td>...</td>\n",
       "      <td>-0.586035</td>\n",
       "      <td>0.008293</td>\n",
       "      <td>-0.475761</td>\n",
       "      <td>-0.381926</td>\n",
       "      <td>0.153628</td>\n",
       "      <td>0.035985</td>\n",
       "      <td>0.185077</td>\n",
       "      <td>0.045978</td>\n",
       "      <td>NaN</td>\n",
       "      <td>-0.372431</td>\n",
       "    </tr>\n",
       "    <tr>\n",
       "      <th>ROA(C) before interest and depreciation before interest</th>\n",
       "      <td>-0.586131</td>\n",
       "      <td>1.000000</td>\n",
       "      <td>0.972051</td>\n",
       "      <td>0.994213</td>\n",
       "      <td>0.271856</td>\n",
       "      <td>0.271545</td>\n",
       "      <td>0.641330</td>\n",
       "      <td>0.665606</td>\n",
       "      <td>0.657750</td>\n",
       "      <td>0.466829</td>\n",
       "      <td>...</td>\n",
       "      <td>0.970770</td>\n",
       "      <td>-0.086671</td>\n",
       "      <td>0.172768</td>\n",
       "      <td>0.271860</td>\n",
       "      <td>-0.692545</td>\n",
       "      <td>0.554939</td>\n",
       "      <td>-0.029753</td>\n",
       "      <td>0.036538</td>\n",
       "      <td>NaN</td>\n",
       "      <td>0.366821</td>\n",
       "    </tr>\n",
       "    <tr>\n",
       "      <th>ROA(A) before interest and % after tax</th>\n",
       "      <td>-0.542946</td>\n",
       "      <td>0.972051</td>\n",
       "      <td>1.000000</td>\n",
       "      <td>0.978556</td>\n",
       "      <td>0.249979</td>\n",
       "      <td>0.249713</td>\n",
       "      <td>0.576747</td>\n",
       "      <td>0.662552</td>\n",
       "      <td>0.666265</td>\n",
       "      <td>0.498696</td>\n",
       "      <td>...</td>\n",
       "      <td>0.994587</td>\n",
       "      <td>0.014703</td>\n",
       "      <td>0.141653</td>\n",
       "      <td>0.249987</td>\n",
       "      <td>-0.738915</td>\n",
       "      <td>0.612607</td>\n",
       "      <td>0.009246</td>\n",
       "      <td>0.034990</td>\n",
       "      <td>NaN</td>\n",
       "      <td>0.332761</td>\n",
       "    </tr>\n",
       "    <tr>\n",
       "      <th>ROA(B) before interest and depreciation after tax</th>\n",
       "      <td>-0.574854</td>\n",
       "      <td>0.994213</td>\n",
       "      <td>0.978556</td>\n",
       "      <td>1.000000</td>\n",
       "      <td>0.239340</td>\n",
       "      <td>0.239073</td>\n",
       "      <td>0.592470</td>\n",
       "      <td>0.650197</td>\n",
       "      <td>0.651257</td>\n",
       "      <td>0.474785</td>\n",
       "      <td>...</td>\n",
       "      <td>0.975340</td>\n",
       "      <td>-0.072475</td>\n",
       "      <td>0.158885</td>\n",
       "      <td>0.239345</td>\n",
       "      <td>-0.731962</td>\n",
       "      <td>0.593187</td>\n",
       "      <td>-0.018156</td>\n",
       "      <td>0.027444</td>\n",
       "      <td>NaN</td>\n",
       "      <td>0.352450</td>\n",
       "    </tr>\n",
       "    <tr>\n",
       "      <th>Operating Gross Margin</th>\n",
       "      <td>-0.381933</td>\n",
       "      <td>0.271856</td>\n",
       "      <td>0.249979</td>\n",
       "      <td>0.239340</td>\n",
       "      <td>1.000000</td>\n",
       "      <td>0.999979</td>\n",
       "      <td>0.682511</td>\n",
       "      <td>0.311505</td>\n",
       "      <td>0.275855</td>\n",
       "      <td>0.007595</td>\n",
       "      <td>...</td>\n",
       "      <td>0.275842</td>\n",
       "      <td>0.017990</td>\n",
       "      <td>0.232043</td>\n",
       "      <td>1.000000</td>\n",
       "      <td>-0.019501</td>\n",
       "      <td>-0.027120</td>\n",
       "      <td>0.062761</td>\n",
       "      <td>-0.090089</td>\n",
       "      <td>NaN</td>\n",
       "      <td>0.084200</td>\n",
       "    </tr>\n",
       "    <tr>\n",
       "      <th>...</th>\n",
       "      <td>...</td>\n",
       "      <td>...</td>\n",
       "      <td>...</td>\n",
       "      <td>...</td>\n",
       "      <td>...</td>\n",
       "      <td>...</td>\n",
       "      <td>...</td>\n",
       "      <td>...</td>\n",
       "      <td>...</td>\n",
       "      <td>...</td>\n",
       "      <td>...</td>\n",
       "      <td>...</td>\n",
       "      <td>...</td>\n",
       "      <td>...</td>\n",
       "      <td>...</td>\n",
       "      <td>...</td>\n",
       "      <td>...</td>\n",
       "      <td>...</td>\n",
       "      <td>...</td>\n",
       "      <td>...</td>\n",
       "      <td>...</td>\n",
       "    </tr>\n",
       "    <tr>\n",
       "      <th>Liability to Equity</th>\n",
       "      <td>0.035985</td>\n",
       "      <td>0.554939</td>\n",
       "      <td>0.612607</td>\n",
       "      <td>0.593187</td>\n",
       "      <td>-0.027120</td>\n",
       "      <td>-0.026996</td>\n",
       "      <td>0.068607</td>\n",
       "      <td>0.047282</td>\n",
       "      <td>0.064029</td>\n",
       "      <td>0.020544</td>\n",
       "      <td>...</td>\n",
       "      <td>0.543890</td>\n",
       "      <td>0.064050</td>\n",
       "      <td>-0.218316</td>\n",
       "      <td>-0.027100</td>\n",
       "      <td>-0.924264</td>\n",
       "      <td>1.000000</td>\n",
       "      <td>0.079632</td>\n",
       "      <td>-0.013689</td>\n",
       "      <td>NaN</td>\n",
       "      <td>-0.181441</td>\n",
       "    </tr>\n",
       "    <tr>\n",
       "      <th>Degree of Financial Leverage (DFL)</th>\n",
       "      <td>0.185077</td>\n",
       "      <td>-0.029753</td>\n",
       "      <td>0.009246</td>\n",
       "      <td>-0.018156</td>\n",
       "      <td>0.062761</td>\n",
       "      <td>0.062839</td>\n",
       "      <td>-0.050327</td>\n",
       "      <td>-0.010822</td>\n",
       "      <td>-0.005237</td>\n",
       "      <td>0.014470</td>\n",
       "      <td>...</td>\n",
       "      <td>0.000426</td>\n",
       "      <td>0.013773</td>\n",
       "      <td>0.011193</td>\n",
       "      <td>0.062773</td>\n",
       "      <td>-0.013517</td>\n",
       "      <td>0.079632</td>\n",
       "      <td>1.000000</td>\n",
       "      <td>0.037302</td>\n",
       "      <td>NaN</td>\n",
       "      <td>-0.129376</td>\n",
       "    </tr>\n",
       "    <tr>\n",
       "      <th>Interest Coverage Ratio (Interest expense to EBIT)</th>\n",
       "      <td>0.045978</td>\n",
       "      <td>0.036538</td>\n",
       "      <td>0.034990</td>\n",
       "      <td>0.027444</td>\n",
       "      <td>-0.090089</td>\n",
       "      <td>-0.091142</td>\n",
       "      <td>-0.050138</td>\n",
       "      <td>0.085665</td>\n",
       "      <td>0.081086</td>\n",
       "      <td>0.133174</td>\n",
       "      <td>...</td>\n",
       "      <td>0.038262</td>\n",
       "      <td>0.021624</td>\n",
       "      <td>0.024792</td>\n",
       "      <td>-0.090119</td>\n",
       "      <td>0.015761</td>\n",
       "      <td>-0.013689</td>\n",
       "      <td>0.037302</td>\n",
       "      <td>1.000000</td>\n",
       "      <td>NaN</td>\n",
       "      <td>0.069276</td>\n",
       "    </tr>\n",
       "    <tr>\n",
       "      <th>Net Income Flag</th>\n",
       "      <td>NaN</td>\n",
       "      <td>NaN</td>\n",
       "      <td>NaN</td>\n",
       "      <td>NaN</td>\n",
       "      <td>NaN</td>\n",
       "      <td>NaN</td>\n",
       "      <td>NaN</td>\n",
       "      <td>NaN</td>\n",
       "      <td>NaN</td>\n",
       "      <td>NaN</td>\n",
       "      <td>...</td>\n",
       "      <td>NaN</td>\n",
       "      <td>NaN</td>\n",
       "      <td>NaN</td>\n",
       "      <td>NaN</td>\n",
       "      <td>NaN</td>\n",
       "      <td>NaN</td>\n",
       "      <td>NaN</td>\n",
       "      <td>NaN</td>\n",
       "      <td>NaN</td>\n",
       "      <td>NaN</td>\n",
       "    </tr>\n",
       "    <tr>\n",
       "      <th>Equity to Liability</th>\n",
       "      <td>-0.372431</td>\n",
       "      <td>0.366821</td>\n",
       "      <td>0.332761</td>\n",
       "      <td>0.352450</td>\n",
       "      <td>0.084200</td>\n",
       "      <td>0.083755</td>\n",
       "      <td>0.276487</td>\n",
       "      <td>0.489153</td>\n",
       "      <td>0.473554</td>\n",
       "      <td>0.450458</td>\n",
       "      <td>...</td>\n",
       "      <td>0.380319</td>\n",
       "      <td>-0.162896</td>\n",
       "      <td>0.337880</td>\n",
       "      <td>0.084183</td>\n",
       "      <td>-0.087869</td>\n",
       "      <td>-0.181441</td>\n",
       "      <td>-0.129376</td>\n",
       "      <td>0.069276</td>\n",
       "      <td>NaN</td>\n",
       "      <td>1.000000</td>\n",
       "    </tr>\n",
       "  </tbody>\n",
       "</table>\n",
       "<p>96 rows × 96 columns</p>\n",
       "</div>"
      ],
      "text/plain": [
       "                                                    Bankrupt?  \\\n",
       "Bankrupt?                                            1.000000   \n",
       " ROA(C) before interest and depreciation before...  -0.586131   \n",
       " ROA(A) before interest and % after tax             -0.542946   \n",
       " ROA(B) before interest and depreciation after tax  -0.574854   \n",
       " Operating Gross Margin                             -0.381933   \n",
       "...                                                       ...   \n",
       " Liability to Equity                                 0.035985   \n",
       " Degree of Financial Leverage (DFL)                  0.185077   \n",
       " Interest Coverage Ratio (Interest expense to E...   0.045978   \n",
       " Net Income Flag                                          NaN   \n",
       " Equity to Liability                                -0.372431   \n",
       "\n",
       "                                                     ROA(C) before interest and depreciation before interest  \\\n",
       "Bankrupt?                                                                                   -0.586131          \n",
       " ROA(C) before interest and depreciation before...                                           1.000000          \n",
       " ROA(A) before interest and % after tax                                                      0.972051          \n",
       " ROA(B) before interest and depreciation after tax                                           0.994213          \n",
       " Operating Gross Margin                                                                      0.271856          \n",
       "...                                                                                               ...          \n",
       " Liability to Equity                                                                         0.554939          \n",
       " Degree of Financial Leverage (DFL)                                                         -0.029753          \n",
       " Interest Coverage Ratio (Interest expense to E...                                           0.036538          \n",
       " Net Income Flag                                                                                  NaN          \n",
       " Equity to Liability                                                                         0.366821          \n",
       "\n",
       "                                                     ROA(A) before interest and % after tax  \\\n",
       "Bankrupt?                                                                         -0.542946   \n",
       " ROA(C) before interest and depreciation before...                                 0.972051   \n",
       " ROA(A) before interest and % after tax                                            1.000000   \n",
       " ROA(B) before interest and depreciation after tax                                 0.978556   \n",
       " Operating Gross Margin                                                            0.249979   \n",
       "...                                                                                     ...   \n",
       " Liability to Equity                                                               0.612607   \n",
       " Degree of Financial Leverage (DFL)                                                0.009246   \n",
       " Interest Coverage Ratio (Interest expense to E...                                 0.034990   \n",
       " Net Income Flag                                                                        NaN   \n",
       " Equity to Liability                                                               0.332761   \n",
       "\n",
       "                                                     ROA(B) before interest and depreciation after tax  \\\n",
       "Bankrupt?                                                                                   -0.574854    \n",
       " ROA(C) before interest and depreciation before...                                           0.994213    \n",
       " ROA(A) before interest and % after tax                                                      0.978556    \n",
       " ROA(B) before interest and depreciation after tax                                           1.000000    \n",
       " Operating Gross Margin                                                                      0.239340    \n",
       "...                                                                                               ...    \n",
       " Liability to Equity                                                                         0.593187    \n",
       " Degree of Financial Leverage (DFL)                                                         -0.018156    \n",
       " Interest Coverage Ratio (Interest expense to E...                                           0.027444    \n",
       " Net Income Flag                                                                                  NaN    \n",
       " Equity to Liability                                                                         0.352450    \n",
       "\n",
       "                                                     Operating Gross Margin  \\\n",
       "Bankrupt?                                                         -0.381933   \n",
       " ROA(C) before interest and depreciation before...                 0.271856   \n",
       " ROA(A) before interest and % after tax                            0.249979   \n",
       " ROA(B) before interest and depreciation after tax                 0.239340   \n",
       " Operating Gross Margin                                            1.000000   \n",
       "...                                                                     ...   \n",
       " Liability to Equity                                              -0.027120   \n",
       " Degree of Financial Leverage (DFL)                                0.062761   \n",
       " Interest Coverage Ratio (Interest expense to E...                -0.090089   \n",
       " Net Income Flag                                                        NaN   \n",
       " Equity to Liability                                               0.084200   \n",
       "\n",
       "                                                     Realized Sales Gross Margin  \\\n",
       "Bankrupt?                                                              -0.381751   \n",
       " ROA(C) before interest and depreciation before...                      0.271545   \n",
       " ROA(A) before interest and % after tax                                 0.249713   \n",
       " ROA(B) before interest and depreciation after tax                      0.239073   \n",
       " Operating Gross Margin                                                 0.999979   \n",
       "...                                                                          ...   \n",
       " Liability to Equity                                                   -0.026996   \n",
       " Degree of Financial Leverage (DFL)                                     0.062839   \n",
       " Interest Coverage Ratio (Interest expense to E...                     -0.091142   \n",
       " Net Income Flag                                                             NaN   \n",
       " Equity to Liability                                                    0.083755   \n",
       "\n",
       "                                                     Operating Profit Rate  \\\n",
       "Bankrupt?                                                        -0.598410   \n",
       " ROA(C) before interest and depreciation before...                0.641330   \n",
       " ROA(A) before interest and % after tax                           0.576747   \n",
       " ROA(B) before interest and depreciation after tax                0.592470   \n",
       " Operating Gross Margin                                           0.682511   \n",
       "...                                                                    ...   \n",
       " Liability to Equity                                              0.068607   \n",
       " Degree of Financial Leverage (DFL)                              -0.050327   \n",
       " Interest Coverage Ratio (Interest expense to E...               -0.050138   \n",
       " Net Income Flag                                                       NaN   \n",
       " Equity to Liability                                              0.276487   \n",
       "\n",
       "                                                     Pre-tax net Interest Rate  \\\n",
       "Bankrupt?                                                            -0.618043   \n",
       " ROA(C) before interest and depreciation before...                    0.665606   \n",
       " ROA(A) before interest and % after tax                               0.662552   \n",
       " ROA(B) before interest and depreciation after tax                    0.650197   \n",
       " Operating Gross Margin                                               0.311505   \n",
       "...                                                                        ...   \n",
       " Liability to Equity                                                  0.047282   \n",
       " Degree of Financial Leverage (DFL)                                  -0.010822   \n",
       " Interest Coverage Ratio (Interest expense to E...                    0.085665   \n",
       " Net Income Flag                                                           NaN   \n",
       " Equity to Liability                                                  0.489153   \n",
       "\n",
       "                                                     After-tax net Interest Rate  \\\n",
       "Bankrupt?                                                              -0.616624   \n",
       " ROA(C) before interest and depreciation before...                      0.657750   \n",
       " ROA(A) before interest and % after tax                                 0.666265   \n",
       " ROA(B) before interest and depreciation after tax                      0.651257   \n",
       " Operating Gross Margin                                                 0.275855   \n",
       "...                                                                          ...   \n",
       " Liability to Equity                                                    0.064029   \n",
       " Degree of Financial Leverage (DFL)                                    -0.005237   \n",
       " Interest Coverage Ratio (Interest expense to E...                      0.081086   \n",
       " Net Income Flag                                                             NaN   \n",
       " Equity to Liability                                                    0.473554   \n",
       "\n",
       "                                                     Non-industry income and expenditure/revenue  \\\n",
       "Bankrupt?                                                                              -0.431804   \n",
       " ROA(C) before interest and depreciation before...                                      0.466829   \n",
       " ROA(A) before interest and % after tax                                                 0.498696   \n",
       " ROA(B) before interest and depreciation after tax                                      0.474785   \n",
       " Operating Gross Margin                                                                 0.007595   \n",
       "...                                                                                          ...   \n",
       " Liability to Equity                                                                    0.020544   \n",
       " Degree of Financial Leverage (DFL)                                                     0.014470   \n",
       " Interest Coverage Ratio (Interest expense to E...                                      0.133174   \n",
       " Net Income Flag                                                                             NaN   \n",
       " Equity to Liability                                                                    0.450458   \n",
       "\n",
       "                                                    ...  \\\n",
       "Bankrupt?                                           ...   \n",
       " ROA(C) before interest and depreciation before...  ...   \n",
       " ROA(A) before interest and % after tax             ...   \n",
       " ROA(B) before interest and depreciation after tax  ...   \n",
       " Operating Gross Margin                             ...   \n",
       "...                                                 ...   \n",
       " Liability to Equity                                ...   \n",
       " Degree of Financial Leverage (DFL)                 ...   \n",
       " Interest Coverage Ratio (Interest expense to E...  ...   \n",
       " Net Income Flag                                    ...   \n",
       " Equity to Liability                                ...   \n",
       "\n",
       "                                                     Net Income to Total Assets  \\\n",
       "Bankrupt?                                                             -0.586035   \n",
       " ROA(C) before interest and depreciation before...                     0.970770   \n",
       " ROA(A) before interest and % after tax                                0.994587   \n",
       " ROA(B) before interest and depreciation after tax                     0.975340   \n",
       " Operating Gross Margin                                                0.275842   \n",
       "...                                                                         ...   \n",
       " Liability to Equity                                                   0.543890   \n",
       " Degree of Financial Leverage (DFL)                                    0.000426   \n",
       " Interest Coverage Ratio (Interest expense to E...                     0.038262   \n",
       " Net Income Flag                                                            NaN   \n",
       " Equity to Liability                                                   0.380319   \n",
       "\n",
       "                                                     Total assets to GNP price  \\\n",
       "Bankrupt?                                                             0.008293   \n",
       " ROA(C) before interest and depreciation before...                   -0.086671   \n",
       " ROA(A) before interest and % after tax                               0.014703   \n",
       " ROA(B) before interest and depreciation after tax                   -0.072475   \n",
       " Operating Gross Margin                                               0.017990   \n",
       "...                                                                        ...   \n",
       " Liability to Equity                                                  0.064050   \n",
       " Degree of Financial Leverage (DFL)                                   0.013773   \n",
       " Interest Coverage Ratio (Interest expense to E...                    0.021624   \n",
       " Net Income Flag                                                           NaN   \n",
       " Equity to Liability                                                 -0.162896   \n",
       "\n",
       "                                                     No-credit Interval  \\\n",
       "Bankrupt?                                                     -0.475761   \n",
       " ROA(C) before interest and depreciation before...             0.172768   \n",
       " ROA(A) before interest and % after tax                        0.141653   \n",
       " ROA(B) before interest and depreciation after tax             0.158885   \n",
       " Operating Gross Margin                                        0.232043   \n",
       "...                                                                 ...   \n",
       " Liability to Equity                                          -0.218316   \n",
       " Degree of Financial Leverage (DFL)                            0.011193   \n",
       " Interest Coverage Ratio (Interest expense to E...             0.024792   \n",
       " Net Income Flag                                                    NaN   \n",
       " Equity to Liability                                           0.337880   \n",
       "\n",
       "                                                     Gross Profit to Sales  \\\n",
       "Bankrupt?                                                        -0.381926   \n",
       " ROA(C) before interest and depreciation before...                0.271860   \n",
       " ROA(A) before interest and % after tax                           0.249987   \n",
       " ROA(B) before interest and depreciation after tax                0.239345   \n",
       " Operating Gross Margin                                           1.000000   \n",
       "...                                                                    ...   \n",
       " Liability to Equity                                             -0.027100   \n",
       " Degree of Financial Leverage (DFL)                               0.062773   \n",
       " Interest Coverage Ratio (Interest expense to E...               -0.090119   \n",
       " Net Income Flag                                                       NaN   \n",
       " Equity to Liability                                              0.084183   \n",
       "\n",
       "                                                     Net Income to Stockholder's Equity  \\\n",
       "Bankrupt?                                                                      0.153628   \n",
       " ROA(C) before interest and depreciation before...                            -0.692545   \n",
       " ROA(A) before interest and % after tax                                       -0.738915   \n",
       " ROA(B) before interest and depreciation after tax                            -0.731962   \n",
       " Operating Gross Margin                                                       -0.019501   \n",
       "...                                                                                 ...   \n",
       " Liability to Equity                                                          -0.924264   \n",
       " Degree of Financial Leverage (DFL)                                           -0.013517   \n",
       " Interest Coverage Ratio (Interest expense to E...                             0.015761   \n",
       " Net Income Flag                                                                    NaN   \n",
       " Equity to Liability                                                          -0.087869   \n",
       "\n",
       "                                                     Liability to Equity  \\\n",
       "Bankrupt?                                                       0.035985   \n",
       " ROA(C) before interest and depreciation before...              0.554939   \n",
       " ROA(A) before interest and % after tax                         0.612607   \n",
       " ROA(B) before interest and depreciation after tax              0.593187   \n",
       " Operating Gross Margin                                        -0.027120   \n",
       "...                                                                  ...   \n",
       " Liability to Equity                                            1.000000   \n",
       " Degree of Financial Leverage (DFL)                             0.079632   \n",
       " Interest Coverage Ratio (Interest expense to E...             -0.013689   \n",
       " Net Income Flag                                                     NaN   \n",
       " Equity to Liability                                           -0.181441   \n",
       "\n",
       "                                                     Degree of Financial Leverage (DFL)  \\\n",
       "Bankrupt?                                                                      0.185077   \n",
       " ROA(C) before interest and depreciation before...                            -0.029753   \n",
       " ROA(A) before interest and % after tax                                        0.009246   \n",
       " ROA(B) before interest and depreciation after tax                            -0.018156   \n",
       " Operating Gross Margin                                                        0.062761   \n",
       "...                                                                                 ...   \n",
       " Liability to Equity                                                           0.079632   \n",
       " Degree of Financial Leverage (DFL)                                            1.000000   \n",
       " Interest Coverage Ratio (Interest expense to E...                             0.037302   \n",
       " Net Income Flag                                                                    NaN   \n",
       " Equity to Liability                                                          -0.129376   \n",
       "\n",
       "                                                     Interest Coverage Ratio (Interest expense to EBIT)  \\\n",
       "Bankrupt?                                                                                    0.045978     \n",
       " ROA(C) before interest and depreciation before...                                           0.036538     \n",
       " ROA(A) before interest and % after tax                                                      0.034990     \n",
       " ROA(B) before interest and depreciation after tax                                           0.027444     \n",
       " Operating Gross Margin                                                                     -0.090089     \n",
       "...                                                                                               ...     \n",
       " Liability to Equity                                                                        -0.013689     \n",
       " Degree of Financial Leverage (DFL)                                                          0.037302     \n",
       " Interest Coverage Ratio (Interest expense to E...                                           1.000000     \n",
       " Net Income Flag                                                                                  NaN     \n",
       " Equity to Liability                                                                         0.069276     \n",
       "\n",
       "                                                     Net Income Flag  \\\n",
       "Bankrupt?                                                        NaN   \n",
       " ROA(C) before interest and depreciation before...               NaN   \n",
       " ROA(A) before interest and % after tax                          NaN   \n",
       " ROA(B) before interest and depreciation after tax               NaN   \n",
       " Operating Gross Margin                                          NaN   \n",
       "...                                                              ...   \n",
       " Liability to Equity                                             NaN   \n",
       " Degree of Financial Leverage (DFL)                              NaN   \n",
       " Interest Coverage Ratio (Interest expense to E...               NaN   \n",
       " Net Income Flag                                                 NaN   \n",
       " Equity to Liability                                             NaN   \n",
       "\n",
       "                                                     Equity to Liability  \n",
       "Bankrupt?                                                      -0.372431  \n",
       " ROA(C) before interest and depreciation before...              0.366821  \n",
       " ROA(A) before interest and % after tax                         0.332761  \n",
       " ROA(B) before interest and depreciation after tax              0.352450  \n",
       " Operating Gross Margin                                         0.084200  \n",
       "...                                                                  ...  \n",
       " Liability to Equity                                           -0.181441  \n",
       " Degree of Financial Leverage (DFL)                            -0.129376  \n",
       " Interest Coverage Ratio (Interest expense to E...              0.069276  \n",
       " Net Income Flag                                                     NaN  \n",
       " Equity to Liability                                            1.000000  \n",
       "\n",
       "[96 rows x 96 columns]"
      ]
     },
     "execution_count": 5,
     "metadata": {},
     "output_type": "execute_result"
    }
   ],
   "source": [
    "features = company[:96]\n",
    "features_corr = features.corr()\n",
    "features_corr"
   ]
  },
  {
   "cell_type": "code",
   "execution_count": 6,
   "id": "07ed1a42",
   "metadata": {},
   "outputs": [],
   "source": [
    "# Save to CSV and to find the \n",
    "pd.DataFrame(features_corr).to_csv('features-corr.csv')  "
   ]
  },
  {
   "cell_type": "code",
   "execution_count": 7,
   "id": "5204abc8",
   "metadata": {},
   "outputs": [
    {
     "data": {
      "text/html": [
       "<div>\n",
       "<style scoped>\n",
       "    .dataframe tbody tr th:only-of-type {\n",
       "        vertical-align: middle;\n",
       "    }\n",
       "\n",
       "    .dataframe tbody tr th {\n",
       "        vertical-align: top;\n",
       "    }\n",
       "\n",
       "    .dataframe thead th {\n",
       "        text-align: right;\n",
       "    }\n",
       "</style>\n",
       "<table border=\"1\" class=\"dataframe\">\n",
       "  <thead>\n",
       "    <tr style=\"text-align: right;\">\n",
       "      <th></th>\n",
       "      <th>Bankrupt?</th>\n",
       "      <th>ROA(C) before interest and depreciation before interest</th>\n",
       "      <th>ROA(A) before interest and % after tax</th>\n",
       "      <th>ROA(B) before interest and depreciation after tax</th>\n",
       "      <th>Operating Gross Margin</th>\n",
       "      <th>Realized Sales Gross Margin</th>\n",
       "      <th>Operating Profit Rate</th>\n",
       "      <th>Pre-tax net Interest Rate</th>\n",
       "      <th>After-tax net Interest Rate</th>\n",
       "      <th>Non-industry income and expenditure/revenue</th>\n",
       "      <th>...</th>\n",
       "      <th>Operating Funds to Liability</th>\n",
       "      <th>Retained Earnings to Total Assets</th>\n",
       "      <th>Total income/Total expense</th>\n",
       "      <th>CFO to Assets</th>\n",
       "      <th>Cash Flow to Equity</th>\n",
       "      <th>Current Liability to Current Assets</th>\n",
       "      <th>Net Income to Total Assets</th>\n",
       "      <th>No-credit Interval</th>\n",
       "      <th>Gross Profit to Sales</th>\n",
       "      <th>Equity to Liability</th>\n",
       "    </tr>\n",
       "  </thead>\n",
       "  <tbody>\n",
       "    <tr>\n",
       "      <th>0</th>\n",
       "      <td>1</td>\n",
       "      <td>0.370594</td>\n",
       "      <td>0.424389</td>\n",
       "      <td>0.405750</td>\n",
       "      <td>0.601457</td>\n",
       "      <td>0.601457</td>\n",
       "      <td>0.998969</td>\n",
       "      <td>0.796887</td>\n",
       "      <td>0.808809</td>\n",
       "      <td>0.302646</td>\n",
       "      <td>...</td>\n",
       "      <td>0.334015</td>\n",
       "      <td>0.903225</td>\n",
       "      <td>0.002022</td>\n",
       "      <td>0.520382</td>\n",
       "      <td>0.312905</td>\n",
       "      <td>0.118250</td>\n",
       "      <td>0.716845</td>\n",
       "      <td>0.622879</td>\n",
       "      <td>0.601453</td>\n",
       "      <td>0.016469</td>\n",
       "    </tr>\n",
       "    <tr>\n",
       "      <th>1</th>\n",
       "      <td>1</td>\n",
       "      <td>0.464291</td>\n",
       "      <td>0.538214</td>\n",
       "      <td>0.516730</td>\n",
       "      <td>0.610235</td>\n",
       "      <td>0.610235</td>\n",
       "      <td>0.998946</td>\n",
       "      <td>0.797380</td>\n",
       "      <td>0.809301</td>\n",
       "      <td>0.303556</td>\n",
       "      <td>...</td>\n",
       "      <td>0.341106</td>\n",
       "      <td>0.931065</td>\n",
       "      <td>0.002226</td>\n",
       "      <td>0.567101</td>\n",
       "      <td>0.314163</td>\n",
       "      <td>0.047775</td>\n",
       "      <td>0.795297</td>\n",
       "      <td>0.623652</td>\n",
       "      <td>0.610237</td>\n",
       "      <td>0.020794</td>\n",
       "    </tr>\n",
       "    <tr>\n",
       "      <th>2</th>\n",
       "      <td>1</td>\n",
       "      <td>0.426071</td>\n",
       "      <td>0.499019</td>\n",
       "      <td>0.472295</td>\n",
       "      <td>0.601450</td>\n",
       "      <td>0.601364</td>\n",
       "      <td>0.998857</td>\n",
       "      <td>0.796403</td>\n",
       "      <td>0.808388</td>\n",
       "      <td>0.302035</td>\n",
       "      <td>...</td>\n",
       "      <td>0.336731</td>\n",
       "      <td>0.909903</td>\n",
       "      <td>0.002060</td>\n",
       "      <td>0.538491</td>\n",
       "      <td>0.314515</td>\n",
       "      <td>0.025346</td>\n",
       "      <td>0.774670</td>\n",
       "      <td>0.623841</td>\n",
       "      <td>0.601449</td>\n",
       "      <td>0.016474</td>\n",
       "    </tr>\n",
       "    <tr>\n",
       "      <th>3</th>\n",
       "      <td>1</td>\n",
       "      <td>0.399844</td>\n",
       "      <td>0.451265</td>\n",
       "      <td>0.457733</td>\n",
       "      <td>0.583541</td>\n",
       "      <td>0.583541</td>\n",
       "      <td>0.998700</td>\n",
       "      <td>0.796967</td>\n",
       "      <td>0.808966</td>\n",
       "      <td>0.303350</td>\n",
       "      <td>...</td>\n",
       "      <td>0.348716</td>\n",
       "      <td>0.906902</td>\n",
       "      <td>0.001831</td>\n",
       "      <td>0.604105</td>\n",
       "      <td>0.302382</td>\n",
       "      <td>0.067250</td>\n",
       "      <td>0.739555</td>\n",
       "      <td>0.622929</td>\n",
       "      <td>0.583538</td>\n",
       "      <td>0.023982</td>\n",
       "    </tr>\n",
       "    <tr>\n",
       "      <th>4</th>\n",
       "      <td>1</td>\n",
       "      <td>0.465022</td>\n",
       "      <td>0.538432</td>\n",
       "      <td>0.522298</td>\n",
       "      <td>0.598783</td>\n",
       "      <td>0.598783</td>\n",
       "      <td>0.998973</td>\n",
       "      <td>0.797366</td>\n",
       "      <td>0.809304</td>\n",
       "      <td>0.303475</td>\n",
       "      <td>...</td>\n",
       "      <td>0.344639</td>\n",
       "      <td>0.913850</td>\n",
       "      <td>0.002224</td>\n",
       "      <td>0.578469</td>\n",
       "      <td>0.311567</td>\n",
       "      <td>0.047725</td>\n",
       "      <td>0.795016</td>\n",
       "      <td>0.623521</td>\n",
       "      <td>0.598782</td>\n",
       "      <td>0.035490</td>\n",
       "    </tr>\n",
       "  </tbody>\n",
       "</table>\n",
       "<p>5 rows × 44 columns</p>\n",
       "</div>"
      ],
      "text/plain": [
       "   Bankrupt?   ROA(C) before interest and depreciation before interest  \\\n",
       "0          1                                           0.370594          \n",
       "1          1                                           0.464291          \n",
       "2          1                                           0.426071          \n",
       "3          1                                           0.399844          \n",
       "4          1                                           0.465022          \n",
       "\n",
       "    ROA(A) before interest and % after tax  \\\n",
       "0                                 0.424389   \n",
       "1                                 0.538214   \n",
       "2                                 0.499019   \n",
       "3                                 0.451265   \n",
       "4                                 0.538432   \n",
       "\n",
       "    ROA(B) before interest and depreciation after tax  \\\n",
       "0                                           0.405750    \n",
       "1                                           0.516730    \n",
       "2                                           0.472295    \n",
       "3                                           0.457733    \n",
       "4                                           0.522298    \n",
       "\n",
       "    Operating Gross Margin   Realized Sales Gross Margin  \\\n",
       "0                 0.601457                      0.601457   \n",
       "1                 0.610235                      0.610235   \n",
       "2                 0.601450                      0.601364   \n",
       "3                 0.583541                      0.583541   \n",
       "4                 0.598783                      0.598783   \n",
       "\n",
       "    Operating Profit Rate   Pre-tax net Interest Rate  \\\n",
       "0                0.998969                    0.796887   \n",
       "1                0.998946                    0.797380   \n",
       "2                0.998857                    0.796403   \n",
       "3                0.998700                    0.796967   \n",
       "4                0.998973                    0.797366   \n",
       "\n",
       "    After-tax net Interest Rate   Non-industry income and expenditure/revenue  \\\n",
       "0                      0.808809                                      0.302646   \n",
       "1                      0.809301                                      0.303556   \n",
       "2                      0.808388                                      0.302035   \n",
       "3                      0.808966                                      0.303350   \n",
       "4                      0.809304                                      0.303475   \n",
       "\n",
       "   ...   Operating Funds to Liability   Retained Earnings to Total Assets  \\\n",
       "0  ...                       0.334015                            0.903225   \n",
       "1  ...                       0.341106                            0.931065   \n",
       "2  ...                       0.336731                            0.909903   \n",
       "3  ...                       0.348716                            0.906902   \n",
       "4  ...                       0.344639                            0.913850   \n",
       "\n",
       "    Total income/Total expense   CFO to Assets   Cash Flow to Equity  \\\n",
       "0                     0.002022        0.520382              0.312905   \n",
       "1                     0.002226        0.567101              0.314163   \n",
       "2                     0.002060        0.538491              0.314515   \n",
       "3                     0.001831        0.604105              0.302382   \n",
       "4                     0.002224        0.578469              0.311567   \n",
       "\n",
       "    Current Liability to Current Assets   Net Income to Total Assets  \\\n",
       "0                              0.118250                     0.716845   \n",
       "1                              0.047775                     0.795297   \n",
       "2                              0.025346                     0.774670   \n",
       "3                              0.067250                     0.739555   \n",
       "4                              0.047725                     0.795016   \n",
       "\n",
       "    No-credit Interval   Gross Profit to Sales   Equity to Liability  \n",
       "0             0.622879                0.601453              0.016469  \n",
       "1             0.623652                0.610237              0.020794  \n",
       "2             0.623841                0.601449              0.016474  \n",
       "3             0.622929                0.583538              0.023982  \n",
       "4             0.623521                0.598782              0.035490  \n",
       "\n",
       "[5 rows x 44 columns]"
      ]
     },
     "execution_count": 7,
     "metadata": {},
     "output_type": "execute_result"
    }
   ],
   "source": [
    "# Keep the features with the absoulute value what is higher than 0.3\n",
    "company = company.drop(company.columns[[11, 14, 21,24,25,26,27,28,29,31,35,39,40,41,44,45,46,47,48,49,50,51,53,55,56,57,59,62,63,64,65,66,67,70,71,72,73,74,75,76,77,78,79,80,81,85,87,90,91,92,93,94]], axis=1)\n",
    "# show head of the updated company data\n",
    "company.head()"
   ]
  },
  {
   "cell_type": "markdown",
   "id": "29e6d3f6",
   "metadata": {},
   "source": [
    "## SVM"
   ]
  },
  {
   "cell_type": "code",
   "execution_count": 8,
   "id": "82ee8390",
   "metadata": {},
   "outputs": [],
   "source": [
    "# Create an X-array and assign it to a variable named x\n",
    "x = company.loc[:, company.columns != 'Bankrupt?']\n",
    "# Create an Y-array and assign it to a variable named y\n",
    "y = company['Bankrupt?']\n",
    "# Split the data and do a predictive test, 80% training, 20% validation\n",
    "x_train, x_test, y_train, y_test = train_test_split(x,y,test_size = 0.2)"
   ]
  },
  {
   "cell_type": "code",
   "execution_count": 9,
   "id": "e4789f52",
   "metadata": {},
   "outputs": [],
   "source": [
    "from sklearn.preprocessing import StandardScaler\n",
    "sc = StandardScaler()\n",
    "x_train = sc.fit_transform(x_train)\n",
    "x_test = sc.transform(x_test)"
   ]
  },
  {
   "cell_type": "code",
   "execution_count": 10,
   "id": "d42dc045",
   "metadata": {},
   "outputs": [
    {
     "data": {
      "text/plain": [
       "SVC(random_state=0)"
      ]
     },
     "execution_count": 10,
     "metadata": {},
     "output_type": "execute_result"
    }
   ],
   "source": [
    "from sklearn.svm import SVC\n",
    "classifier = SVC(kernel = 'rbf', random_state = 0)\n",
    "classifier.fit(x_train, y_train)"
   ]
  },
  {
   "cell_type": "code",
   "execution_count": 11,
   "id": "87556fef",
   "metadata": {},
   "outputs": [
    {
     "data": {
      "text/plain": [
       "array([0.96646509, 0.96644664, 0.9669967 ])"
      ]
     },
     "execution_count": 11,
     "metadata": {},
     "output_type": "execute_result"
    }
   ],
   "source": [
    "# Use cross_val_score to evaluate the SVC\n",
    "cross_val_score(classifier, x_train, y_train, cv=3, scoring=\"accuracy\")"
   ]
  },
  {
   "cell_type": "code",
   "execution_count": 12,
   "id": "d36de42e",
   "metadata": {},
   "outputs": [],
   "source": [
    "# Predict Test data\n",
    "y_pred = classifier.predict(x_test)"
   ]
  },
  {
   "cell_type": "code",
   "execution_count": 13,
   "id": "cfd10d2f",
   "metadata": {},
   "outputs": [
    {
     "data": {
      "text/plain": [
       "array([[1327,    0],\n",
       "       [  35,    2]], dtype=int64)"
      ]
     },
     "execution_count": 13,
     "metadata": {},
     "output_type": "execute_result"
    }
   ],
   "source": [
    "# Confusion Matrix\n",
    "from sklearn.metrics import confusion_matrix\n",
    "cm = confusion_matrix(y_test, y_pred)\n",
    "cm"
   ]
  },
  {
   "cell_type": "code",
   "execution_count": 14,
   "id": "f395aa33",
   "metadata": {},
   "outputs": [
    {
     "data": {
      "image/png": "[encoded data removed]",
      "text/plain": [
       "<Figure size 432x288 with 1 Axes>"
      ]
     },
     "metadata": {},
     "output_type": "display_data"
    }
   ],
   "source": [
    "from mlxtend.plotting import plot_confusion_matrix\n",
    "\n",
    "fig, ax = plot_confusion_matrix(conf_mat=cm)\n",
    "plt.show()"
   ]
  },
  {
   "cell_type": "code",
   "execution_count": 15,
   "id": "3e561dcb",
   "metadata": {},
   "outputs": [
    {
     "data": {
      "text/plain": [
       "array([0, 0, 0, ..., 0, 0, 0], dtype=int64)"
      ]
     },
     "execution_count": 15,
     "metadata": {},
     "output_type": "execute_result"
    }
   ],
   "source": [
    "y_pred"
   ]
  },
  {
   "cell_type": "code",
   "execution_count": 16,
   "id": "e94fb210",
   "metadata": {},
   "outputs": [
    {
     "data": {
      "text/plain": [
       "1.0"
      ]
     },
     "execution_count": 16,
     "metadata": {},
     "output_type": "execute_result"
    }
   ],
   "source": [
    "# Calculate Precision for test data\n",
    "svm_precision = precision_score(y_test, y_pred)\n",
    "svm_precision"
   ]
  },
  {
   "cell_type": "code",
   "execution_count": 17,
   "id": "6731a2c6",
   "metadata": {},
   "outputs": [
    {
     "data": {
      "text/plain": [
       "0.05405405405405406"
      ]
     },
     "execution_count": 17,
     "metadata": {},
     "output_type": "execute_result"
    }
   ],
   "source": [
    "# Calculate Recall for test data\n",
    "svm_recall = recall_score(y_test, y_pred)\n",
    "svm_recall"
   ]
  },
  {
   "cell_type": "code",
   "execution_count": 18,
   "id": "6fe4177e",
   "metadata": {},
   "outputs": [
    {
     "data": {
      "text/plain": [
       "0.10256410256410257"
      ]
     },
     "execution_count": 18,
     "metadata": {},
     "output_type": "execute_result"
    }
   ],
   "source": [
    "# Calculate F1 for test data\n",
    "svm_f1 = f1_score(y_test, y_pred)\n",
    "svm_f1"
   ]
  },
  {
   "cell_type": "markdown",
   "id": "e76a082b",
   "metadata": {},
   "source": [
    "### Find threshold"
   ]
  },
  {
   "cell_type": "code",
   "execution_count": 19,
   "id": "b206eafc",
   "metadata": {},
   "outputs": [
    {
     "data": {
      "text/plain": [
       "array([-1.01519044, -1.03372985, -1.02581023, ..., -0.86859356,\n",
       "       -1.03303655, -1.0067602 ])"
      ]
     },
     "execution_count": 19,
     "metadata": {},
     "output_type": "execute_result"
    }
   ],
   "source": [
    "y_scores = classifier.decision_function(x_test)\n",
    "y_scores"
   ]
  },
  {
   "cell_type": "code",
   "execution_count": 20,
   "id": "81319e6a",
   "metadata": {},
   "outputs": [
    {
     "data": {
      "text/plain": [
       "array([False, False, False, ..., False, False, False])"
      ]
     },
     "execution_count": 20,
     "metadata": {},
     "output_type": "execute_result"
    }
   ],
   "source": [
    "threshold = 0\n",
    "y_x_pred = (y_scores > threshold)\n",
    "y_x_pred"
   ]
  },
  {
   "cell_type": "code",
   "execution_count": 21,
   "id": "9cbff063",
   "metadata": {},
   "outputs": [],
   "source": [
    "from sklearn.metrics import precision_recall_curve\n",
    "precisions, recalls, thresholds = precision_recall_curve(y_test, y_scores)"
   ]
  },
  {
   "cell_type": "code",
   "execution_count": 22,
   "id": "d05cf87b",
   "metadata": {},
   "outputs": [
    {
     "data": {
      "image/png": "[encoded data removed]",
      "text/plain": [
       "<Figure size 432x288 with 1 Axes>"
      ]
     },
     "metadata": {},
     "output_type": "display_data"
    }
   ],
   "source": [
    "def plot_precision_recall_vs_threshold(precisions, recalls, thresholds):\n",
    "    plt.plot(thresholds, precisions[:-1], \"b--\", label=\"Precision\")\n",
    "    plt.plot(thresholds, recalls[:-1], \"g-\", label=\"Recall\")\n",
    "    plt.xlabel(\"Threshold\")\n",
    "    plt.legend()\n",
    "    plt.ylim([0, 1])\n",
    "plot_precision_recall_vs_threshold(precisions, recalls, thresholds)\n",
    "plt.show()"
   ]
  },
  {
   "cell_type": "code",
   "execution_count": 23,
   "id": "eb8ee7c1",
   "metadata": {},
   "outputs": [
    {
     "data": {
      "image/png": "[encoded data removed]",
      "text/plain": [
       "<Figure size 432x288 with 1 Axes>"
      ]
     },
     "metadata": {},
     "output_type": "display_data"
    }
   ],
   "source": [
    "def plot_precision_vs_recall(precisions, recalls):\n",
    "    plt.plot(recalls[:-1], precisions[:-1], \"b--\")\n",
    "    plt.xlabel(\"Recall\")\n",
    "    plt.ylabel(\"Precision\")\n",
    "    plt.ylim([0, 1])\n",
    "plot_precision_vs_recall(precisions, recalls)\n",
    "plt.show()"
   ]
  },
  {
   "cell_type": "markdown",
   "id": "08e78b27",
   "metadata": {},
   "source": [
    "### ROC\n"
   ]
  },
  {
   "cell_type": "code",
   "execution_count": 24,
   "id": "9a82d83a",
   "metadata": {},
   "outputs": [],
   "source": [
    "fpr, tpr, thresholds = roc_curve(y_test, y_scores)"
   ]
  },
  {
   "cell_type": "code",
   "execution_count": 25,
   "id": "e2d23839",
   "metadata": {},
   "outputs": [
    {
     "data": {
      "image/png": "[encoded data removed]",
      "text/plain": [
       "<Figure size 432x288 with 1 Axes>"
      ]
     },
     "metadata": {},
     "output_type": "display_data"
    }
   ],
   "source": [
    "def plot_roc_curve(fpr, tpr, label=None):\n",
    "    plt.plot(fpr, tpr, linewidth=2, label=label)\n",
    "    plt.plot([0, 1], [0, 1], 'k--')\n",
    "    plt.axis([0, 1, 0, 1])\n",
    "    plt.xlabel('False Positive Rate')\n",
    "    plt.ylabel('True Positive Rate')\n",
    "plot_roc_curve(fpr, tpr)\n",
    "plt.show()"
   ]
  },
  {
   "cell_type": "code",
   "execution_count": 26,
   "id": "0e117d52",
   "metadata": {},
   "outputs": [
    {
     "data": {
      "text/plain": [
       "0.8548239271675594"
      ]
     },
     "execution_count": 26,
     "metadata": {},
     "output_type": "execute_result"
    }
   ],
   "source": [
    "svm_roc = roc_auc_score(y_test, y_scores)\n",
    "svm_roc"
   ]
  },
  {
   "cell_type": "markdown",
   "id": "99e62625",
   "metadata": {},
   "source": [
    "## Logistic Regression "
   ]
  },
  {
   "cell_type": "code",
   "execution_count": 27,
   "id": "bdbd714f",
   "metadata": {},
   "outputs": [],
   "source": [
    "from sklearn.linear_model import LogisticRegression\n",
    "logreg = LogisticRegression(max_iter=1000)\n",
    "logreg.fit(x_train, y_train)\n",
    "y_pred = logreg.predict(x_test)"
   ]
  },
  {
   "cell_type": "code",
   "execution_count": 28,
   "id": "4190e7d4",
   "metadata": {},
   "outputs": [
    {
     "data": {
      "text/plain": [
       "array([0.96646509, 0.96754675, 0.96644664])"
      ]
     },
     "execution_count": 28,
     "metadata": {},
     "output_type": "execute_result"
    }
   ],
   "source": [
    "# Use cross_val_score to evaluate the Logistic Regression\n",
    "cross_val_score(logreg, x_train, y_train, cv=3, scoring=\"accuracy\")"
   ]
  },
  {
   "cell_type": "code",
   "execution_count": 29,
   "id": "8221cf04",
   "metadata": {},
   "outputs": [],
   "source": [
    "# Predict Test data\n",
    "y_pred = logreg.predict(x_test)"
   ]
  },
  {
   "cell_type": "code",
   "execution_count": 30,
   "id": "ae4db6c7",
   "metadata": {},
   "outputs": [
    {
     "data": {
      "text/plain": [
       "array([[1319,    8],\n",
       "       [  30,    7]], dtype=int64)"
      ]
     },
     "execution_count": 30,
     "metadata": {},
     "output_type": "execute_result"
    }
   ],
   "source": [
    "# Confusion Matrix\n",
    "from sklearn.metrics import confusion_matrix\n",
    "cm = confusion_matrix(y_test, y_pred)\n",
    "cm"
   ]
  },
  {
   "cell_type": "code",
   "execution_count": 31,
   "id": "f35d5000",
   "metadata": {},
   "outputs": [
    {
     "data": {
      "image/png": "[encoded data removed]",
      "text/plain": [
       "<Figure size 432x288 with 1 Axes>"
      ]
     },
     "metadata": {},
     "output_type": "display_data"
    }
   ],
   "source": [
    "fig, ax = plot_confusion_matrix(conf_mat=cm)\n",
    "plt.show()"
   ]
  },
  {
   "cell_type": "code",
   "execution_count": 32,
   "id": "23b15f37",
   "metadata": {},
   "outputs": [
    {
     "data": {
      "text/plain": [
       "0.4666666666666667"
      ]
     },
     "execution_count": 32,
     "metadata": {},
     "output_type": "execute_result"
    }
   ],
   "source": [
    "# Calculate Precision for test data\n",
    "logreg_precision = precision_score(y_test, y_pred)\n",
    "logreg_precision"
   ]
  },
  {
   "cell_type": "code",
   "execution_count": 33,
   "id": "fb4f23b0",
   "metadata": {},
   "outputs": [
    {
     "data": {
      "text/plain": [
       "0.1891891891891892"
      ]
     },
     "execution_count": 33,
     "metadata": {},
     "output_type": "execute_result"
    }
   ],
   "source": [
    "# Calculate Recall for test data\n",
    "logreg_recall = recall_score(y_test, y_pred)\n",
    "logreg_recall"
   ]
  },
  {
   "cell_type": "code",
   "execution_count": 34,
   "id": "51d989c0",
   "metadata": {},
   "outputs": [
    {
     "data": {
      "text/plain": [
       "0.2692307692307693"
      ]
     },
     "execution_count": 34,
     "metadata": {},
     "output_type": "execute_result"
    }
   ],
   "source": [
    "# Calculate F1 for test data\n",
    "logreg_f1 = f1_score(y_test, y_pred)\n",
    "logreg_f1"
   ]
  },
  {
   "cell_type": "markdown",
   "id": "7fb45c66",
   "metadata": {},
   "source": [
    "### Find threshold "
   ]
  },
  {
   "cell_type": "code",
   "execution_count": 35,
   "id": "eefc3706",
   "metadata": {},
   "outputs": [
    {
     "data": {
      "text/plain": [
       "array([-3.9229954 , -4.98780952, -3.02454305, ..., -1.24506571,\n",
       "       -7.73596106, -3.82225122])"
      ]
     },
     "execution_count": 35,
     "metadata": {},
     "output_type": "execute_result"
    }
   ],
   "source": [
    "y_scores = logreg.decision_function(x_test)\n",
    "y_scores"
   ]
  },
  {
   "cell_type": "code",
   "execution_count": 36,
   "id": "af8ac99a",
   "metadata": {},
   "outputs": [
    {
     "data": {
      "text/plain": [
       "array([False, False, False, ..., False, False, False])"
      ]
     },
     "execution_count": 36,
     "metadata": {},
     "output_type": "execute_result"
    }
   ],
   "source": [
    "threshold = 0\n",
    "y_x_pred = (y_scores > threshold)\n",
    "y_x_pred"
   ]
  },
  {
   "cell_type": "code",
   "execution_count": 37,
   "id": "97bc455c",
   "metadata": {},
   "outputs": [],
   "source": [
    "precisions, recalls, thresholds = precision_recall_curve(y_test, y_scores)"
   ]
  },
  {
   "cell_type": "code",
   "execution_count": 38,
   "id": "f695ec81",
   "metadata": {},
   "outputs": [
    {
     "data": {
      "image/png": "[encoded data removed]",
      "text/plain": [
       "<Figure size 432x288 with 1 Axes>"
      ]
     },
     "metadata": {},
     "output_type": "display_data"
    }
   ],
   "source": [
    "plot_precision_recall_vs_threshold(precisions, recalls, thresholds)\n",
    "plt.show()"
   ]
  },
  {
   "cell_type": "code",
   "execution_count": 39,
   "id": "2e3100f9",
   "metadata": {},
   "outputs": [
    {
     "data": {
      "image/png": "[encoded data removed]",
      "text/plain": [
       "<Figure size 432x288 with 1 Axes>"
      ]
     },
     "metadata": {},
     "output_type": "display_data"
    }
   ],
   "source": [
    "plot_precision_vs_recall(precisions, recalls)\n",
    "plt.show()"
   ]
  },
  {
   "cell_type": "markdown",
   "id": "c07d76ed",
   "metadata": {},
   "source": [
    "### ROC "
   ]
  },
  {
   "cell_type": "code",
   "execution_count": 40,
   "id": "f50da62e",
   "metadata": {},
   "outputs": [],
   "source": [
    "fpr2, tpr2, thresholds2 = roc_curve(y_test, y_scores)"
   ]
  },
  {
   "cell_type": "code",
   "execution_count": 41,
   "id": "3849b68f",
   "metadata": {},
   "outputs": [
    {
     "data": {
      "image/png": "[encoded data removed]",
      "text/plain": [
       "<Figure size 432x288 with 1 Axes>"
      ]
     },
     "metadata": {},
     "output_type": "display_data"
    }
   ],
   "source": [
    "plot_roc_curve(fpr2, tpr2)\n",
    "plt.show()"
   ]
  },
  {
   "cell_type": "code",
   "execution_count": 42,
   "id": "25621067",
   "metadata": {},
   "outputs": [
    {
     "data": {
      "text/plain": [
       "0.9042750361514491"
      ]
     },
     "execution_count": 42,
     "metadata": {},
     "output_type": "execute_result"
    }
   ],
   "source": [
    "log_reg_roc = roc_auc_score(y_test, y_scores)\n",
    "log_reg_roc"
   ]
  },
  {
   "cell_type": "markdown",
   "id": "70b614e0",
   "metadata": {},
   "source": [
    "## Naive Bayes"
   ]
  },
  {
   "cell_type": "code",
   "execution_count": 43,
   "id": "80586973",
   "metadata": {},
   "outputs": [],
   "source": [
    "from sklearn.naive_bayes import GaussianNB\n",
    "nb = GaussianNB()\n",
    "nb.fit(x_train, y_train)\n",
    "y_pred = nb.predict(x_test)"
   ]
  },
  {
   "cell_type": "code",
   "execution_count": 44,
   "id": "ae2d860d",
   "metadata": {},
   "outputs": [
    {
     "data": {
      "text/plain": [
       "array([0.96646509, 0.96754675, 0.96644664])"
      ]
     },
     "execution_count": 44,
     "metadata": {},
     "output_type": "execute_result"
    }
   ],
   "source": [
    "# Use cross_val_score to evaluate the Logistic Regression\n",
    "cross_val_score(logreg, x_train, y_train, cv=3, scoring=\"accuracy\")"
   ]
  },
  {
   "cell_type": "code",
   "execution_count": 45,
   "id": "77121787",
   "metadata": {},
   "outputs": [],
   "source": [
    "# Predict Test data\n",
    "y_pred = nb.predict(x_test)"
   ]
  },
  {
   "cell_type": "code",
   "execution_count": 46,
   "id": "04e89ef0",
   "metadata": {},
   "outputs": [
    {
     "data": {
      "text/plain": [
       "array([[338, 989],\n",
       "       [  2,  35]], dtype=int64)"
      ]
     },
     "execution_count": 46,
     "metadata": {},
     "output_type": "execute_result"
    }
   ],
   "source": [
    "# Confusion Matrix\n",
    "cm = confusion_matrix(y_test, y_pred)\n",
    "cm"
   ]
  },
  {
   "cell_type": "code",
   "execution_count": 47,
   "id": "25aa88be",
   "metadata": {},
   "outputs": [
    {
     "data": {
      "image/png": "[encoded data removed]",
      "text/plain": [
       "<Figure size 432x288 with 1 Axes>"
      ]
     },
     "metadata": {},
     "output_type": "display_data"
    }
   ],
   "source": [
    "fig, ax = plot_confusion_matrix(conf_mat=cm)\n",
    "plt.show()"
   ]
  },
  {
   "cell_type": "code",
   "execution_count": 48,
   "id": "4032652f",
   "metadata": {},
   "outputs": [
    {
     "data": {
      "text/plain": [
       "0.0341796875"
      ]
     },
     "execution_count": 48,
     "metadata": {},
     "output_type": "execute_result"
    }
   ],
   "source": [
    "# Calculate Precision for test data\n",
    "nb_precision = precision_score(y_test, y_pred)\n",
    "nb_precision"
   ]
  },
  {
   "cell_type": "code",
   "execution_count": 49,
   "id": "f6069aa4",
   "metadata": {},
   "outputs": [
    {
     "data": {
      "text/plain": [
       "0.9459459459459459"
      ]
     },
     "execution_count": 49,
     "metadata": {},
     "output_type": "execute_result"
    }
   ],
   "source": [
    "# Calculate Recall for test data\n",
    "nb_recall = recall_score(y_test, y_pred)\n",
    "nb_recall"
   ]
  },
  {
   "cell_type": "code",
   "execution_count": 50,
   "id": "b99d0e98",
   "metadata": {},
   "outputs": [
    {
     "data": {
      "text/plain": [
       "0.06597549481621112"
      ]
     },
     "execution_count": 50,
     "metadata": {},
     "output_type": "execute_result"
    }
   ],
   "source": [
    "# Calculate F1 for test data\n",
    "nb_f1 = f1_score(y_test, y_pred)\n",
    "nb_f1"
   ]
  },
  {
   "cell_type": "markdown",
   "id": "0bc42694",
   "metadata": {},
   "source": [
    "### Find threshold "
   ]
  },
  {
   "cell_type": "code",
   "execution_count": 51,
   "id": "35d7c283",
   "metadata": {},
   "outputs": [
    {
     "data": {
      "text/plain": [
       "array([[2.66068203e-10, 1.00000000e+00],\n",
       "       [1.27942085e-05, 9.99987206e-01],\n",
       "       [6.71273868e-14, 1.00000000e+00],\n",
       "       ...,\n",
       "       [2.45278571e-24, 1.00000000e+00],\n",
       "       [5.22472220e-10, 9.99999999e-01],\n",
       "       [9.19551188e-06, 9.99990804e-01]])"
      ]
     },
     "execution_count": 51,
     "metadata": {},
     "output_type": "execute_result"
    }
   ],
   "source": [
    "y_scores = nb.predict_proba(x_test)\n",
    "y_scores"
   ]
  },
  {
   "cell_type": "code",
   "execution_count": 52,
   "id": "4d676031",
   "metadata": {},
   "outputs": [
    {
     "data": {
      "text/plain": [
       "array([[ True,  True],\n",
       "       [ True,  True],\n",
       "       [ True,  True],\n",
       "       ...,\n",
       "       [ True,  True],\n",
       "       [ True,  True],\n",
       "       [ True,  True]])"
      ]
     },
     "execution_count": 52,
     "metadata": {},
     "output_type": "execute_result"
    }
   ],
   "source": [
    "threshold = 0\n",
    "y_x_pred = (y_scores > threshold)\n",
    "y_x_pred"
   ]
  },
  {
   "cell_type": "code",
   "execution_count": 53,
   "id": "a5b630a8",
   "metadata": {},
   "outputs": [],
   "source": [
    "precisions, recalls, thresholds = precision_recall_curve(y_test, y_scores[:, 1])"
   ]
  },
  {
   "cell_type": "code",
   "execution_count": 54,
   "id": "e093f933",
   "metadata": {},
   "outputs": [
    {
     "data": {
      "image/png": "[encoded data removed]",
      "text/plain": [
       "<Figure size 432x288 with 1 Axes>"
      ]
     },
     "metadata": {},
     "output_type": "display_data"
    }
   ],
   "source": [
    "plot_precision_recall_vs_threshold(precisions, recalls, thresholds)\n",
    "plt.show()"
   ]
  },
  {
   "cell_type": "code",
   "execution_count": 55,
   "id": "a61e4b12",
   "metadata": {},
   "outputs": [
    {
     "data": {
      "image/png": "[encoded data removed]",
      "text/plain": [
       "<Figure size 432x288 with 1 Axes>"
      ]
     },
     "metadata": {},
     "output_type": "display_data"
    }
   ],
   "source": [
    "plot_precision_vs_recall(precisions, recalls)\n",
    "plt.show()"
   ]
  },
  {
   "cell_type": "markdown",
   "id": "2c99702a",
   "metadata": {},
   "source": [
    "### ROC "
   ]
  },
  {
   "cell_type": "code",
   "execution_count": 56,
   "id": "b568735f",
   "metadata": {},
   "outputs": [],
   "source": [
    "fpr3, tpr3, thresholds3 = roc_curve(y_test, y_scores[:, 1])"
   ]
  },
  {
   "cell_type": "code",
   "execution_count": 57,
   "id": "c1f9dd9f",
   "metadata": {},
   "outputs": [
    {
     "data": {
      "image/png": "[encoded data removed]",
      "text/plain": [
       "<Figure size 432x288 with 1 Axes>"
      ]
     },
     "metadata": {},
     "output_type": "display_data"
    }
   ],
   "source": [
    "plot_roc_curve(fpr3, tpr3)\n",
    "plt.show()"
   ]
  },
  {
   "cell_type": "code",
   "execution_count": 58,
   "id": "18f5221b",
   "metadata": {},
   "outputs": [
    {
     "data": {
      "text/plain": [
       "0.8695594614961609"
      ]
     },
     "execution_count": 58,
     "metadata": {},
     "output_type": "execute_result"
    }
   ],
   "source": [
    "nb_roc = roc_auc_score(y_test, y_scores[:, 1])\n",
    "nb_roc"
   ]
  },
  {
   "cell_type": "markdown",
   "id": "23eb1121",
   "metadata": {},
   "source": [
    "## Conclusion"
   ]
  },
  {
   "cell_type": "code",
   "execution_count": 78,
   "id": "b2c42b9c",
   "metadata": {},
   "outputs": [
    {
     "data": {
      "image/png": "[encoded data removed]",
      "text/plain": [
       "<Figure size 1152x720 with 1 Axes>"
      ]
     },
     "metadata": {},
     "output_type": "display_data"
    }
   ],
   "source": [
    "# Comparison of SVM,logistic regression and Naïve Bayes models\n",
    "\n",
    "fig = plt.figure(figsize=(16,10))\n",
    "N = 3\n",
    "svm_rate = (svm_precision, svm_recall, svm_f1)\n",
    "logreg_rate = (logreg_precision, logreg_recall, logreg_f1)\n",
    "nb_rate = (nb_precision, nb_recall, nb_f1)\n",
    "\n",
    "ind = np.arange(N) \n",
    "width = 0.2     \n",
    "plt.bar(ind, svm_rate, width, label='SVM')\n",
    "plt.bar(ind + width, logreg_rate, width, label='Logistic Regression')\n",
    "plt.bar(ind + width + width, nb_rate, width, label='Naïve Bayes')\n",
    "\n",
    "\n",
    "plt.title('Comparison')\n",
    "\n",
    "plt.xticks(ind + width / 2, ('Precision', 'Recall', 'F1'))\n",
    "plt.legend(loc='best')\n",
    "plt.show()"
   ]
  },
  {
   "cell_type": "code",
   "execution_count": 79,
   "id": "56b0d5f7",
   "metadata": {},
   "outputs": [
    {
     "data": {
      "image/png": "[encoded data removed]",
      "text/plain": [
       "<Figure size 432x288 with 1 Axes>"
      ]
     },
     "metadata": {},
     "output_type": "display_data"
    }
   ],
   "source": [
    "plt.plot(fpr, tpr, label=\"SVM\")\n",
    "plot_roc_curve(fpr2, tpr2, \"Logistic Regression\")\n",
    "plot_roc_curve(fpr3, tpr3, \"Naïve Bayes\")\n",
    "plt.legend()\n",
    "plt.show()"
   ]
  },
  {
   "cell_type": "code",
   "execution_count": 81,
   "id": "3ee3a120",
   "metadata": {},
   "outputs": [
    {
     "data": {
      "image/png": "[encoded data removed]",
      "text/plain": [
       "<Figure size 432x288 with 1 Axes>"
      ]
     },
     "metadata": {},
     "output_type": "display_data"
    }
   ],
   "source": [
    "objects = ('SVM', 'Logistic Regression', 'Naïve Bayes')\n",
    "y_pos = np.arange(len(objects))\n",
    "performance = [svm_roc,log_reg_roc,nb_roc]\n",
    "\n",
    "plt.bar(y_pos, performance, color=['blue', 'orange', 'green'], align='center', alpha=0.5)\n",
    "plt.xticks(y_pos, objects)\n",
    "plt.title('ROC AUC')\n",
    "\n",
    "plt.show()"
   ]
  },
  {
   "cell_type": "markdown",
   "id": "6b64137d",
   "metadata": {},
   "source": [
    "When the default threshold is 0, the three models have different emphases. SVM has the highest Precision but the lowest Recall; Naive Bayes had the highest Recall, but Precision was the lowest; Logistic Regression was medium in both Precision and Recall, but F1 was far ahead. In addition, the ROC curve and ROC AUC of Logistic Regression also performed best. Therefore, if the threshold value remains unchanged, it is my optimal solution to this problem."
   ]
  },
  {
   "cell_type": "code",
   "execution_count": null,
   "id": "782face8",
   "metadata": {},
   "outputs": [],
   "source": []
  }
 ],
 "metadata": {
  "kernelspec": {
   "display_name": "Python 3 (ipykernel)",
   "language": "python",
   "name": "python3"
  },
  "language_info": {
   "codemirror_mode": {
    "name": "ipython",
    "version": 3
   },
   "file_extension": ".py",
   "mimetype": "text/x-python",
   "name": "python",
   "nbconvert_exporter": "python",
   "pygments_lexer": "ipython3",
   "version": "3.9.7"
  }
 },
 "nbformat": 4,
 "nbformat_minor": 5
}
